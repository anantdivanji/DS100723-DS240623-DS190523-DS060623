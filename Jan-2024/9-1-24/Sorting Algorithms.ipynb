{
 "cells": [
  {
   "cell_type": "markdown",
   "id": "5da4b7c8-9a61-41aa-97e8-5fba89963300",
   "metadata": {},
   "source": [
    "# Types of Sorting Algorithms:\n",
    "1. Bubble Sort\n",
    "2. Insertion Sort\n",
    "3. Quick Sort\n",
    "4. Merge Sort\n",
    "5. Bucket Sort"
   ]
  },
  {
   "cell_type": "markdown",
   "id": "96a33f84-a8f7-4f8d-8087-ed8eb56f29f5",
   "metadata": {},
   "source": [
    "# Bubble Sort\n",
    "\n",
    "- lst = [13, 32, 26, 35, 10, 15, 57, 65]\n",
    "\n",
    "- Access each item from the list using a loop\n",
    "- Iteration I : 13 & 32, Compare 13 & 32, 13 < 32, already sorted.\n",
    "- 32 & 26, Compare 32 & 26, 32 > 26, Swap them, lst = [13, 26, 32, 35, 10, 15, 57, 65]\n",
    "- 32 & 35, Compare 32 & 35, already sorted,\n",
    "- 35 & 10, Compare 35 & 10, 35 > 10, Swap them, lst = [13, 26, 32, 10, 35, 15, 57, 65]\n",
    "- 35 & 15, Compare 35 & 15, 35 > 15, Swap them, lst = [13, 26, 32, 10, 15, 35, 57, 65]\n",
    "- 35 & 57, Compare 35 & 57, 35 < 57, already sorted.\n",
    "- 57 & 65, Compare 57 & 65, 57 < 65, already sorted.\n",
    "- Iteration I : Each element is visited.  lst = [13, 26, 32, 10, 15, 35, 57, 65]\n",
    "- iteration II :  lst = [13, 26, 32, 10, 15, 35, 57, 65]\n",
    "- Compare 13 & 26, already sorted\n",
    "- Compare 26 & 32, already sorted\n",
    "- Compare 32 & 10, 32 > 10, swap them,  lst = [13, 26, 10, 32, 15, 35, 57, 65]\n",
    "- Compare 32 & 15, 32 > 15, swap them, lst = [13, 26, 10, 15, 32, 35, 57, 65]\n",
    "- Compare 32 & 35, already sorted\n",
    "- Compare 35 & 57, already sorted\n",
    "- Compare 57 & 65, already sorted\n",
    "- By the end of Iteration II : lst = [13, 26, 10, 15, 32, 35, 57, 65]\n",
    "- Iteration III: lst = [13, 26, 10, 15, 32, 35, 57, 65]\n",
    "- Compare 13 & 26, already sorted\n",
    "- Compare 26 & 10, 26 > 10, swap them, lst = [13, 10, 26, 15, 32, 35, 57, 65]\n",
    "- Compare 26 & 15, 26 > 15, swap them, lst = [13, 10, 15, 26, 32, 35, 57, 65]\n",
    "- Compare 26, 32, 35, 57, 65, already sorted positions.\n",
    "- By Iteration III : lst = [13, 10, 15, 26, 32, 35, 57, 65]\n",
    "- Iteration IV : lst = [13, 10, 15, 26, 32, 35, 57, 65]\n",
    "- Compare 13 & 10, 13 > 10, Swap them, lst = [10, 13, 15, 26, 32, 35, 57, 65]"
   ]
  },
  {
   "cell_type": "code",
   "execution_count": 1,
   "id": "178727f9-23e0-4ea2-9635-d8751ecac357",
   "metadata": {},
   "outputs": [
    {
     "name": "stdout",
     "output_type": "stream",
     "text": [
      "[10, 13, 15, 26, 32, 35, 57, 65]\n"
     ]
    }
   ],
   "source": [
    "def bubble_sort(lst):\n",
    "    for i in range(len(lst), 1, -1):\n",
    "        for j in range(0, i - 1):\n",
    "            if lst[j] > lst[j + 1]:\n",
    "                lst[j], lst[j + 1] = lst[j + 1], lst[j]\n",
    "            else:\n",
    "                pass\n",
    "    print(lst)\n",
    "\n",
    "bubble_sort([13, 32, 26, 35, 10, 15, 57, 65])"
   ]
  },
  {
   "cell_type": "code",
   "execution_count": 2,
   "id": "4b4a434a-8ed3-456b-aac7-03237b5f5ac2",
   "metadata": {},
   "outputs": [
    {
     "name": "stdout",
     "output_type": "stream",
     "text": [
      "[11, 12, 22, 25, 34, 64, 90]\n"
     ]
    }
   ],
   "source": [
    "bubble_sort([64, 34, 25, 12, 22, 11, 90])"
   ]
  },
  {
   "cell_type": "markdown",
   "id": "c6c4a13e-f844-4e0f-9f1e-a7a20c3c2010",
   "metadata": {},
   "source": [
    "# Quick Sort:\n",
    "- It works on the principle of Divide and Conquer Method\n",
    "- The entire list(array) is divided into half such a way that there is no more division possible.\n",
    "- The Quick Sort Algorithm will use Divide and conquer technique that picks an element as a pivot and partitions the given array or list around the pivot by placing the pivot in its correct position in the sorted array."
   ]
  },
  {
   "cell_type": "markdown",
   "id": "effaed8c-9d75-4fd4-966c-1e2ff1e70573",
   "metadata": {},
   "source": [
    "# Example for Quick Sort:\n",
    "- lst = [10, 25, 70, 30, 90, 40]\n",
    "- Pivot = 40\n",
    "- Compare 10 & Pivot(40), already sorted position.\n",
    "- Compare 25 & Pivot(40), already sorted position.\n",
    "- Compare  70 & Pivot(40), 70 > 40, Swap them, lst = [10, 25, 40, 30, 90, 70]\n",
    "- Compare 40(Pivot) & 30, 40 > 30, Swap them, lst = [10, 25, 30, 40, 90, 70]\n",
    "- Compare 90 & 70, 90 > 70, Swap them, lst = [10, 25, 30, 40, 70, 90]"
   ]
  },
  {
   "cell_type": "code",
   "execution_count": 5,
   "id": "934602c5-270c-40e5-86c6-89cb85e47fac",
   "metadata": {},
   "outputs": [
    {
     "name": "stdout",
     "output_type": "stream",
     "text": [
      "[1, 5, 7, 8, 9, 10]\n"
     ]
    }
   ],
   "source": [
    "def partition(lst, low, high):\n",
    "    pivot = lst[high]   # Chosing the right most element as pivot\n",
    "    i = low - 1      # Indicator for the greater element\n",
    "    \n",
    "    # Traverse through all the elements and compare each element with the pivot\n",
    "    for j in range(low, high):\n",
    "        if lst[j] <= pivot:\n",
    "            i = i + 1   # if element smaller than pivot is found then swap it with the greater element\n",
    "            (lst[i], lst[j]) = (lst[j], lst[i])\n",
    "\n",
    "    # Swap the pivot element with the greater element\n",
    "    (lst[i+1], lst[high]) = (lst[high], lst[i+1])\n",
    "\n",
    "    return i + 1\n",
    "\n",
    "# Function to perform quick sort\n",
    "def quicksort(lst, low, high):\n",
    "    if low < high:\n",
    "        pi = partition(lst, low, high)\n",
    "        quicksort(lst, low, pi - 1)\n",
    "        quicksort(lst, pi + 1, high)\n",
    "\n",
    "print(lst)\n",
    "\n",
    "lst = [10, 7, 8, 9, 1, 5]\n",
    "N = len(lst)\n",
    "\n",
    "quicksort(lst, 0, N - 1)   "
   ]
  },
  {
   "cell_type": "markdown",
   "id": "0a7c36ad-aa05-4fe5-815a-a66253bd8c54",
   "metadata": {},
   "source": [
    "# Merge Sort:\n",
    "- Works on the concept of Divide and conquer\n",
    "- the list gets divided into half until there is no more division possible.\n",
    "\n",
    "- lst = [38, 25, 43, 18, 57, 69, 23, 11]\n",
    "- lst1 = [38, 25, 43, 18] & lst2 = [57, 69, 23, 11]\n",
    "- lst11 = [38, 25] & lst12 = [43, 18] & lst21 = [57, 69] & lst22 = [23, 11]\n",
    "- lst111 = [38], lst112 = [25] & lst121 = [43], lst122 = [18], & lst211 = [57], lst212 = [69] & lst221 = [23] & lst222 = [11]\n",
    "- lst11 = [25, 38] & lst12 = [18, 43] & lst21 = [57, 69] & lst22 = [11, 23]\n",
    "- lst1 = [18, 25, 38, 43] & lst2 = [11, 23, 57, 69]\n",
    "- lst = [11, 18, 23, 25, 43, 57, 69]"
   ]
  },
  {
   "cell_type": "code",
   "execution_count": 15,
   "id": "287cdabd-ba1c-4c52-bff4-0be16bc6a224",
   "metadata": {},
   "outputs": [
    {
     "name": "stdout",
     "output_type": "stream",
     "text": [
      "38 25 43 18 57 69 23 11 \n",
      "11 18 23 25 38 43 57 69 \n"
     ]
    }
   ],
   "source": [
    "def mergeSort(lst):\n",
    "    if len(lst) > 1:\n",
    "\n",
    "        ## Find the mid of the lst\n",
    "        mid = len(lst) // 2\n",
    "\n",
    "        ## Divide the list into half\n",
    "        L = lst[:mid]\n",
    "        R = lst[mid:]\n",
    "\n",
    "        mergeSort(L)\n",
    "        mergeSort(R)\n",
    "\n",
    "        i = j = k = 0\n",
    "\n",
    "        # Copy the data to temp lst L[] & R[]\n",
    "        while i < len(L) and j < len(R):\n",
    "            if L[i] <= R[j]:\n",
    "                lst[k] = L[i]\n",
    "                i = i + 1\n",
    "            else:\n",
    "                lst[k] = R[j]\n",
    "                j = j + 1\n",
    "            k = k + 1\n",
    "\n",
    "        # Check if any element was left\n",
    "        while i < len(L):\n",
    "            lst[k] = L[i]\n",
    "            i = i + 1\n",
    "            k = k + 1\n",
    "        while j < len(R):\n",
    "            lst[k] = R[j]\n",
    "            j = j + 1\n",
    "            k = k + 1\n",
    "\n",
    "def printList(lst):\n",
    "    for i in range(len(lst)):\n",
    "        print(lst[i], end = \" \")\n",
    "    print()\n",
    "\n",
    "\n",
    "lst = [38, 25, 43, 18, 57, 69, 23, 11]\n",
    "printList(lst)\n",
    "mergeSort(lst)\n",
    "printList(lst)"
   ]
  },
  {
   "cell_type": "markdown",
   "id": "7d58d899-d8db-43c8-917a-5cf06a15ed15",
   "metadata": {},
   "source": [
    "# Insertion Sort:\n",
    "- It is a simple sorting algorithm that works similar to the way you sort the playing cards in your hands.\n",
    "- The array is virtually split into a sorted array and an unsorted array. Values from the unsorted part are picked and placed at the correct positions in the sorted part."
   ]
  },
  {
   "cell_type": "markdown",
   "id": "dc8ac374-b958-4d33-9bd0-085e0bc2ffba",
   "metadata": {},
   "source": [
    "# Example:\n",
    "\n",
    "- lst = [54, 75, 12, 38, 18, 49, 22, 14]\n",
    "- Compare 54 & 75, already sorted\n",
    "- Compare 54 & 12, 54 > 12, hence swap them, lst = [12, 75, 54, 38, 18, 49, 22, 14]\n",
    "- Compare 12 & 38, already sorted\n",
    "- Compare 12 & 18, already sorted\n",
    "- Compare 12 & 49, already sorted\n",
    "- Compare 12 & 22, already sorted\n",
    "- Compare 12 & 14, already sorted\n",
    "- Iteration I : lst = [12, 75, 54, 38, 18, 49, 22, 14]\n",
    "- Iteration II : lst = [12, 75, 54, 38, 18, 49, 22, 14]\n",
    "- Compare 75 & 54, 75 > 54, swap them, lst = [12, 54, 75, 38, 18, 49, 22, 14]\n",
    "- Compare 54 & 38, 54 > 38, swap them, lst = [12, 38, 75, 54, 18, 49, 22, 14]\n",
    "- "
   ]
  },
  {
   "cell_type": "code",
   "execution_count": 17,
   "id": "dae4b7ee-d8cb-40f0-83d0-3a87636ada82",
   "metadata": {},
   "outputs": [
    {
     "name": "stdout",
     "output_type": "stream",
     "text": [
      "[12, 14, 18, 22, 38, 49, 54, 75]\n"
     ]
    }
   ],
   "source": [
    "def insertionSort(lst):\n",
    "    for i in range(1, len(lst)):\n",
    "        key = lst[i]\n",
    "\n",
    "\n",
    "        # Move elements of lst[0 ...... i - 1], that are greater than key, to one position ahead of their current position\n",
    "        j = i - 1\n",
    "        while j >= 0 and key < lst[j]:\n",
    "            lst[j + 1] = lst[j]\n",
    "            j = j - 1\n",
    "        lst[j+1] = key\n",
    "\n",
    "print(lst)\n",
    "lst = [54, 75, 12, 38, 18, 49, 22, 14]\n",
    "insertionSort(lst)"
   ]
  },
  {
   "cell_type": "code",
   "execution_count": null,
   "id": "8f3e821f-f697-4e96-9b9f-82f7faad7181",
   "metadata": {},
   "outputs": [],
   "source": []
  }
 ],
 "metadata": {
  "kernelspec": {
   "display_name": "Python 3 (ipykernel)",
   "language": "python",
   "name": "python3"
  },
  "language_info": {
   "codemirror_mode": {
    "name": "ipython",
    "version": 3
   },
   "file_extension": ".py",
   "mimetype": "text/x-python",
   "name": "python",
   "nbconvert_exporter": "python",
   "pygments_lexer": "ipython3",
   "version": "3.9.18"
  }
 },
 "nbformat": 4,
 "nbformat_minor": 5
}
