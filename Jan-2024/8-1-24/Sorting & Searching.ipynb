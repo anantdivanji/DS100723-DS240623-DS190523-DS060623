{
 "cells": [
  {
   "cell_type": "markdown",
   "id": "64665bfb-02b4-4bdb-a9eb-00f6b70b0603",
   "metadata": {},
   "source": [
    "# What is a data structure?\n",
    "- A Data Structure is way to store data values irrespective of any programming language.\n",
    "- Python DS : list, tuple, arrays, Series, DataFrame, dictionary, Strings, Sets, etc.\n",
    "\n",
    "# What is Algorithm?\n",
    "- A step by step process to achieve a certain task."
   ]
  },
  {
   "cell_type": "markdown",
   "id": "4fefef1c-720e-4371-a67b-9a8320d4057f",
   "metadata": {},
   "source": [
    "# Types of Algorithms:\n",
    "1. Search Based Algorithms\n",
    "2. Sorting Based Algorithms"
   ]
  },
  {
   "cell_type": "markdown",
   "id": "276eca4f-9808-49e1-9037-4b67115342e2",
   "metadata": {},
   "source": [
    "# 1. Seaching Based Algorithms :\n",
    "- In a search based algorithm we are trying to find whether a key value exists inside a Data structure.\n",
    "\n",
    "a. Linear Search Algorithm      \n",
    "b. Binary Search Algorithm"
   ]
  },
  {
   "cell_type": "markdown",
   "id": "59727a3a-1990-499e-ae46-6dca5b03472e",
   "metadata": {},
   "source": [
    "# a. Linear Search Algorithm:\n",
    "Input : A list(array) of multiple values and a key value     \n",
    "Task: Check whether the key value exists inside the list       \n",
    "Output : If key value exists in the list then the output should be \"Found\" and return the index value. If Key value does not exit then the output should be \"Not Found\""
   ]
  },
  {
   "cell_type": "markdown",
   "id": "c7ee461d-f092-494a-876f-57cb366845bd",
   "metadata": {},
   "source": [
    "# Example: to understand the working of Linear Search Algorithm:\n",
    "\n",
    "- lst = [70, 40, 30, 11, 57, 41, 25, 14, 52]\n",
    "- value to be searched inside the list : Key value: k = 41\n",
    "## Solution: Loop through the complete list starting from the element:\n",
    "- lst[0] == 41   =>   70 == 40 =>  False\n",
    "- lst[1] == 41   =>   40 == 41 => False\n",
    "- lst[2] == 41   =>   30 == 41 => False\n",
    "- lst[3] == 41   =>   11 == 41 => False\n",
    "- lst[4] == 41   =>   51 == 41 => False\n",
    "- lst[5] == 41   =>   41 == 41 => True\n",
    "- Stop and print a message Found and Display the index of the number => index value = 5"
   ]
  },
  {
   "cell_type": "markdown",
   "id": "f65f5bfd-9575-4443-998a-8118a70edb6d",
   "metadata": {},
   "source": [
    "### Pseudo Code:\n",
    "1. fuction linear_search(list, key_value):\n",
    "2. Inside the function, for each item in list:\n",
    "3. if item equals key_value:\n",
    "4. return the index of the item.\n",
    "5. return -1     // if key_value not found then return -1"
   ]
  },
  {
   "cell_type": "code",
   "execution_count": 5,
   "id": "574d2e98-b5ba-4df1-940d-4d3f0a58fc0a",
   "metadata": {},
   "outputs": [
    {
     "name": "stdout",
     "output_type": "stream",
     "text": [
      "target 41 found at index location 5.\n"
     ]
    }
   ],
   "source": [
    "def linear_search(lst, key_value):\n",
    "    for i in range(len(lst)):\n",
    "        if lst[i] == key_value:\n",
    "            return i\n",
    "    return -1\n",
    "\n",
    "my_list = [70, 40, 30, 11, 57, 41, 25, 14, 52]\n",
    "key = 41\n",
    "result = linear_search(my_list, key)\n",
    "\n",
    "if result != -1:\n",
    "    print(f\"target {key} found at index location {result}.\")\n",
    "else:\n",
    "    print(f\"target {key} not found in the list\")\n"
   ]
  },
  {
   "cell_type": "markdown",
   "id": "f2ae722a-72f6-48ca-a1c2-a53004e0e2b1",
   "metadata": {},
   "source": [
    "# b. Binary Search:\n",
    "\n",
    "Input : lst(array) of values and a target_value     \n",
    "Task : Find whether the target_value is present inside the list(array)     \n",
    "Output : If found then return index value else return -1"
   ]
  },
  {
   "cell_type": "markdown",
   "id": "1a9e5183-10a3-4404-afa2-721c88cdc8ca",
   "metadata": {},
   "source": [
    "- lst = [10, 12, 24, 29, 39, 40, 51, 56, 59, 98, 114]    \n",
    "- target_value = 56\n",
    "\n",
    "#### Solution: \n",
    "1. start_index = 0\n",
    "2. end_index = 10 (len(lst) - 1)\n",
    "3. middle_index =   0 + 10 // 2 = 5       {(start_index + end_index) // 2 }\n",
    "\n",
    "4. Compare the value at middle index and target_value value (Compare 40 & 56)   "
   ]
  },
  {
   "cell_type": "markdown",
   "id": "21fd34e0-d5d3-432a-a113-92f4c1a28753",
   "metadata": {},
   "source": [
    "# Pseudo Code:\n",
    "function binary_search(sorted_list, target_value):\n",
    "    start_index = 0\n",
    "    ending_index = length of the list - 1\n",
    "\n",
    "    while start_index <= ending_index:\n",
    "        mid_index = (start_index + ending_index) // 2\n",
    "        if sorted_list[mid_index] == target_value:\n",
    "            return mid_index\n",
    "        elif sorted_list[mid_index] < target_value:\n",
    "            start_index = mid_index + 1                   # it means target_value is on the right half\n",
    "        else:\n",
    "            end_index = mid_index - 1                     # it means target_value is on the left half"
   ]
  },
  {
   "cell_type": "code",
   "execution_count": 10,
   "id": "3ceba1a6-3338-4b80-8773-09ecd0382eb1",
   "metadata": {},
   "outputs": [
    {
     "name": "stdout",
     "output_type": "stream",
     "text": [
      "target 75 not found in the list\n"
     ]
    }
   ],
   "source": [
    "def binary_search(sorted_list, target):\n",
    "    start_ind = 0\n",
    "    end_ind = len(sorted_list) - 1\n",
    "\n",
    "    while start_ind <= end_ind:\n",
    "        mid_ind = (start_ind + end_ind) // 2\n",
    "        if sorted_list[mid_ind] == target:\n",
    "            return mid_ind\n",
    "        elif sorted_list[mid_ind] < target:\n",
    "            start_ind = mid_ind + 1\n",
    "        else:\n",
    "            end_ind = mid_ind - 1\n",
    "    return - 1\n",
    "\n",
    "my_list = [1, 3, 4, 5, 6, 9, 11, 15, 18, 20]\n",
    "target_value = 75\n",
    "result = binary_search(my_list, target_value)\n",
    "\n",
    "if result != -1:\n",
    "    print(f\"target {target_value} found at index location {result}.\")\n",
    "else:\n",
    "    print(f\"target {target_value} not found in the list\")\n",
    "    "
   ]
  },
  {
   "cell_type": "markdown",
   "id": "311073d4-3e4a-401d-b555-478e66508d67",
   "metadata": {},
   "source": [
    "# Sorting Algorithms:\n",
    "- Sort the values inside a list\n",
    "### Types of Sorting Algorithm:\n",
    "1. Bubble Sort\n",
    "2. Selection Sort\n",
    "3. Insertion Sort"
   ]
  },
  {
   "cell_type": "code",
   "execution_count": 12,
   "id": "3cce87db-0ddb-4cd3-a94a-1e13da3afd0e",
   "metadata": {},
   "outputs": [
    {
     "data": {
      "text/plain": [
       "[2, 5, 10, 20, 45]"
      ]
     },
     "execution_count": 12,
     "metadata": {},
     "output_type": "execute_result"
    }
   ],
   "source": [
    "lst = [20, 45, 10, 5, 2]\n",
    "sorted(lst)"
   ]
  },
  {
   "cell_type": "markdown",
   "id": "f7b68244-d729-4c46-a82e-59d1ae00f732",
   "metadata": {},
   "source": [
    "#### Swapping the nos inside a list"
   ]
  },
  {
   "cell_type": "code",
   "execution_count": 13,
   "id": "aba3cc37-3edb-449c-a431-567aa66fb77d",
   "metadata": {},
   "outputs": [
    {
     "name": "stdout",
     "output_type": "stream",
     "text": [
      "[5, 10]\n"
     ]
    }
   ],
   "source": [
    "lst = [10, 5]   ## Sort this list\n",
    "if lst[0] > lst[1]:\n",
    "    temp = lst[0]\n",
    "    lst[0] = lst[1]\n",
    "    lst[1] = temp\n",
    "print(lst)"
   ]
  },
  {
   "cell_type": "code",
   "execution_count": 14,
   "id": "7c33d277-fe7d-4400-b37e-80073f9941d4",
   "metadata": {},
   "outputs": [],
   "source": [
    "a = 10\n",
    "b = 20\n",
    "\n",
    "a, b = b, a"
   ]
  },
  {
   "cell_type": "code",
   "execution_count": 15,
   "id": "89d48427-983d-40f4-90f1-cf530864a044",
   "metadata": {},
   "outputs": [
    {
     "data": {
      "text/plain": [
       "20"
      ]
     },
     "execution_count": 15,
     "metadata": {},
     "output_type": "execute_result"
    }
   ],
   "source": [
    "a"
   ]
  },
  {
   "cell_type": "code",
   "execution_count": 16,
   "id": "a1707c63-961a-4514-80b7-ae1f86ebd0d8",
   "metadata": {},
   "outputs": [
    {
     "data": {
      "text/plain": [
       "10"
      ]
     },
     "execution_count": 16,
     "metadata": {},
     "output_type": "execute_result"
    }
   ],
   "source": [
    "b"
   ]
  },
  {
   "cell_type": "code",
   "execution_count": null,
   "id": "998f7790-01bb-43c5-af4d-3cf1c0996c39",
   "metadata": {},
   "outputs": [],
   "source": []
  }
 ],
 "metadata": {
  "kernelspec": {
   "display_name": "Python 3 (ipykernel)",
   "language": "python",
   "name": "python3"
  },
  "language_info": {
   "codemirror_mode": {
    "name": "ipython",
    "version": 3
   },
   "file_extension": ".py",
   "mimetype": "text/x-python",
   "name": "python",
   "nbconvert_exporter": "python",
   "pygments_lexer": "ipython3",
   "version": "3.9.18"
  }
 },
 "nbformat": 4,
 "nbformat_minor": 5
}
