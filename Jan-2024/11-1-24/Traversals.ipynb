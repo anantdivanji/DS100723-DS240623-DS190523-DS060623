{
 "cells": [
  {
   "cell_type": "markdown",
   "id": "e99ca8b1-98f2-4d15-b914-b31d1c414625",
   "metadata": {},
   "source": [
    "# Pre Order Traversal:"
   ]
  },
  {
   "cell_type": "code",
   "execution_count": 4,
   "id": "65ba18ee-042b-4b1f-bcfe-ba54e5d120f7",
   "metadata": {},
   "outputs": [
    {
     "name": "stdout",
     "output_type": "stream",
     "text": [
      "Preorder traversal of binary tree is :\n",
      "1 2 4 5 3 6 "
     ]
    }
   ],
   "source": [
    "# Strucuture of the binary tree nodes:\n",
    "\n",
    "class Node:\n",
    "    def __init__(self, v):\n",
    "        self.data = v\n",
    "        self.left = None\n",
    "        self.right = None\n",
    "\n",
    "\n",
    "## Function for printing preorder traversal\n",
    "\n",
    "def printPreorder(node):\n",
    "    if node is None:\n",
    "        return\n",
    "\n",
    "    ## Deal with the node\n",
    "    print(node.data, end =\" \")\n",
    "\n",
    "    ## Print the left subtree\n",
    "    printPreorder(node.left)\n",
    "\n",
    "    ## Print the right subtree\n",
    "    printPreorder(node.right)\n",
    "\n",
    "## Driver code\n",
    "if __name__ == '__main__':\n",
    "    root = Node(1)\n",
    "    root.left = Node(2)\n",
    "    root.right = Node(3)\n",
    "    root.left.left = Node(4)\n",
    "    root.left.right = Node(5)\n",
    "    root.right.right = Node(6)\n",
    "\n",
    "    # Function call\n",
    "    print('Preorder traversal of binary tree is :')\n",
    "    printPreorder(root)"
   ]
  },
  {
   "cell_type": "markdown",
   "id": "1a81b914-76d6-4d7c-aa4b-bceb6e152cd3",
   "metadata": {},
   "source": [
    "# Post Order \n",
    "# Inorder "
   ]
  },
  {
   "cell_type": "code",
   "execution_count": null,
   "id": "580daec0-f37a-424a-9e7e-b982df7c2870",
   "metadata": {},
   "outputs": [],
   "source": []
  }
 ],
 "metadata": {
  "kernelspec": {
   "display_name": "Python 3 (ipykernel)",
   "language": "python",
   "name": "python3"
  },
  "language_info": {
   "codemirror_mode": {
    "name": "ipython",
    "version": 3
   },
   "file_extension": ".py",
   "mimetype": "text/x-python",
   "name": "python",
   "nbconvert_exporter": "python",
   "pygments_lexer": "ipython3",
   "version": "3.9.18"
  }
 },
 "nbformat": 4,
 "nbformat_minor": 5
}
