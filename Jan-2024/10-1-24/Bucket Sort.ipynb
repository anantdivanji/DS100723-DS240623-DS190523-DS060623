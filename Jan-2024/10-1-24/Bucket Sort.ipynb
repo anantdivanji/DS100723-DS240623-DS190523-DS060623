{
 "cells": [
  {
   "cell_type": "markdown",
   "id": "ef1ec7b5-4a8c-4c30-8e70-8c32dd846a48",
   "metadata": {},
   "source": [
    "# Bucket Sort:\n",
    "- In this algorithm, the items of the list are seperated into multiple groups that are said to be buckets.\n",
    "- Elements in bucket sort are first uniformly divivded into groups called buckets and then they are sorted by using some sorting algorithms\n",
    "- After sorting, the items are gathered in a sorted manner.\n",
    "- The basic procedure for performing bucket sort is as follows\n",
    "- 1. First, partition the range into a fixed number of buckets.\n",
    "  2. Then, toss every element into its appropriate bucket\n",
    "  3. After that, Sort each bucket individually by applying some sorting algorithm\n",
    "  4. And finally, concatenate all the sorted buckets.\n",
    " \n",
    "# Example:\n",
    "- lst = [10, 8, 20, 7, 16, 18, 12, 1, 23, 11]\n",
    "- Create buckets with a range 0 to 25.\n",
    "- The range can be 0-5, 6-10, 11-15, 16-20, 21-25.\n",
    "- Insert the elements from the list into these buckets.\n",
    "- For example, lets say the value is 16, it should fall into 16-20 bucket range.\n",
    "- Bucket 0-5 : 1\n",
    "- Bucket 6-10 : 8,7\n",
    "- Bucket 11-15 : 10, 12, 11\n",
    "- Bucket 16-20 : 20, 16, 18\n",
    "- Bucket 21-25 : 23\n",
    "\n",
    "- Now, sort each bucket individually. The elements of each bucket can be sorted using any of the sorting algorithms.\n",
    "- Bucket 0-5 : 1\n",
    "- Bucket 6-10 : 7,8\n",
    "- Bucket 11-15 : 10, 11, 12\n",
    "- Bucket 16-20 : 16, 18, 20\n",
    "- Bucket 21-25 : 23\n",
    "\n",
    "- Concatenate each bucket to get a sorted list\n",
    "- Sorted list = [1, 7, 8, 10, 11, 12, 16, 18, 20, 23]"
   ]
  },
  {
   "cell_type": "markdown",
   "id": "1712705f-da63-4860-85f9-035ddc19ab57",
   "metadata": {},
   "source": [
    "# Bucket Sort Code:"
   ]
  },
  {
   "cell_type": "code",
   "execution_count": 3,
   "id": "b342604e-d415-4d30-9275-14ae40a83a30",
   "metadata": {},
   "outputs": [
    {
     "name": "stdout",
     "output_type": "stream",
     "text": [
      "[1, 7, 8, 10, 11, 12, 16, 18, 20, 23]\n"
     ]
    }
   ],
   "source": [
    "def bucket_sort(lst):\n",
    "\n",
    "    # Calculate the min, max and the range of bucket\n",
    "    min_val = min(lst)\n",
    "    max_val = max(lst)\n",
    "    bucket_range = (max_val - min_val) / (len(lst) - 1)\n",
    "\n",
    "    # Create empty bucket as defined by the bucket range\n",
    "    buckets = [[] for _ in range(len(lst))]\n",
    "\n",
    "    # Adding the number from the list to their respective buckets\n",
    "    for num in lst:\n",
    "        index = int((num - min_val) / bucket_range)\n",
    "        buckets[index].append(num)\n",
    "\n",
    "    # Sorting the numbers inside the buckets\n",
    "    for i in range(len(lst)):\n",
    "        insertion_sort(buckets[i])\n",
    "\n",
    "    # Creating an empty list\n",
    "    sorted_lst = []\n",
    "\n",
    "    # Joining the bucket inorder to get back to the single sorted list\n",
    "    for bucket in buckets:\n",
    "        sorted_lst.extend(bucket)\n",
    "    return sorted_lst\n",
    "\n",
    "\n",
    "# Defining the insertion sort for sorting the values individually inside the bucket\n",
    "def insertion_sort(lst):\n",
    "    for i in range(1, len(lst)):\n",
    "        key = lst[i]\n",
    "        j = i - 1\n",
    "        while j >= 0 and key < lst[j]:\n",
    "            lst[j+1] = lst[j]\n",
    "            j = j - 1\n",
    "        lst[j+1] = key\n",
    "\n",
    "\n",
    "#lst = [10, 9, 98, 22, 34, 26]\n",
    "lst = [10, 8, 20, 7, 16, 18, 12, 1, 23, 11]\n",
    "sorted_arr = bucket_sort(lst)\n",
    "print(sorted_arr)\n",
    "        "
   ]
  },
  {
   "cell_type": "code",
   "execution_count": null,
   "id": "2f59cf6a-884b-41a4-8b36-94b535d6aae9",
   "metadata": {},
   "outputs": [],
   "source": []
  }
 ],
 "metadata": {
  "kernelspec": {
   "display_name": "Python 3 (ipykernel)",
   "language": "python",
   "name": "python3"
  },
  "language_info": {
   "codemirror_mode": {
    "name": "ipython",
    "version": 3
   },
   "file_extension": ".py",
   "mimetype": "text/x-python",
   "name": "python",
   "nbconvert_exporter": "python",
   "pygments_lexer": "ipython3",
   "version": "3.9.18"
  }
 },
 "nbformat": 4,
 "nbformat_minor": 5
}
