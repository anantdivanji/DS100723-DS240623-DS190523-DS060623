{
 "cells": [
  {
   "cell_type": "markdown",
   "id": "a477865c",
   "metadata": {},
   "source": [
    "# Linear Regression:\n",
    "\n",
    "- The Linear line obtained from the Linear Regression Algorithm, we call it as best fit line.\n",
    "- Best fit line is a line which passes through the maximum points from the dataset.\n",
    "- The error on both sides of the line should balanced and as close to zero as possible.\n",
    "\n",
    "- From above, we can see that in order to find the best fit line, we have to make sure that the error on both sides of the line is balanced. Hence we shift the complete focus to error. \n",
    "- We also understand that the error should be as close to zero as possible. But in real time datasets, we cannot make the error as completely zero. \n",
    "- Since error cannot be zero the idea is to minimize the error."
   ]
  },
  {
   "cell_type": "markdown",
   "id": "6606e684",
   "metadata": {},
   "source": [
    "- From all above statements it is clear that the linear regression line is a best fit line only when the \"error is minimum\".\n",
    "- In ordor to minimize the error, the linear Regression algorithm takes help of Gradient Descent Algorithm."
   ]
  },
  {
   "cell_type": "markdown",
   "id": "97f37d06",
   "metadata": {},
   "source": [
    "# What is Gradient Descent Algorithm?\n",
    "\n",
    "- Gradient Descent is an optimization algorithm used in Machine Learning to minimize the cost function by iteratively adjusting the parameters in the direction of the negative gradient, amining to find the optimal set of parameters.\n",
    "\n",
    "## What is a cost function means?\n",
    "- The difference between the actual output and the predicted output we call it as cost function."
   ]
  },
  {
   "cell_type": "markdown",
   "id": "37d46684",
   "metadata": {},
   "source": [
    "# Gradient Descent Algorithm:\n",
    "\n",
    "- Objective : Minimize a cost function\n",
    "- Starting Point : Random Initialization\n",
    "- Direction : Follow the slope Downhill\n",
    "- Step size : Learning Rate\n",
    "- Iterative Process : Repeat untill you reach the valley\n",
    "- Convergence : Stop when you are close enough"
   ]
  },
  {
   "cell_type": "markdown",
   "id": "2e24ac4e",
   "metadata": {},
   "source": [
    "Imagine : Eyes closed with a band and taken to a hill. Task : You have to find water present at the bottom of the hill in order to drink water."
   ]
  },
  {
   "cell_type": "markdown",
   "id": "c703c985",
   "metadata": {},
   "source": [
    "## Linear Regression using Gradient Descent Simulator link:\n",
    "https://www.mladdict.com/linear-regression-simulator"
   ]
  },
  {
   "cell_type": "code",
   "execution_count": null,
   "id": "f0f56f32",
   "metadata": {},
   "outputs": [],
   "source": []
  }
 ],
 "metadata": {
  "kernelspec": {
   "display_name": "Python 3 (ipykernel)",
   "language": "python",
   "name": "python3"
  },
  "language_info": {
   "codemirror_mode": {
    "name": "ipython",
    "version": 3
   },
   "file_extension": ".py",
   "mimetype": "text/x-python",
   "name": "python",
   "nbconvert_exporter": "python",
   "pygments_lexer": "ipython3",
   "version": "3.9.16"
  }
 },
 "nbformat": 4,
 "nbformat_minor": 5
}
