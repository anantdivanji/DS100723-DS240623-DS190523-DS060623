{
 "cells": [
  {
   "cell_type": "code",
   "execution_count": 1,
   "id": "6f57a86f",
   "metadata": {},
   "outputs": [],
   "source": [
    "import numpy as np\n",
    "import pandas as pd"
   ]
  },
  {
   "cell_type": "code",
   "execution_count": 2,
   "id": "5ef5cdf1",
   "metadata": {},
   "outputs": [
    {
     "data": {
      "text/plain": [
       "[[25, 50, 75], [100, 125, 150], [175, 200, 250]]"
      ]
     },
     "execution_count": 2,
     "metadata": {},
     "output_type": "execute_result"
    }
   ],
   "source": [
    "ls = [[25, 50, 75], [100, 125 , 150], [175, 200, 250]]\n",
    "ls"
   ]
  },
  {
   "cell_type": "code",
   "execution_count": 4,
   "id": "c39c55cd",
   "metadata": {},
   "outputs": [
    {
     "data": {
      "text/plain": [
       "array([[ 25,  50,  75],\n",
       "       [100, 125, 150],\n",
       "       [175, 200, 250]])"
      ]
     },
     "execution_count": 4,
     "metadata": {},
     "output_type": "execute_result"
    }
   ],
   "source": [
    "arr = np.array(ls)\n",
    "arr"
   ]
  },
  {
   "cell_type": "code",
   "execution_count": 5,
   "id": "b4a8d5af",
   "metadata": {},
   "outputs": [
    {
     "data": {
      "text/plain": [
       "array([10, 20, 30, 40])"
      ]
     },
     "execution_count": 5,
     "metadata": {},
     "output_type": "execute_result"
    }
   ],
   "source": [
    "np.array([10, 20, 30, 40])"
   ]
  },
  {
   "cell_type": "markdown",
   "id": "44da134e",
   "metadata": {},
   "source": [
    "# Indexing of a 2D array"
   ]
  },
  {
   "cell_type": "code",
   "execution_count": 6,
   "id": "7dea04de",
   "metadata": {},
   "outputs": [
    {
     "data": {
      "text/plain": [
       "array([100, 125, 150])"
      ]
     },
     "execution_count": 6,
     "metadata": {},
     "output_type": "execute_result"
    }
   ],
   "source": [
    "arr[1]"
   ]
  },
  {
   "cell_type": "code",
   "execution_count": 7,
   "id": "e2258760",
   "metadata": {},
   "outputs": [
    {
     "data": {
      "text/plain": [
       "array([175, 200, 250])"
      ]
     },
     "execution_count": 7,
     "metadata": {},
     "output_type": "execute_result"
    }
   ],
   "source": [
    "arr[2]"
   ]
  },
  {
   "cell_type": "code",
   "execution_count": 8,
   "id": "93621db6",
   "metadata": {},
   "outputs": [
    {
     "data": {
      "text/plain": [
       "array([[ 25,  50,  75],\n",
       "       [100, 125, 150],\n",
       "       [175, 200, 250]])"
      ]
     },
     "execution_count": 8,
     "metadata": {},
     "output_type": "execute_result"
    }
   ],
   "source": [
    "arr"
   ]
  },
  {
   "cell_type": "code",
   "execution_count": 9,
   "id": "1ac68b60",
   "metadata": {},
   "outputs": [
    {
     "data": {
      "text/plain": [
       "array([100, 125, 150])"
      ]
     },
     "execution_count": 9,
     "metadata": {},
     "output_type": "execute_result"
    }
   ],
   "source": [
    "## Display 125 in the output\n",
    "\n",
    "arr[1]"
   ]
  },
  {
   "cell_type": "code",
   "execution_count": 10,
   "id": "b9924be5",
   "metadata": {},
   "outputs": [
    {
     "data": {
      "text/plain": [
       "125"
      ]
     },
     "execution_count": 10,
     "metadata": {},
     "output_type": "execute_result"
    }
   ],
   "source": [
    "arr[1][1]"
   ]
  },
  {
   "cell_type": "code",
   "execution_count": 11,
   "id": "e3f4e443",
   "metadata": {},
   "outputs": [
    {
     "data": {
      "text/plain": [
       "200"
      ]
     },
     "execution_count": 11,
     "metadata": {},
     "output_type": "execute_result"
    }
   ],
   "source": [
    "## Display 200 in the output\n",
    "\n",
    "arr[2][1]"
   ]
  },
  {
   "cell_type": "code",
   "execution_count": 13,
   "id": "884eaba8",
   "metadata": {},
   "outputs": [
    {
     "data": {
      "text/plain": [
       "200"
      ]
     },
     "execution_count": 13,
     "metadata": {},
     "output_type": "execute_result"
    }
   ],
   "source": [
    "## Display 200 in the output\n",
    "arr[2 , 1]"
   ]
  },
  {
   "cell_type": "code",
   "execution_count": 14,
   "id": "8c120e5f",
   "metadata": {},
   "outputs": [
    {
     "data": {
      "text/plain": [
       "array([[ 25,  50,  75],\n",
       "       [100, 125, 150],\n",
       "       [175, 200, 250]])"
      ]
     },
     "execution_count": 14,
     "metadata": {},
     "output_type": "execute_result"
    }
   ],
   "source": [
    "arr"
   ]
  },
  {
   "cell_type": "code",
   "execution_count": 15,
   "id": "86c58df8",
   "metadata": {},
   "outputs": [
    {
     "data": {
      "text/plain": [
       "100"
      ]
     },
     "execution_count": 15,
     "metadata": {},
     "output_type": "execute_result"
    }
   ],
   "source": [
    "## Display 100 in the output\n",
    "\n",
    "arr[1, 0]"
   ]
  },
  {
   "cell_type": "code",
   "execution_count": 16,
   "id": "2f44b042",
   "metadata": {},
   "outputs": [
    {
     "data": {
      "text/plain": [
       "array([ 50, 125, 200])"
      ]
     },
     "execution_count": 16,
     "metadata": {},
     "output_type": "execute_result"
    }
   ],
   "source": [
    "## Display the col 50, 125, and 200 which is col number 1 in the output\n",
    "\n",
    "arr[:, 1]"
   ]
  },
  {
   "cell_type": "code",
   "execution_count": 17,
   "id": "af2c6c32",
   "metadata": {},
   "outputs": [
    {
     "data": {
      "text/plain": [
       "array([[125, 150],\n",
       "       [200, 250]])"
      ]
     },
     "execution_count": 17,
     "metadata": {},
     "output_type": "execute_result"
    }
   ],
   "source": [
    "## Display [[125, 150], [200, 250]] in the output\n",
    "\n",
    "arr[1:, 1:]"
   ]
  },
  {
   "cell_type": "code",
   "execution_count": 18,
   "id": "9b68f9c2",
   "metadata": {},
   "outputs": [
    {
     "data": {
      "text/plain": [
       "array([[ 25,  50,  75],\n",
       "       [100, 125, 150],\n",
       "       [175, 200, 250]])"
      ]
     },
     "execution_count": 18,
     "metadata": {},
     "output_type": "execute_result"
    }
   ],
   "source": [
    "arr"
   ]
  },
  {
   "cell_type": "code",
   "execution_count": 24,
   "id": "ec9ca49c",
   "metadata": {},
   "outputs": [
    {
     "data": {
      "text/plain": [
       "array([[125, 150],\n",
       "       [200, 250]])"
      ]
     },
     "execution_count": 24,
     "metadata": {},
     "output_type": "execute_result"
    }
   ],
   "source": [
    "arr[1:3, 1:3]"
   ]
  },
  {
   "cell_type": "code",
   "execution_count": 25,
   "id": "083a7a2d",
   "metadata": {},
   "outputs": [
    {
     "data": {
      "text/plain": [
       "array([[125, 150],\n",
       "       [200, 250]])"
      ]
     },
     "execution_count": 25,
     "metadata": {},
     "output_type": "execute_result"
    }
   ],
   "source": [
    "arr[1:, 1:]"
   ]
  },
  {
   "cell_type": "markdown",
   "id": "3543365a",
   "metadata": {},
   "source": [
    "## Converting 1D array into a 2D array"
   ]
  },
  {
   "cell_type": "code",
   "execution_count": 27,
   "id": "33bd2927",
   "metadata": {},
   "outputs": [
    {
     "data": {
      "text/plain": [
       "array([39,  7, 29, 38, 48, 27, 47, 42, 13])"
      ]
     },
     "execution_count": 27,
     "metadata": {},
     "output_type": "execute_result"
    }
   ],
   "source": [
    "arr1 = np.random.randint(5, 50, 9)\n",
    "arr1"
   ]
  },
  {
   "cell_type": "code",
   "execution_count": 28,
   "id": "99710a46",
   "metadata": {},
   "outputs": [
    {
     "data": {
      "text/plain": [
       "1"
      ]
     },
     "execution_count": 28,
     "metadata": {},
     "output_type": "execute_result"
    }
   ],
   "source": [
    "arr1.ndim"
   ]
  },
  {
   "cell_type": "code",
   "execution_count": 32,
   "id": "9fb8f076",
   "metadata": {},
   "outputs": [
    {
     "data": {
      "text/plain": [
       "array([[39,  7, 29],\n",
       "       [38, 48, 27],\n",
       "       [47, 42, 13]])"
      ]
     },
     "execution_count": 32,
     "metadata": {},
     "output_type": "execute_result"
    }
   ],
   "source": [
    "arr1_2d = arr1.reshape((3, 3))\n",
    "arr1_2d"
   ]
  },
  {
   "cell_type": "code",
   "execution_count": 33,
   "id": "fbd6f4e9",
   "metadata": {},
   "outputs": [
    {
     "data": {
      "text/plain": [
       "2"
      ]
     },
     "execution_count": 33,
     "metadata": {},
     "output_type": "execute_result"
    }
   ],
   "source": [
    "arr1_2d.ndim"
   ]
  },
  {
   "cell_type": "code",
   "execution_count": 34,
   "id": "7ccec6b4",
   "metadata": {},
   "outputs": [
    {
     "ename": "ValueError",
     "evalue": "cannot reshape array of size 9 into shape (2,3)",
     "output_type": "error",
     "traceback": [
      "\u001b[1;31m---------------------------------------------------------------------------\u001b[0m",
      "\u001b[1;31mValueError\u001b[0m                                Traceback (most recent call last)",
      "Cell \u001b[1;32mIn[34], line 1\u001b[0m\n\u001b[1;32m----> 1\u001b[0m arr1_2d \u001b[38;5;241m=\u001b[39m \u001b[43marr1\u001b[49m\u001b[38;5;241;43m.\u001b[39;49m\u001b[43mreshape\u001b[49m\u001b[43m(\u001b[49m\u001b[43m(\u001b[49m\u001b[38;5;241;43m2\u001b[39;49m\u001b[43m,\u001b[49m\u001b[43m \u001b[49m\u001b[38;5;241;43m3\u001b[39;49m\u001b[43m)\u001b[49m\u001b[43m)\u001b[49m\n",
      "\u001b[1;31mValueError\u001b[0m: cannot reshape array of size 9 into shape (2,3)"
     ]
    }
   ],
   "source": [
    "arr1_2d = arr1.reshape((2, 3))"
   ]
  },
  {
   "cell_type": "code",
   "execution_count": 35,
   "id": "ebb69322",
   "metadata": {},
   "outputs": [
    {
     "data": {
      "text/plain": [
       "array([ 89, 135,  62, 147,  69, 121, 140,  76, 114,  78, 115, 148])"
      ]
     },
     "execution_count": 35,
     "metadata": {},
     "output_type": "execute_result"
    }
   ],
   "source": [
    "arr2 = np.random.randint(50, 150, 12)\n",
    "arr2"
   ]
  },
  {
   "cell_type": "code",
   "execution_count": 36,
   "id": "b50b8b64",
   "metadata": {},
   "outputs": [
    {
     "data": {
      "text/plain": [
       "1"
      ]
     },
     "execution_count": 36,
     "metadata": {},
     "output_type": "execute_result"
    }
   ],
   "source": [
    "arr2.ndim"
   ]
  },
  {
   "cell_type": "code",
   "execution_count": 37,
   "id": "449a2ef8",
   "metadata": {},
   "outputs": [
    {
     "data": {
      "text/plain": [
       "array([[ 89, 135,  62, 147],\n",
       "       [ 69, 121, 140,  76],\n",
       "       [114,  78, 115, 148]])"
      ]
     },
     "execution_count": 37,
     "metadata": {},
     "output_type": "execute_result"
    }
   ],
   "source": [
    "arr2_2d = arr2.reshape((3, 4))\n",
    "arr2_2d"
   ]
  },
  {
   "cell_type": "code",
   "execution_count": 38,
   "id": "f92b8d13",
   "metadata": {},
   "outputs": [
    {
     "data": {
      "text/plain": [
       "array([[ 89, 135],\n",
       "       [ 62, 147],\n",
       "       [ 69, 121],\n",
       "       [140,  76],\n",
       "       [114,  78],\n",
       "       [115, 148]])"
      ]
     },
     "execution_count": 38,
     "metadata": {},
     "output_type": "execute_result"
    }
   ],
   "source": [
    "arr2_2d = arr2.reshape((6,2))\n",
    "arr2_2d"
   ]
  },
  {
   "cell_type": "markdown",
   "id": "e7277eb8",
   "metadata": {},
   "source": [
    "## Note:\n",
    "\n",
    "- reshape() - takes in values for rows and columns. 1st value is always a total rows value and 2nd value is for columns\n",
    "- rows * cols = total len of the array"
   ]
  },
  {
   "cell_type": "code",
   "execution_count": 39,
   "id": "439085b5",
   "metadata": {},
   "outputs": [
    {
     "data": {
      "text/plain": [
       "array([39,  7, 29, 38, 48, 27, 47, 42, 13])"
      ]
     },
     "execution_count": 39,
     "metadata": {},
     "output_type": "execute_result"
    }
   ],
   "source": [
    "arr1"
   ]
  },
  {
   "cell_type": "code",
   "execution_count": 40,
   "id": "dc42ffc5",
   "metadata": {},
   "outputs": [
    {
     "data": {
      "text/plain": [
       "array([39,  7, 29, 38, 48, 27, 47, 42, 13, 39,  7, 29, 38, 48, 27, 47, 42,\n",
       "       13])"
      ]
     },
     "execution_count": 40,
     "metadata": {},
     "output_type": "execute_result"
    }
   ],
   "source": [
    "## resize()\n",
    "\n",
    "arr1_resized = np.resize(arr1, 18)\n",
    "arr1_resized"
   ]
  },
  {
   "cell_type": "code",
   "execution_count": 41,
   "id": "50843f60",
   "metadata": {},
   "outputs": [
    {
     "data": {
      "text/plain": [
       "array([39,  7, 29, 38, 48, 27, 47, 42, 13, 39,  7, 29, 38])"
      ]
     },
     "execution_count": 41,
     "metadata": {},
     "output_type": "execute_result"
    }
   ],
   "source": [
    "arr1_resized = np.resize(arr1, 13)\n",
    "arr1_resized"
   ]
  },
  {
   "cell_type": "code",
   "execution_count": 42,
   "id": "bbaf85dd",
   "metadata": {},
   "outputs": [
    {
     "data": {
      "text/plain": [
       "array([39,  7, 29, 38, 48, 27, 47, 42, 13])"
      ]
     },
     "execution_count": 42,
     "metadata": {},
     "output_type": "execute_result"
    }
   ],
   "source": [
    "arr1"
   ]
  },
  {
   "cell_type": "markdown",
   "id": "e83bad24",
   "metadata": {},
   "source": [
    "## Converting a 2D array into 1D array"
   ]
  },
  {
   "cell_type": "code",
   "execution_count": 43,
   "id": "63abf6cb",
   "metadata": {},
   "outputs": [
    {
     "data": {
      "text/plain": [
       "array([ 38, 105,  81,  66, 111,  42,  77,  57,  35,  77,  62, 106, 114,\n",
       "        99,  32])"
      ]
     },
     "execution_count": 43,
     "metadata": {},
     "output_type": "execute_result"
    }
   ],
   "source": [
    "arr1 = np.random.randint(25, 125, 15)\n",
    "arr1"
   ]
  },
  {
   "cell_type": "code",
   "execution_count": 44,
   "id": "f9751299",
   "metadata": {},
   "outputs": [
    {
     "data": {
      "text/plain": [
       "array([[ 38, 105,  81],\n",
       "       [ 66, 111,  42],\n",
       "       [ 77,  57,  35],\n",
       "       [ 77,  62, 106],\n",
       "       [114,  99,  32]])"
      ]
     },
     "execution_count": 44,
     "metadata": {},
     "output_type": "execute_result"
    }
   ],
   "source": [
    "arr1_2d = arr1.reshape((5, 3))\n",
    "arr1_2d"
   ]
  },
  {
   "cell_type": "code",
   "execution_count": 46,
   "id": "8cdcdeca",
   "metadata": {},
   "outputs": [
    {
     "data": {
      "text/plain": [
       "array([ 38, 105,  81,  66, 111,  42,  77,  57,  35,  77,  62, 106, 114,\n",
       "        99,  32])"
      ]
     },
     "execution_count": 46,
     "metadata": {},
     "output_type": "execute_result"
    }
   ],
   "source": [
    "arr2 = arr1_2d.flatten()\n",
    "arr2"
   ]
  },
  {
   "cell_type": "code",
   "execution_count": 47,
   "id": "c1a436a6",
   "metadata": {},
   "outputs": [
    {
     "data": {
      "text/plain": [
       "array([ 38, 105,  81,  66, 111,  42,  77,  57,  35,  77,  62, 106, 114,\n",
       "        99,  32])"
      ]
     },
     "execution_count": 47,
     "metadata": {},
     "output_type": "execute_result"
    }
   ],
   "source": [
    "arr3 = np.ravel(arr1_2d)\n",
    "arr3"
   ]
  },
  {
   "cell_type": "markdown",
   "id": "2ca5c7c3",
   "metadata": {},
   "source": [
    "## Note: \n",
    "\n",
    "- To convert a 2D array into 1D array we use, flatten() or ravel()\n",
    "- What is the difference between flatten() and ravel()?"
   ]
  },
  {
   "cell_type": "code",
   "execution_count": 49,
   "id": "cdba60f7",
   "metadata": {},
   "outputs": [
    {
     "data": {
      "text/plain": [
       "array([ 68,  59,  94, 147,  56,  67, 103,  93])"
      ]
     },
     "execution_count": 49,
     "metadata": {},
     "output_type": "execute_result"
    }
   ],
   "source": [
    "## How to get a 3D array\n",
    "\n",
    "arr1 = np.random.randint(50, 150, 8)\n",
    "arr1"
   ]
  },
  {
   "cell_type": "code",
   "execution_count": 52,
   "id": "6014d506",
   "metadata": {},
   "outputs": [
    {
     "data": {
      "text/plain": [
       "array([[[ 68,  59],\n",
       "        [ 94, 147]],\n",
       "\n",
       "       [[ 56,  67],\n",
       "        [103,  93]]])"
      ]
     },
     "execution_count": 52,
     "metadata": {},
     "output_type": "execute_result"
    }
   ],
   "source": [
    "arr1_3d = arr1.reshape((2,2,2))\n",
    "arr1_3d"
   ]
  },
  {
   "cell_type": "code",
   "execution_count": 53,
   "id": "6cd3c224",
   "metadata": {},
   "outputs": [
    {
     "data": {
      "text/plain": [
       "3"
      ]
     },
     "execution_count": 53,
     "metadata": {},
     "output_type": "execute_result"
    }
   ],
   "source": [
    "arr1_3d.ndim"
   ]
  },
  {
   "cell_type": "markdown",
   "id": "3fdbb8b8",
   "metadata": {},
   "source": [
    "## Speical Funcitons"
   ]
  },
  {
   "cell_type": "code",
   "execution_count": 54,
   "id": "ac1d1edd",
   "metadata": {},
   "outputs": [
    {
     "data": {
      "text/plain": [
       "array([[80, 79, 76, 65],\n",
       "       [69, 58, 98, 89],\n",
       "       [94, 84, 50, 70]])"
      ]
     },
     "execution_count": 54,
     "metadata": {},
     "output_type": "execute_result"
    }
   ],
   "source": [
    "arr = np.random.randint(50, 100, 12).reshape((3,4))\n",
    "arr"
   ]
  },
  {
   "cell_type": "code",
   "execution_count": 55,
   "id": "84ffbaba",
   "metadata": {},
   "outputs": [
    {
     "data": {
      "text/plain": [
       "array([[80, 69, 94],\n",
       "       [79, 58, 84],\n",
       "       [76, 98, 50],\n",
       "       [65, 89, 70]])"
      ]
     },
     "execution_count": 55,
     "metadata": {},
     "output_type": "execute_result"
    }
   ],
   "source": [
    "arr.T"
   ]
  },
  {
   "cell_type": "markdown",
   "id": "b0ce95f1",
   "metadata": {},
   "source": [
    "- The above operation where the rows of the original array are converted to columns in the output is called as transposing"
   ]
  },
  {
   "cell_type": "code",
   "execution_count": 56,
   "id": "9f1cb8a5",
   "metadata": {},
   "outputs": [
    {
     "data": {
      "text/plain": [
       "array([[80, 79, 76, 65],\n",
       "       [69, 58, 98, 89],\n",
       "       [94, 84, 50, 70]])"
      ]
     },
     "execution_count": 56,
     "metadata": {},
     "output_type": "execute_result"
    }
   ],
   "source": [
    "arr"
   ]
  },
  {
   "cell_type": "code",
   "execution_count": 57,
   "id": "1cd9a9f0",
   "metadata": {},
   "outputs": [
    {
     "data": {
      "text/plain": [
       "912"
      ]
     },
     "execution_count": 57,
     "metadata": {},
     "output_type": "execute_result"
    }
   ],
   "source": [
    "np.sum(arr)"
   ]
  },
  {
   "cell_type": "code",
   "execution_count": 58,
   "id": "34d17188",
   "metadata": {},
   "outputs": [
    {
     "data": {
      "text/plain": [
       "array([243, 221, 224, 224])"
      ]
     },
     "execution_count": 58,
     "metadata": {},
     "output_type": "execute_result"
    }
   ],
   "source": [
    "np.sum(arr, axis = 0)"
   ]
  },
  {
   "cell_type": "code",
   "execution_count": 59,
   "id": "97341ecd",
   "metadata": {},
   "outputs": [
    {
     "data": {
      "text/plain": [
       "array([300, 314, 298])"
      ]
     },
     "execution_count": 59,
     "metadata": {},
     "output_type": "execute_result"
    }
   ],
   "source": [
    "np.sum(arr, axis  = 1)"
   ]
  },
  {
   "cell_type": "markdown",
   "id": "c5770929",
   "metadata": {},
   "source": [
    "## Note: \n",
    "\n",
    "- axis = 1 is for horizontal axis(rows)\n",
    "- axis = 0 is for vertical axis(cols)\n",
    "- Default will be always axis = 0"
   ]
  },
  {
   "cell_type": "code",
   "execution_count": 60,
   "id": "e0ca8771",
   "metadata": {},
   "outputs": [
    {
     "data": {
      "text/plain": [
       "array([[80, 79, 76, 65],\n",
       "       [69, 58, 98, 89],\n",
       "       [94, 84, 50, 70]])"
      ]
     },
     "execution_count": 60,
     "metadata": {},
     "output_type": "execute_result"
    }
   ],
   "source": [
    "arr"
   ]
  },
  {
   "cell_type": "code",
   "execution_count": 61,
   "id": "83f91d0d",
   "metadata": {},
   "outputs": [
    {
     "data": {
      "text/plain": [
       "array([75. , 78.5, 74.5])"
      ]
     },
     "execution_count": 61,
     "metadata": {},
     "output_type": "execute_result"
    }
   ],
   "source": [
    "np.mean(arr, axis = 1)"
   ]
  },
  {
   "cell_type": "code",
   "execution_count": 62,
   "id": "bfc5725c",
   "metadata": {},
   "outputs": [
    {
     "data": {
      "text/plain": [
       "array([81.        , 73.66666667, 74.66666667, 74.66666667])"
      ]
     },
     "execution_count": 62,
     "metadata": {},
     "output_type": "execute_result"
    }
   ],
   "source": [
    "np.mean(arr, axis = 0)"
   ]
  },
  {
   "cell_type": "markdown",
   "id": "6f9ffb1d",
   "metadata": {},
   "source": [
    "## Splitting the array"
   ]
  },
  {
   "cell_type": "code",
   "execution_count": 74,
   "id": "6005bad1",
   "metadata": {},
   "outputs": [
    {
     "data": {
      "text/plain": [
       "array([44, 41, 20, 43, 31, 39, 19, 39, 26])"
      ]
     },
     "execution_count": 74,
     "metadata": {},
     "output_type": "execute_result"
    }
   ],
   "source": [
    "arr1 = np.random.randint(10, 50, 9)\n",
    "arr1"
   ]
  },
  {
   "cell_type": "code",
   "execution_count": 75,
   "id": "f83fc97d",
   "metadata": {},
   "outputs": [],
   "source": [
    "a1, a2, a3 = np.split(arr1, 3)"
   ]
  },
  {
   "cell_type": "code",
   "execution_count": 76,
   "id": "edd6ab5e",
   "metadata": {},
   "outputs": [
    {
     "data": {
      "text/plain": [
       "array([44, 41, 20])"
      ]
     },
     "execution_count": 76,
     "metadata": {},
     "output_type": "execute_result"
    }
   ],
   "source": [
    "a1"
   ]
  },
  {
   "cell_type": "code",
   "execution_count": 77,
   "id": "983bc27d",
   "metadata": {},
   "outputs": [
    {
     "data": {
      "text/plain": [
       "array([43, 31, 39])"
      ]
     },
     "execution_count": 77,
     "metadata": {},
     "output_type": "execute_result"
    }
   ],
   "source": [
    "a2"
   ]
  },
  {
   "cell_type": "code",
   "execution_count": 78,
   "id": "14173803",
   "metadata": {},
   "outputs": [
    {
     "data": {
      "text/plain": [
       "array([19, 39, 26])"
      ]
     },
     "execution_count": 78,
     "metadata": {},
     "output_type": "execute_result"
    }
   ],
   "source": [
    "a3"
   ]
  },
  {
   "cell_type": "markdown",
   "id": "5ad17de0",
   "metadata": {},
   "source": [
    "## Concatenating the array"
   ]
  },
  {
   "cell_type": "code",
   "execution_count": 80,
   "id": "8c1bdb59",
   "metadata": {},
   "outputs": [
    {
     "data": {
      "text/plain": [
       "array([[10, 11, 12],\n",
       "       [13, 14, 15],\n",
       "       [16, 17, 18]])"
      ]
     },
     "execution_count": 80,
     "metadata": {},
     "output_type": "execute_result"
    }
   ],
   "source": [
    "arr1 = np.arange(10, 19).reshape((3,3))\n",
    "arr1"
   ]
  },
  {
   "cell_type": "code",
   "execution_count": 81,
   "id": "5ef42d0d",
   "metadata": {},
   "outputs": [
    {
     "data": {
      "text/plain": [
       "array([[20, 21, 22],\n",
       "       [23, 24, 25],\n",
       "       [26, 27, 28]])"
      ]
     },
     "execution_count": 81,
     "metadata": {},
     "output_type": "execute_result"
    }
   ],
   "source": [
    "arr2 = np.arange(20, 29).reshape((3,3))\n",
    "arr2"
   ]
  },
  {
   "cell_type": "code",
   "execution_count": 82,
   "id": "e3216735",
   "metadata": {},
   "outputs": [
    {
     "data": {
      "text/plain": [
       "array([[10, 11, 12],\n",
       "       [13, 14, 15],\n",
       "       [16, 17, 18],\n",
       "       [20, 21, 22],\n",
       "       [23, 24, 25],\n",
       "       [26, 27, 28]])"
      ]
     },
     "execution_count": 82,
     "metadata": {},
     "output_type": "execute_result"
    }
   ],
   "source": [
    "np.concatenate([arr1, arr2], axis = 0) # axis = 0 is for horizontal axis"
   ]
  },
  {
   "cell_type": "code",
   "execution_count": 83,
   "id": "a9bb5261",
   "metadata": {},
   "outputs": [
    {
     "data": {
      "text/plain": [
       "array([[10, 11, 12, 20, 21, 22],\n",
       "       [13, 14, 15, 23, 24, 25],\n",
       "       [16, 17, 18, 26, 27, 28]])"
      ]
     },
     "execution_count": 83,
     "metadata": {},
     "output_type": "execute_result"
    }
   ],
   "source": [
    "np.concatenate([arr1, arr2], axis = 1)"
   ]
  },
  {
   "cell_type": "markdown",
   "id": "41053c0c",
   "metadata": {},
   "source": [
    "## Note:\n",
    "- axis = 0 is for one below the other. (axis = 0 is the default axis)\n",
    "- axis = 1 is for side by side"
   ]
  },
  {
   "cell_type": "code",
   "execution_count": 84,
   "id": "af2f80a5",
   "metadata": {},
   "outputs": [
    {
     "data": {
      "text/plain": [
       "array([[10, 11],\n",
       "       [12, 13]])"
      ]
     },
     "execution_count": 84,
     "metadata": {},
     "output_type": "execute_result"
    }
   ],
   "source": [
    "arr3 = np.arange(10, 14).reshape(2, 2)\n",
    "arr3"
   ]
  },
  {
   "cell_type": "code",
   "execution_count": 86,
   "id": "1c171883",
   "metadata": {},
   "outputs": [
    {
     "ename": "ValueError",
     "evalue": "all the input array dimensions for the concatenation axis must match exactly, but along dimension 0, the array at index 0 has size 3 and the array at index 1 has size 2",
     "output_type": "error",
     "traceback": [
      "\u001b[1;31m---------------------------------------------------------------------------\u001b[0m",
      "\u001b[1;31mValueError\u001b[0m                                Traceback (most recent call last)",
      "Cell \u001b[1;32mIn[86], line 1\u001b[0m\n\u001b[1;32m----> 1\u001b[0m \u001b[43mnp\u001b[49m\u001b[38;5;241;43m.\u001b[39;49m\u001b[43mconcatenate\u001b[49m\u001b[43m(\u001b[49m\u001b[43m[\u001b[49m\u001b[43marr1\u001b[49m\u001b[43m,\u001b[49m\u001b[43m \u001b[49m\u001b[43marr3\u001b[49m\u001b[43m]\u001b[49m\u001b[43m,\u001b[49m\u001b[43m \u001b[49m\u001b[43maxis\u001b[49m\u001b[43m \u001b[49m\u001b[38;5;241;43m=\u001b[39;49m\u001b[43m \u001b[49m\u001b[38;5;241;43m1\u001b[39;49m\u001b[43m)\u001b[49m\n",
      "File \u001b[1;32m<__array_function__ internals>:180\u001b[0m, in \u001b[0;36mconcatenate\u001b[1;34m(*args, **kwargs)\u001b[0m\n",
      "\u001b[1;31mValueError\u001b[0m: all the input array dimensions for the concatenation axis must match exactly, but along dimension 0, the array at index 0 has size 3 and the array at index 1 has size 2"
     ]
    }
   ],
   "source": [
    "np.concatenate([arr1, arr3], axis = 1)"
   ]
  },
  {
   "cell_type": "markdown",
   "id": "dda47fba",
   "metadata": {},
   "source": [
    "## hstack and vstack"
   ]
  },
  {
   "cell_type": "code",
   "execution_count": 87,
   "id": "ce808994",
   "metadata": {},
   "outputs": [
    {
     "data": {
      "text/plain": [
       "array([[10, 11, 12],\n",
       "       [13, 14, 15],\n",
       "       [16, 17, 18]])"
      ]
     },
     "execution_count": 87,
     "metadata": {},
     "output_type": "execute_result"
    }
   ],
   "source": [
    "arr1"
   ]
  },
  {
   "cell_type": "code",
   "execution_count": 88,
   "id": "c36b97f4",
   "metadata": {},
   "outputs": [
    {
     "data": {
      "text/plain": [
       "array([[20, 21, 22],\n",
       "       [23, 24, 25],\n",
       "       [26, 27, 28]])"
      ]
     },
     "execution_count": 88,
     "metadata": {},
     "output_type": "execute_result"
    }
   ],
   "source": [
    "arr2"
   ]
  },
  {
   "cell_type": "code",
   "execution_count": 89,
   "id": "cca950bb",
   "metadata": {},
   "outputs": [
    {
     "data": {
      "text/plain": [
       "array([[10, 11, 12],\n",
       "       [13, 14, 15],\n",
       "       [16, 17, 18],\n",
       "       [20, 21, 22],\n",
       "       [23, 24, 25],\n",
       "       [26, 27, 28]])"
      ]
     },
     "execution_count": 89,
     "metadata": {},
     "output_type": "execute_result"
    }
   ],
   "source": [
    "np.vstack([arr1, arr2])   "
   ]
  },
  {
   "cell_type": "code",
   "execution_count": 90,
   "id": "92abfef1",
   "metadata": {},
   "outputs": [
    {
     "data": {
      "text/plain": [
       "array([[10, 11, 12],\n",
       "       [13, 14, 15],\n",
       "       [16, 17, 18],\n",
       "       [20, 21, 22],\n",
       "       [23, 24, 25],\n",
       "       [26, 27, 28]])"
      ]
     },
     "execution_count": 90,
     "metadata": {},
     "output_type": "execute_result"
    }
   ],
   "source": [
    "np.concatenate([arr1, arr2], axis = 0)"
   ]
  },
  {
   "cell_type": "code",
   "execution_count": 91,
   "id": "54a25c09",
   "metadata": {},
   "outputs": [
    {
     "data": {
      "text/plain": [
       "array([[10, 11, 12, 20, 21, 22],\n",
       "       [13, 14, 15, 23, 24, 25],\n",
       "       [16, 17, 18, 26, 27, 28]])"
      ]
     },
     "execution_count": 91,
     "metadata": {},
     "output_type": "execute_result"
    }
   ],
   "source": [
    "np.hstack([arr1, arr2])"
   ]
  },
  {
   "cell_type": "code",
   "execution_count": 92,
   "id": "22ac76a4",
   "metadata": {},
   "outputs": [
    {
     "data": {
      "text/plain": [
       "array([[10, 11, 12, 20, 21, 22],\n",
       "       [13, 14, 15, 23, 24, 25],\n",
       "       [16, 17, 18, 26, 27, 28]])"
      ]
     },
     "execution_count": 92,
     "metadata": {},
     "output_type": "execute_result"
    }
   ],
   "source": [
    "np.concatenate([arr1, arr2], axis = 1)"
   ]
  },
  {
   "cell_type": "markdown",
   "id": "21661e39",
   "metadata": {},
   "source": [
    "## Load the flower image"
   ]
  },
  {
   "cell_type": "code",
   "execution_count": 93,
   "id": "a4153efa",
   "metadata": {},
   "outputs": [],
   "source": [
    "from PIL import Image\n",
    "image = Image.open(\"flower image.png\")  ## to load the flower image "
   ]
  },
  {
   "cell_type": "code",
   "execution_count": 94,
   "id": "6c87a423",
   "metadata": {},
   "outputs": [
    {
     "data": {
      "text/plain": [
       "<matplotlib.image.AxesImage at 0x11e20913dc0>"
      ]
     },
     "execution_count": 94,
     "metadata": {},
     "output_type": "execute_result"
    },
    {
     "data": {
      "image/png": "[encoded data removed]",
      "text/plain": [
       "<Figure size 400x400 with 1 Axes>"
      ]
     },
     "metadata": {},
     "output_type": "display_data"
    }
   ],
   "source": [
    "import matplotlib.pyplot as plt\n",
    "plt.figure(figsize = (4, 4))\n",
    "plt.imshow(image)"
   ]
  },
  {
   "cell_type": "code",
   "execution_count": 99,
   "id": "477563fb",
   "metadata": {},
   "outputs": [
    {
     "data": {
      "text/plain": [
       "(512, 512, 3)"
      ]
     },
     "execution_count": 99,
     "metadata": {},
     "output_type": "execute_result"
    }
   ],
   "source": [
    "np.array(image).shape"
   ]
  },
  {
   "cell_type": "code",
   "execution_count": 96,
   "id": "1f39eec4",
   "metadata": {},
   "outputs": [
    {
     "data": {
      "text/plain": [
       "array([[[ 75, 126, 100],\n",
       "        [ 78, 128, 103],\n",
       "        [ 77, 127, 102],\n",
       "        ...,\n",
       "        [ 82, 149,  77],\n",
       "        [ 78, 142,  73],\n",
       "        [ 81, 142,  76]],\n",
       "\n",
       "       [[ 73, 123,  98],\n",
       "        [ 74, 124,  99],\n",
       "        [ 73, 123,  98],\n",
       "        ...,\n",
       "        [ 85, 150,  82],\n",
       "        [ 83, 147,  81],\n",
       "        [ 81, 144,  79]],\n",
       "\n",
       "       [[ 73, 121,  97],\n",
       "        [ 70, 118,  94],\n",
       "        [ 72, 120,  97],\n",
       "        ...,\n",
       "        [ 80, 144,  81],\n",
       "        [ 84, 149,  86],\n",
       "        [ 82, 147,  84]],\n",
       "\n",
       "       ...,\n",
       "\n",
       "       [[ 83, 138, 109],\n",
       "        [ 85, 139, 110],\n",
       "        [ 90, 140, 113],\n",
       "        ...,\n",
       "        [ 27,  35,   7],\n",
       "        [ 23,  35,   5],\n",
       "        [ 18,  33,   2]],\n",
       "\n",
       "       [[ 88, 143, 112],\n",
       "        [ 93, 148, 118],\n",
       "        [ 96, 148, 121],\n",
       "        ...,\n",
       "        [ 31,  40,  11],\n",
       "        [ 22,  32,   4],\n",
       "        [ 19,  31,   3]],\n",
       "\n",
       "       [[ 95, 150, 118],\n",
       "        [ 90, 145, 115],\n",
       "        [ 89, 142, 115],\n",
       "        ...,\n",
       "        [ 38,  45,  17],\n",
       "        [ 29,  39,  11],\n",
       "        [ 20,  30,   3]]], dtype=uint8)"
      ]
     },
     "execution_count": 96,
     "metadata": {},
     "output_type": "execute_result"
    }
   ],
   "source": [
    "np.array(image)"
   ]
  },
  {
   "cell_type": "code",
   "execution_count": 100,
   "id": "e4797986",
   "metadata": {},
   "outputs": [
    {
     "data": {
      "text/plain": [
       "array([ 75, 126, 100, ...,  20,  30,   3], dtype=uint8)"
      ]
     },
     "execution_count": 100,
     "metadata": {},
     "output_type": "execute_result"
    }
   ],
   "source": [
    "img_flatten = np.array(image).flatten()\n",
    "img_flatten"
   ]
  },
  {
   "cell_type": "code",
   "execution_count": 103,
   "id": "526fde80",
   "metadata": {},
   "outputs": [
    {
     "data": {
      "text/plain": [
       "array([[[ 75, 126, 100],\n",
       "        [ 78, 128, 103],\n",
       "        [ 77, 127, 102],\n",
       "        ...,\n",
       "        [ 82, 149,  77],\n",
       "        [ 78, 142,  73],\n",
       "        [ 81, 142,  76]],\n",
       "\n",
       "       [[ 73, 123,  98],\n",
       "        [ 74, 124,  99],\n",
       "        [ 73, 123,  98],\n",
       "        ...,\n",
       "        [ 85, 150,  82],\n",
       "        [ 83, 147,  81],\n",
       "        [ 81, 144,  79]],\n",
       "\n",
       "       [[ 73, 121,  97],\n",
       "        [ 70, 118,  94],\n",
       "        [ 72, 120,  97],\n",
       "        ...,\n",
       "        [ 80, 144,  81],\n",
       "        [ 84, 149,  86],\n",
       "        [ 82, 147,  84]],\n",
       "\n",
       "       ...,\n",
       "\n",
       "       [[ 83, 138, 109],\n",
       "        [ 85, 139, 110],\n",
       "        [ 90, 140, 113],\n",
       "        ...,\n",
       "        [ 27,  35,   7],\n",
       "        [ 23,  35,   5],\n",
       "        [ 18,  33,   2]],\n",
       "\n",
       "       [[ 88, 143, 112],\n",
       "        [ 93, 148, 118],\n",
       "        [ 96, 148, 121],\n",
       "        ...,\n",
       "        [ 31,  40,  11],\n",
       "        [ 22,  32,   4],\n",
       "        [ 19,  31,   3]],\n",
       "\n",
       "       [[ 95, 150, 118],\n",
       "        [ 90, 145, 115],\n",
       "        [ 89, 142, 115],\n",
       "        ...,\n",
       "        [ 38,  45,  17],\n",
       "        [ 29,  39,  11],\n",
       "        [ 20,  30,   3]]], dtype=uint8)"
      ]
     },
     "execution_count": 103,
     "metadata": {},
     "output_type": "execute_result"
    }
   ],
   "source": [
    "img_flatten.reshape((512, 512, 3))"
   ]
  },
  {
   "cell_type": "code",
   "execution_count": null,
   "id": "cbc23f80",
   "metadata": {},
   "outputs": [],
   "source": []
  }
 ],
 "metadata": {
  "kernelspec": {
   "display_name": "Python 3 (ipykernel)",
   "language": "python",
   "name": "python3"
  },
  "language_info": {
   "codemirror_mode": {
    "name": "ipython",
    "version": 3
   },
   "file_extension": ".py",
   "mimetype": "text/x-python",
   "name": "python",
   "nbconvert_exporter": "python",
   "pygments_lexer": "ipython3",
   "version": "3.9.16"
  }
 },
 "nbformat": 4,
 "nbformat_minor": 5
}
