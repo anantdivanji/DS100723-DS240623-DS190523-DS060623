{
 "cells": [
  {
   "cell_type": "code",
   "execution_count": 53,
   "id": "0e4b0379-59d8-4142-8267-2497e455a093",
   "metadata": {},
   "outputs": [],
   "source": [
    "import pandas as pd\n",
    "import numpy as np\n",
    "import matplotlib.pyplot as plt\n",
    "import seaborn as sns\n",
    "import warnings\n",
    "warnings.filterwarnings(\"ignore\")"
   ]
  },
  {
   "cell_type": "code",
   "execution_count": 54,
   "id": "0219341d-4fa5-4cc0-9849-b9d24e3c2211",
   "metadata": {},
   "outputs": [
    {
     "data": {
      "text/html": [
       "<div>\n",
       "<style scoped>\n",
       "    .dataframe tbody tr th:only-of-type {\n",
       "        vertical-align: middle;\n",
       "    }\n",
       "\n",
       "    .dataframe tbody tr th {\n",
       "        vertical-align: top;\n",
       "    }\n",
       "\n",
       "    .dataframe thead th {\n",
       "        text-align: right;\n",
       "    }\n",
       "</style>\n",
       "<table border=\"1\" class=\"dataframe\">\n",
       "  <thead>\n",
       "    <tr style=\"text-align: right;\">\n",
       "      <th></th>\n",
       "      <th>target</th>\n",
       "      <th>ids</th>\n",
       "      <th>date</th>\n",
       "      <th>flag</th>\n",
       "      <th>user</th>\n",
       "      <th>text</th>\n",
       "    </tr>\n",
       "  </thead>\n",
       "  <tbody>\n",
       "    <tr>\n",
       "      <th>0</th>\n",
       "      <td>0</td>\n",
       "      <td>1467810369</td>\n",
       "      <td>Mon Apr 06 22:19:45 PDT 2009</td>\n",
       "      <td>NO_QUERY</td>\n",
       "      <td>_TheSpecialOne_</td>\n",
       "      <td>@switchfoot http://twitpic.com/2y1zl - Awww, t...</td>\n",
       "    </tr>\n",
       "    <tr>\n",
       "      <th>1</th>\n",
       "      <td>0</td>\n",
       "      <td>1467810672</td>\n",
       "      <td>Mon Apr 06 22:19:49 PDT 2009</td>\n",
       "      <td>NO_QUERY</td>\n",
       "      <td>scotthamilton</td>\n",
       "      <td>is upset that he can't update his Facebook by ...</td>\n",
       "    </tr>\n",
       "    <tr>\n",
       "      <th>2</th>\n",
       "      <td>0</td>\n",
       "      <td>1467810917</td>\n",
       "      <td>Mon Apr 06 22:19:53 PDT 2009</td>\n",
       "      <td>NO_QUERY</td>\n",
       "      <td>mattycus</td>\n",
       "      <td>@Kenichan I dived many times for the ball. Man...</td>\n",
       "    </tr>\n",
       "    <tr>\n",
       "      <th>3</th>\n",
       "      <td>0</td>\n",
       "      <td>1467811184</td>\n",
       "      <td>Mon Apr 06 22:19:57 PDT 2009</td>\n",
       "      <td>NO_QUERY</td>\n",
       "      <td>ElleCTF</td>\n",
       "      <td>my whole body feels itchy and like its on fire</td>\n",
       "    </tr>\n",
       "    <tr>\n",
       "      <th>4</th>\n",
       "      <td>0</td>\n",
       "      <td>1467811193</td>\n",
       "      <td>Mon Apr 06 22:19:57 PDT 2009</td>\n",
       "      <td>NO_QUERY</td>\n",
       "      <td>Karoli</td>\n",
       "      <td>@nationwideclass no, it's not behaving at all....</td>\n",
       "    </tr>\n",
       "  </tbody>\n",
       "</table>\n",
       "</div>"
      ],
      "text/plain": [
       "   target         ids                          date      flag  \\\n",
       "0       0  1467810369  Mon Apr 06 22:19:45 PDT 2009  NO_QUERY   \n",
       "1       0  1467810672  Mon Apr 06 22:19:49 PDT 2009  NO_QUERY   \n",
       "2       0  1467810917  Mon Apr 06 22:19:53 PDT 2009  NO_QUERY   \n",
       "3       0  1467811184  Mon Apr 06 22:19:57 PDT 2009  NO_QUERY   \n",
       "4       0  1467811193  Mon Apr 06 22:19:57 PDT 2009  NO_QUERY   \n",
       "\n",
       "              user                                               text  \n",
       "0  _TheSpecialOne_  @switchfoot http://twitpic.com/2y1zl - Awww, t...  \n",
       "1    scotthamilton  is upset that he can't update his Facebook by ...  \n",
       "2         mattycus  @Kenichan I dived many times for the ball. Man...  \n",
       "3          ElleCTF    my whole body feels itchy and like its on fire   \n",
       "4           Karoli  @nationwideclass no, it's not behaving at all....  "
      ]
     },
     "execution_count": 54,
     "metadata": {},
     "output_type": "execute_result"
    }
   ],
   "source": [
    "data = pd.read_csv(\"Twitter_Sentiment_Data.csv\", encoding = \"cp1252\", names = [\"target\", \"ids\", \"date\", \"flag\", \"user\", \"text\"])\n",
    "data.head()"
   ]
  },
  {
   "cell_type": "code",
   "execution_count": 55,
   "id": "2bf7dc21-6320-4341-a009-bde1a8d55832",
   "metadata": {},
   "outputs": [
    {
     "data": {
      "text/plain": [
       "(1600000, 6)"
      ]
     },
     "execution_count": 55,
     "metadata": {},
     "output_type": "execute_result"
    }
   ],
   "source": [
    "data.shape"
   ]
  },
  {
   "cell_type": "markdown",
   "id": "c49a1835-0a38-4322-aebb-924359e20bfd",
   "metadata": {},
   "source": [
    "# Observations:\n",
    "- The dataset contains 16 lakh rows and 6 columns\n",
    "- Each row of the dataset is a tweet done by a particular user."
   ]
  },
  {
   "cell_type": "code",
   "execution_count": 56,
   "id": "c71507cd-1d61-414b-b9c2-dbf8556787cb",
   "metadata": {},
   "outputs": [
    {
     "data": {
      "text/html": [
       "<div>\n",
       "<style scoped>\n",
       "    .dataframe tbody tr th:only-of-type {\n",
       "        vertical-align: middle;\n",
       "    }\n",
       "\n",
       "    .dataframe tbody tr th {\n",
       "        vertical-align: top;\n",
       "    }\n",
       "\n",
       "    .dataframe thead th {\n",
       "        text-align: right;\n",
       "    }\n",
       "</style>\n",
       "<table border=\"1\" class=\"dataframe\">\n",
       "  <thead>\n",
       "    <tr style=\"text-align: right;\">\n",
       "      <th></th>\n",
       "      <th>user</th>\n",
       "      <th>text</th>\n",
       "      <th>target</th>\n",
       "    </tr>\n",
       "  </thead>\n",
       "  <tbody>\n",
       "    <tr>\n",
       "      <th>0</th>\n",
       "      <td>_TheSpecialOne_</td>\n",
       "      <td>@switchfoot http://twitpic.com/2y1zl - Awww, t...</td>\n",
       "      <td>0</td>\n",
       "    </tr>\n",
       "    <tr>\n",
       "      <th>1</th>\n",
       "      <td>scotthamilton</td>\n",
       "      <td>is upset that he can't update his Facebook by ...</td>\n",
       "      <td>0</td>\n",
       "    </tr>\n",
       "    <tr>\n",
       "      <th>2</th>\n",
       "      <td>mattycus</td>\n",
       "      <td>@Kenichan I dived many times for the ball. Man...</td>\n",
       "      <td>0</td>\n",
       "    </tr>\n",
       "    <tr>\n",
       "      <th>3</th>\n",
       "      <td>ElleCTF</td>\n",
       "      <td>my whole body feels itchy and like its on fire</td>\n",
       "      <td>0</td>\n",
       "    </tr>\n",
       "    <tr>\n",
       "      <th>4</th>\n",
       "      <td>Karoli</td>\n",
       "      <td>@nationwideclass no, it's not behaving at all....</td>\n",
       "      <td>0</td>\n",
       "    </tr>\n",
       "  </tbody>\n",
       "</table>\n",
       "</div>"
      ],
      "text/plain": [
       "              user                                               text  target\n",
       "0  _TheSpecialOne_  @switchfoot http://twitpic.com/2y1zl - Awww, t...       0\n",
       "1    scotthamilton  is upset that he can't update his Facebook by ...       0\n",
       "2         mattycus  @Kenichan I dived many times for the ball. Man...       0\n",
       "3          ElleCTF    my whole body feels itchy and like its on fire        0\n",
       "4           Karoli  @nationwideclass no, it's not behaving at all....       0"
      ]
     },
     "execution_count": 56,
     "metadata": {},
     "output_type": "execute_result"
    }
   ],
   "source": [
    "data = data[[\"user\", \"text\", \"target\"]]\n",
    "data.head()"
   ]
  },
  {
   "cell_type": "markdown",
   "id": "e9338dea-1d2e-407a-b34e-f86819234733",
   "metadata": {},
   "source": [
    "# Target Column Analysis\n",
    "- To understand the distribution of negative, postive and neutral tweets we perform analysis of target column"
   ]
  },
  {
   "cell_type": "code",
   "execution_count": 57,
   "id": "c9cec9fa-dbf0-4b58-992e-2d6dcb3f898e",
   "metadata": {},
   "outputs": [
    {
     "data": {
      "text/plain": [
       "target\n",
       "0    800000\n",
       "4    800000\n",
       "Name: count, dtype: int64"
      ]
     },
     "execution_count": 57,
     "metadata": {},
     "output_type": "execute_result"
    }
   ],
   "source": [
    "data[\"target\"].value_counts()"
   ]
  },
  {
   "cell_type": "markdown",
   "id": "d421b8de-dd88-47db-94db-1bfdb6c9d7f0",
   "metadata": {},
   "source": [
    "# Observations:\n",
    "- Out of 16 lakh tweets, 8 lakhs are +ve sentiment tweets and reamining 8 lakhs are -ve sentiment tweets.\n",
    "- We conclude that the data does not contain neutral tweets."
   ]
  },
  {
   "cell_type": "markdown",
   "id": "d2c1e1cb-fee0-494c-8d06-469b69ee1090",
   "metadata": {},
   "source": [
    "# Converting 4 to 1:"
   ]
  },
  {
   "cell_type": "code",
   "execution_count": 58,
   "id": "bf3bf688-6024-443b-84df-76ae808cb4ff",
   "metadata": {},
   "outputs": [
    {
     "data": {
      "text/html": [
       "<div>\n",
       "<style scoped>\n",
       "    .dataframe tbody tr th:only-of-type {\n",
       "        vertical-align: middle;\n",
       "    }\n",
       "\n",
       "    .dataframe tbody tr th {\n",
       "        vertical-align: top;\n",
       "    }\n",
       "\n",
       "    .dataframe thead th {\n",
       "        text-align: right;\n",
       "    }\n",
       "</style>\n",
       "<table border=\"1\" class=\"dataframe\">\n",
       "  <thead>\n",
       "    <tr style=\"text-align: right;\">\n",
       "      <th></th>\n",
       "      <th>user</th>\n",
       "      <th>text</th>\n",
       "      <th>target</th>\n",
       "    </tr>\n",
       "  </thead>\n",
       "  <tbody>\n",
       "    <tr>\n",
       "      <th>0</th>\n",
       "      <td>_TheSpecialOne_</td>\n",
       "      <td>@switchfoot http://twitpic.com/2y1zl - Awww, t...</td>\n",
       "      <td>0</td>\n",
       "    </tr>\n",
       "    <tr>\n",
       "      <th>1</th>\n",
       "      <td>scotthamilton</td>\n",
       "      <td>is upset that he can't update his Facebook by ...</td>\n",
       "      <td>0</td>\n",
       "    </tr>\n",
       "    <tr>\n",
       "      <th>2</th>\n",
       "      <td>mattycus</td>\n",
       "      <td>@Kenichan I dived many times for the ball. Man...</td>\n",
       "      <td>0</td>\n",
       "    </tr>\n",
       "    <tr>\n",
       "      <th>3</th>\n",
       "      <td>ElleCTF</td>\n",
       "      <td>my whole body feels itchy and like its on fire</td>\n",
       "      <td>0</td>\n",
       "    </tr>\n",
       "    <tr>\n",
       "      <th>4</th>\n",
       "      <td>Karoli</td>\n",
       "      <td>@nationwideclass no, it's not behaving at all....</td>\n",
       "      <td>0</td>\n",
       "    </tr>\n",
       "  </tbody>\n",
       "</table>\n",
       "</div>"
      ],
      "text/plain": [
       "              user                                               text  target\n",
       "0  _TheSpecialOne_  @switchfoot http://twitpic.com/2y1zl - Awww, t...       0\n",
       "1    scotthamilton  is upset that he can't update his Facebook by ...       0\n",
       "2         mattycus  @Kenichan I dived many times for the ball. Man...       0\n",
       "3          ElleCTF    my whole body feels itchy and like its on fire        0\n",
       "4           Karoli  @nationwideclass no, it's not behaving at all....       0"
      ]
     },
     "execution_count": 58,
     "metadata": {},
     "output_type": "execute_result"
    }
   ],
   "source": [
    "data['target'] = data['target'].replace(4, 1)\n",
    "data.head()"
   ]
  },
  {
   "cell_type": "code",
   "execution_count": 59,
   "id": "414cb446-2c99-417c-be00-e2959ba7ce93",
   "metadata": {},
   "outputs": [
    {
     "data": {
      "text/plain": [
       "target\n",
       "0    800000\n",
       "1    800000\n",
       "Name: count, dtype: int64"
      ]
     },
     "execution_count": 59,
     "metadata": {},
     "output_type": "execute_result"
    }
   ],
   "source": [
    "data['target'].value_counts()"
   ]
  },
  {
   "cell_type": "code",
   "execution_count": 60,
   "id": "dff58a2b-6bb9-4af0-9fc7-4b649440f079",
   "metadata": {},
   "outputs": [
    {
     "data": {
      "text/plain": [
       "target\n",
       "0    50.0\n",
       "1    50.0\n",
       "Name: proportion, dtype: float64"
      ]
     },
     "execution_count": 60,
     "metadata": {},
     "output_type": "execute_result"
    }
   ],
   "source": [
    "# Display the percentage of +ve and -ve tweets.\n",
    "\n",
    "data['target'].value_counts(normalize = True) * 100"
   ]
  },
  {
   "cell_type": "code",
   "execution_count": 61,
   "id": "64bbe5f7-c36e-423d-ad97-7bfd0c4cd690",
   "metadata": {},
   "outputs": [
    {
     "data": {
      "text/plain": [
       "<Axes: xlabel='target', ylabel='count'>"
      ]
     },
     "execution_count": 61,
     "metadata": {},
     "output_type": "execute_result"
    },
    {
     "data": {
      "image/png": "[encoded data removed]",
      "text/plain": [
       "<Figure size 640x480 with 1 Axes>"
      ]
     },
     "metadata": {},
     "output_type": "display_data"
    }
   ],
   "source": [
    "sns.countplot(x = data[\"target\"])"
   ]
  },
  {
   "cell_type": "code",
   "execution_count": 62,
   "id": "09cb2548-ba99-4186-924c-d7155db74eca",
   "metadata": {},
   "outputs": [
    {
     "data": {
      "text/plain": [
       "user      0\n",
       "text      0\n",
       "target    0\n",
       "dtype: int64"
      ]
     },
     "execution_count": 62,
     "metadata": {},
     "output_type": "execute_result"
    }
   ],
   "source": [
    "# Checking missing values\n",
    "\n",
    "data.isnull().sum()   # Data does not have missing values"
   ]
  },
  {
   "cell_type": "markdown",
   "id": "695a0960-c43a-4822-a5a9-6574b856ff5f",
   "metadata": {},
   "source": [
    "#### Notes:\n",
    "- Will consider only 25% of the data i.e. out of 16 lakh rows we will be considering only 4 lakh rows.\n",
    "- The reason is for seamless execution on our local system.\n",
    "- The final data after reduction also contains equal number of +ve and -ve tweets.\n",
    "- 4 lakh = 3 lakh + ve tweets and 1 lakh -ve tweets. Care to taken that this should not happen.\n",
    "- 4 lakh = 2 lakh +ve tweets and 2 -ve tweets."
   ]
  },
  {
   "cell_type": "code",
   "execution_count": 63,
   "id": "2c044255-d6aa-47a0-acbb-df64b5347795",
   "metadata": {},
   "outputs": [],
   "source": [
    "# Seperate all positive and negative tweets into 2 different variables\n",
    "\n",
    "df_pos = data[data[\"target\"] == 1]     ## Selecting only positive tweets in df_pos\n",
    "df_neg = data[data[\"target\"] == 0]     ## Selecting only negative tweets in df_neg  "
   ]
  },
  {
   "cell_type": "code",
   "execution_count": 64,
   "id": "a5371436-8fba-4392-8535-17ca69d7e842",
   "metadata": {},
   "outputs": [
    {
     "data": {
      "text/plain": [
       "target\n",
       "1    800000\n",
       "Name: count, dtype: int64"
      ]
     },
     "execution_count": 64,
     "metadata": {},
     "output_type": "execute_result"
    }
   ],
   "source": [
    "df_pos[\"target\"].value_counts()"
   ]
  },
  {
   "cell_type": "code",
   "execution_count": 65,
   "id": "70d3fa6b-3e05-45c8-be13-ada24d6e04ae",
   "metadata": {},
   "outputs": [
    {
     "data": {
      "text/plain": [
       "target\n",
       "0    800000\n",
       "Name: count, dtype: int64"
      ]
     },
     "execution_count": 65,
     "metadata": {},
     "output_type": "execute_result"
    }
   ],
   "source": [
    "df_neg[\"target\"].value_counts()"
   ]
  },
  {
   "cell_type": "markdown",
   "id": "6dcf0e03-fe53-41f1-9e7f-19da29690e2b",
   "metadata": {},
   "source": [
    "#### Taking only 1/4th of the data from each df_pos and df_neg"
   ]
  },
  {
   "cell_type": "code",
   "execution_count": 66,
   "id": "382abfc5-707c-4e95-a513-e1f5f3f6863d",
   "metadata": {},
   "outputs": [],
   "source": [
    "df_pos = df_pos.iloc[:int(200000)]\n",
    "df_neg = df_neg.iloc[:int(200000)]"
   ]
  },
  {
   "cell_type": "code",
   "execution_count": 67,
   "id": "07d45a7a-9869-45f8-9dc3-21e5ac18be26",
   "metadata": {},
   "outputs": [
    {
     "data": {
      "text/plain": [
       "(200000, 3)"
      ]
     },
     "execution_count": 67,
     "metadata": {},
     "output_type": "execute_result"
    }
   ],
   "source": [
    "df_pos.shape"
   ]
  },
  {
   "cell_type": "code",
   "execution_count": 68,
   "id": "4550184e-6125-4805-93cf-da1f7cfcaae4",
   "metadata": {},
   "outputs": [
    {
     "data": {
      "text/plain": [
       "(200000, 3)"
      ]
     },
     "execution_count": 68,
     "metadata": {},
     "output_type": "execute_result"
    }
   ],
   "source": [
    "df_neg.shape"
   ]
  },
  {
   "cell_type": "markdown",
   "id": "4736253d-e80b-4d7f-a29f-42c24c35eb54",
   "metadata": {},
   "source": [
    "#### Join df_pos & df_neg to get the complete data"
   ]
  },
  {
   "cell_type": "code",
   "execution_count": 69,
   "id": "1b82022b-af19-4cb3-a1ed-80f243888083",
   "metadata": {},
   "outputs": [
    {
     "data": {
      "text/html": [
       "<div>\n",
       "<style scoped>\n",
       "    .dataframe tbody tr th:only-of-type {\n",
       "        vertical-align: middle;\n",
       "    }\n",
       "\n",
       "    .dataframe tbody tr th {\n",
       "        vertical-align: top;\n",
       "    }\n",
       "\n",
       "    .dataframe thead th {\n",
       "        text-align: right;\n",
       "    }\n",
       "</style>\n",
       "<table border=\"1\" class=\"dataframe\">\n",
       "  <thead>\n",
       "    <tr style=\"text-align: right;\">\n",
       "      <th></th>\n",
       "      <th>user</th>\n",
       "      <th>text</th>\n",
       "      <th>target</th>\n",
       "    </tr>\n",
       "  </thead>\n",
       "  <tbody>\n",
       "    <tr>\n",
       "      <th>800000</th>\n",
       "      <td>ersle</td>\n",
       "      <td>I LOVE @Health4UandPets u guys r the best!!</td>\n",
       "      <td>1</td>\n",
       "    </tr>\n",
       "    <tr>\n",
       "      <th>800001</th>\n",
       "      <td>becca210</td>\n",
       "      <td>im meeting up with one of my besties tonight! ...</td>\n",
       "      <td>1</td>\n",
       "    </tr>\n",
       "    <tr>\n",
       "      <th>800002</th>\n",
       "      <td>Wingman29</td>\n",
       "      <td>@DaRealSunisaKim Thanks for the Twitter add, S...</td>\n",
       "      <td>1</td>\n",
       "    </tr>\n",
       "    <tr>\n",
       "      <th>800003</th>\n",
       "      <td>katarinka</td>\n",
       "      <td>Being sick can be really cheap when it hurts t...</td>\n",
       "      <td>1</td>\n",
       "    </tr>\n",
       "    <tr>\n",
       "      <th>800004</th>\n",
       "      <td>_EmilyYoung</td>\n",
       "      <td>@LovesBrooklyn2 he has that effect on everyone</td>\n",
       "      <td>1</td>\n",
       "    </tr>\n",
       "  </tbody>\n",
       "</table>\n",
       "</div>"
      ],
      "text/plain": [
       "               user                                               text  target\n",
       "800000        ersle       I LOVE @Health4UandPets u guys r the best!!        1\n",
       "800001     becca210  im meeting up with one of my besties tonight! ...       1\n",
       "800002    Wingman29  @DaRealSunisaKim Thanks for the Twitter add, S...       1\n",
       "800003    katarinka  Being sick can be really cheap when it hurts t...       1\n",
       "800004  _EmilyYoung    @LovesBrooklyn2 he has that effect on everyone        1"
      ]
     },
     "execution_count": 69,
     "metadata": {},
     "output_type": "execute_result"
    }
   ],
   "source": [
    "data = pd.concat([df_pos, df_neg])\n",
    "data.head()"
   ]
  },
  {
   "cell_type": "code",
   "execution_count": 70,
   "id": "de4a6dd2-0572-4da2-ae23-8a0186072bf1",
   "metadata": {},
   "outputs": [
    {
     "data": {
      "text/plain": [
       "(400000, 3)"
      ]
     },
     "execution_count": 70,
     "metadata": {},
     "output_type": "execute_result"
    }
   ],
   "source": [
    "data.shape"
   ]
  },
  {
   "cell_type": "code",
   "execution_count": 71,
   "id": "7055a5df-94dd-4e53-8908-652e4818ebf8",
   "metadata": {},
   "outputs": [
    {
     "data": {
      "text/plain": [
       "target\n",
       "1    200000\n",
       "0    200000\n",
       "Name: count, dtype: int64"
      ]
     },
     "execution_count": 71,
     "metadata": {},
     "output_type": "execute_result"
    }
   ],
   "source": [
    "data[\"target\"].value_counts()"
   ]
  },
  {
   "cell_type": "markdown",
   "id": "b33e49b7-68e1-40f9-9995-e0ecdec49f78",
   "metadata": {},
   "source": [
    "# Data Pre processing on the text column"
   ]
  },
  {
   "cell_type": "code",
   "execution_count": 72,
   "id": "ff4d9998-5221-420a-82af-0cdda620e261",
   "metadata": {},
   "outputs": [
    {
     "data": {
      "text/plain": [
       "800000         I LOVE @Health4UandPets u guys r the best!! \n",
       "800001    im meeting up with one of my besties tonight! ...\n",
       "800002    @DaRealSunisaKim Thanks for the Twitter add, S...\n",
       "800003    Being sick can be really cheap when it hurts t...\n",
       "800004      @LovesBrooklyn2 he has that effect on everyone \n",
       "                                ...                        \n",
       "199995                                  Doesn't feel good. \n",
       "199996                                       work... again \n",
       "199997    @damienfranco Its so common for it to crash no...\n",
       "199998            my baby boy is wearing big boy underwear \n",
       "199999               Fml! I forgot my phone charger @home! \n",
       "Name: text, Length: 400000, dtype: object"
      ]
     },
     "execution_count": 72,
     "metadata": {},
     "output_type": "execute_result"
    }
   ],
   "source": [
    "data[\"text\"]"
   ]
  },
  {
   "cell_type": "markdown",
   "id": "12531917-321b-42b2-876f-67802c4a598d",
   "metadata": {},
   "source": [
    "### Converting all upper cases to lower cases"
   ]
  },
  {
   "cell_type": "code",
   "execution_count": 73,
   "id": "df3af118-f4eb-42ff-b7d6-1b473d29ed83",
   "metadata": {},
   "outputs": [
    {
     "data": {
      "text/html": [
       "<div>\n",
       "<style scoped>\n",
       "    .dataframe tbody tr th:only-of-type {\n",
       "        vertical-align: middle;\n",
       "    }\n",
       "\n",
       "    .dataframe tbody tr th {\n",
       "        vertical-align: top;\n",
       "    }\n",
       "\n",
       "    .dataframe thead th {\n",
       "        text-align: right;\n",
       "    }\n",
       "</style>\n",
       "<table border=\"1\" class=\"dataframe\">\n",
       "  <thead>\n",
       "    <tr style=\"text-align: right;\">\n",
       "      <th></th>\n",
       "      <th>user</th>\n",
       "      <th>text</th>\n",
       "      <th>target</th>\n",
       "    </tr>\n",
       "  </thead>\n",
       "  <tbody>\n",
       "    <tr>\n",
       "      <th>800000</th>\n",
       "      <td>ersle</td>\n",
       "      <td>i love @health4uandpets u guys r the best!!</td>\n",
       "      <td>1</td>\n",
       "    </tr>\n",
       "    <tr>\n",
       "      <th>800001</th>\n",
       "      <td>becca210</td>\n",
       "      <td>im meeting up with one of my besties tonight! ...</td>\n",
       "      <td>1</td>\n",
       "    </tr>\n",
       "    <tr>\n",
       "      <th>800002</th>\n",
       "      <td>Wingman29</td>\n",
       "      <td>@darealsunisakim thanks for the twitter add, s...</td>\n",
       "      <td>1</td>\n",
       "    </tr>\n",
       "    <tr>\n",
       "      <th>800003</th>\n",
       "      <td>katarinka</td>\n",
       "      <td>being sick can be really cheap when it hurts t...</td>\n",
       "      <td>1</td>\n",
       "    </tr>\n",
       "    <tr>\n",
       "      <th>800004</th>\n",
       "      <td>_EmilyYoung</td>\n",
       "      <td>@lovesbrooklyn2 he has that effect on everyone</td>\n",
       "      <td>1</td>\n",
       "    </tr>\n",
       "  </tbody>\n",
       "</table>\n",
       "</div>"
      ],
      "text/plain": [
       "               user                                               text  target\n",
       "800000        ersle       i love @health4uandpets u guys r the best!!        1\n",
       "800001     becca210  im meeting up with one of my besties tonight! ...       1\n",
       "800002    Wingman29  @darealsunisakim thanks for the twitter add, s...       1\n",
       "800003    katarinka  being sick can be really cheap when it hurts t...       1\n",
       "800004  _EmilyYoung    @lovesbrooklyn2 he has that effect on everyone        1"
      ]
     },
     "execution_count": 73,
     "metadata": {},
     "output_type": "execute_result"
    }
   ],
   "source": [
    "data[\"text\"] = data[\"text\"].str.lower()\n",
    "data.head()"
   ]
  },
  {
   "cell_type": "code",
   "execution_count": 75,
   "id": "a455aba3-f024-4a72-b650-ebb373a7bc73",
   "metadata": {},
   "outputs": [
    {
     "data": {
      "text/html": [
       "<div>\n",
       "<style scoped>\n",
       "    .dataframe tbody tr th:only-of-type {\n",
       "        vertical-align: middle;\n",
       "    }\n",
       "\n",
       "    .dataframe tbody tr th {\n",
       "        vertical-align: top;\n",
       "    }\n",
       "\n",
       "    .dataframe thead th {\n",
       "        text-align: right;\n",
       "    }\n",
       "</style>\n",
       "<table border=\"1\" class=\"dataframe\">\n",
       "  <thead>\n",
       "    <tr style=\"text-align: right;\">\n",
       "      <th></th>\n",
       "      <th>user</th>\n",
       "      <th>text</th>\n",
       "      <th>target</th>\n",
       "    </tr>\n",
       "  </thead>\n",
       "  <tbody>\n",
       "    <tr>\n",
       "      <th>199975</th>\n",
       "      <td>AlessaGerman</td>\n",
       "      <td>@mileycyrus please come to germany again</td>\n",
       "      <td>0</td>\n",
       "    </tr>\n",
       "    <tr>\n",
       "      <th>199976</th>\n",
       "      <td>johnnapierce</td>\n",
       "      <td>helloo everyone! i'm at work until 5pm today a...</td>\n",
       "      <td>0</td>\n",
       "    </tr>\n",
       "    <tr>\n",
       "      <th>199977</th>\n",
       "      <td>susiehancock</td>\n",
       "      <td>there was a turtle in the pool this morning. m...</td>\n",
       "      <td>0</td>\n",
       "    </tr>\n",
       "    <tr>\n",
       "      <th>199978</th>\n",
       "      <td>chrislarvin</td>\n",
       "      <td>handed in dissertation yesterday morning...fol...</td>\n",
       "      <td>0</td>\n",
       "    </tr>\n",
       "    <tr>\n",
       "      <th>199979</th>\n",
       "      <td>Sevnth</td>\n",
       "      <td>my polaroid failed.  - http://tweet.sg</td>\n",
       "      <td>0</td>\n",
       "    </tr>\n",
       "    <tr>\n",
       "      <th>199980</th>\n",
       "      <td>stacym16</td>\n",
       "      <td>has got so much stuff to do!!!...wanna be at t...</td>\n",
       "      <td>0</td>\n",
       "    </tr>\n",
       "    <tr>\n",
       "      <th>199981</th>\n",
       "      <td>Terrinixon</td>\n",
       "      <td>@marns_ ugh  mine's eased off nicely, hope you...</td>\n",
       "      <td>0</td>\n",
       "    </tr>\n",
       "    <tr>\n",
       "      <th>199982</th>\n",
       "      <td>ashleeadams</td>\n",
       "      <td>i feel sad and lonely and i miss kyle</td>\n",
       "      <td>0</td>\n",
       "    </tr>\n",
       "    <tr>\n",
       "      <th>199983</th>\n",
       "      <td>LINOOO</td>\n",
       "      <td>@sarah_1991  :@ it won't be for long. we'll be...</td>\n",
       "      <td>0</td>\n",
       "    </tr>\n",
       "    <tr>\n",
       "      <th>199984</th>\n",
       "      <td>limeice</td>\n",
       "      <td>@sloth13 blame him for all bad jobs. he gave m...</td>\n",
       "      <td>0</td>\n",
       "    </tr>\n",
       "    <tr>\n",
       "      <th>199985</th>\n",
       "      <td>lintangkusuma</td>\n",
       "      <td>having trouble with my boyf</td>\n",
       "      <td>0</td>\n",
       "    </tr>\n",
       "    <tr>\n",
       "      <th>199986</th>\n",
       "      <td>_coops_</td>\n",
       "      <td>@awaltzforanight aww *hugs* i know how that fe...</td>\n",
       "      <td>0</td>\n",
       "    </tr>\n",
       "    <tr>\n",
       "      <th>199987</th>\n",
       "      <td>tatooinechick</td>\n",
       "      <td>i think everyone but me is out in the sun.  no...</td>\n",
       "      <td>0</td>\n",
       "    </tr>\n",
       "    <tr>\n",
       "      <th>199988</th>\n",
       "      <td>Julie_Price</td>\n",
       "      <td>is yard selling alone today  but someone gave ...</td>\n",
       "      <td>0</td>\n",
       "    </tr>\n",
       "    <tr>\n",
       "      <th>199989</th>\n",
       "      <td>gabehabe</td>\n",
       "      <td>@tinymicroserf i like the taste of prawns but ...</td>\n",
       "      <td>0</td>\n",
       "    </tr>\n",
       "    <tr>\n",
       "      <th>199990</th>\n",
       "      <td>Galiiit</td>\n",
       "      <td>@uhohcaitie aw man i am jealous. can't believe...</td>\n",
       "      <td>0</td>\n",
       "    </tr>\n",
       "    <tr>\n",
       "      <th>199991</th>\n",
       "      <td>bluefuel318</td>\n",
       "      <td>@warley i like it too, but i can't use the sea...</td>\n",
       "      <td>0</td>\n",
       "    </tr>\n",
       "    <tr>\n",
       "      <th>199992</th>\n",
       "      <td>cwheeley</td>\n",
       "      <td>@loganculwell sorry i missed the movie last ni...</td>\n",
       "      <td>0</td>\n",
       "    </tr>\n",
       "    <tr>\n",
       "      <th>199993</th>\n",
       "      <td>sarahheidi</td>\n",
       "      <td>has had a very nasty migraine all day and has ...</td>\n",
       "      <td>0</td>\n",
       "    </tr>\n",
       "    <tr>\n",
       "      <th>199994</th>\n",
       "      <td>alexissanch</td>\n",
       "      <td>with my main man. thankfully hes not crazy yet...</td>\n",
       "      <td>0</td>\n",
       "    </tr>\n",
       "    <tr>\n",
       "      <th>199995</th>\n",
       "      <td>DivaDay</td>\n",
       "      <td>doesn't feel good.</td>\n",
       "      <td>0</td>\n",
       "    </tr>\n",
       "    <tr>\n",
       "      <th>199996</th>\n",
       "      <td>gogetphilled</td>\n",
       "      <td>work... again</td>\n",
       "      <td>0</td>\n",
       "    </tr>\n",
       "    <tr>\n",
       "      <th>199997</th>\n",
       "      <td>CocaBeenSlinky</td>\n",
       "      <td>@damienfranco its so common for it to crash no...</td>\n",
       "      <td>0</td>\n",
       "    </tr>\n",
       "    <tr>\n",
       "      <th>199998</th>\n",
       "      <td>dwfavoritegirl</td>\n",
       "      <td>my baby boy is wearing big boy underwear</td>\n",
       "      <td>0</td>\n",
       "    </tr>\n",
       "    <tr>\n",
       "      <th>199999</th>\n",
       "      <td>LuisIsLegend</td>\n",
       "      <td>fml! i forgot my phone charger @home!</td>\n",
       "      <td>0</td>\n",
       "    </tr>\n",
       "  </tbody>\n",
       "</table>\n",
       "</div>"
      ],
      "text/plain": [
       "                  user                                               text  \\\n",
       "199975    AlessaGerman          @mileycyrus please come to germany again    \n",
       "199976    johnnapierce  helloo everyone! i'm at work until 5pm today a...   \n",
       "199977    susiehancock  there was a turtle in the pool this morning. m...   \n",
       "199978     chrislarvin  handed in dissertation yesterday morning...fol...   \n",
       "199979          Sevnth             my polaroid failed.  - http://tweet.sg   \n",
       "199980        stacym16  has got so much stuff to do!!!...wanna be at t...   \n",
       "199981      Terrinixon  @marns_ ugh  mine's eased off nicely, hope you...   \n",
       "199982     ashleeadams             i feel sad and lonely and i miss kyle    \n",
       "199983          LINOOO  @sarah_1991  :@ it won't be for long. we'll be...   \n",
       "199984         limeice  @sloth13 blame him for all bad jobs. he gave m...   \n",
       "199985   lintangkusuma                       having trouble with my boyf    \n",
       "199986         _coops_  @awaltzforanight aww *hugs* i know how that fe...   \n",
       "199987   tatooinechick  i think everyone but me is out in the sun.  no...   \n",
       "199988     Julie_Price  is yard selling alone today  but someone gave ...   \n",
       "199989        gabehabe  @tinymicroserf i like the taste of prawns but ...   \n",
       "199990         Galiiit  @uhohcaitie aw man i am jealous. can't believe...   \n",
       "199991     bluefuel318  @warley i like it too, but i can't use the sea...   \n",
       "199992        cwheeley  @loganculwell sorry i missed the movie last ni...   \n",
       "199993      sarahheidi  has had a very nasty migraine all day and has ...   \n",
       "199994     alexissanch  with my main man. thankfully hes not crazy yet...   \n",
       "199995         DivaDay                                doesn't feel good.    \n",
       "199996    gogetphilled                                     work... again    \n",
       "199997  CocaBeenSlinky  @damienfranco its so common for it to crash no...   \n",
       "199998  dwfavoritegirl          my baby boy is wearing big boy underwear    \n",
       "199999    LuisIsLegend             fml! i forgot my phone charger @home!    \n",
       "\n",
       "        target  \n",
       "199975       0  \n",
       "199976       0  \n",
       "199977       0  \n",
       "199978       0  \n",
       "199979       0  \n",
       "199980       0  \n",
       "199981       0  \n",
       "199982       0  \n",
       "199983       0  \n",
       "199984       0  \n",
       "199985       0  \n",
       "199986       0  \n",
       "199987       0  \n",
       "199988       0  \n",
       "199989       0  \n",
       "199990       0  \n",
       "199991       0  \n",
       "199992       0  \n",
       "199993       0  \n",
       "199994       0  \n",
       "199995       0  \n",
       "199996       0  \n",
       "199997       0  \n",
       "199998       0  \n",
       "199999       0  "
      ]
     },
     "execution_count": 75,
     "metadata": {},
     "output_type": "execute_result"
    }
   ],
   "source": [
    "data.tail(25)"
   ]
  },
  {
   "cell_type": "markdown",
   "id": "f8c82106-1d53-4f0c-8205-6aeb74b37eaa",
   "metadata": {},
   "source": [
    "### Removing the urls from the text"
   ]
  },
  {
   "cell_type": "code",
   "execution_count": 76,
   "id": "a60e46a9-4ef1-401d-ad10-d35c18f646b0",
   "metadata": {},
   "outputs": [],
   "source": [
    "def remove_urls(text):\n",
    "    return re.sub(\"((www.[^s]+) | (https?://[^s]+))\", \"\", text)\n",
    "data['text'] = data['text'].apply(lambda x : remove_urls(x))"
   ]
  },
  {
   "cell_type": "code",
   "execution_count": 77,
   "id": "533e790d-0e03-4271-8099-ed967037b967",
   "metadata": {},
   "outputs": [
    {
     "data": {
      "text/html": [
       "<div>\n",
       "<style scoped>\n",
       "    .dataframe tbody tr th:only-of-type {\n",
       "        vertical-align: middle;\n",
       "    }\n",
       "\n",
       "    .dataframe tbody tr th {\n",
       "        vertical-align: top;\n",
       "    }\n",
       "\n",
       "    .dataframe thead th {\n",
       "        text-align: right;\n",
       "    }\n",
       "</style>\n",
       "<table border=\"1\" class=\"dataframe\">\n",
       "  <thead>\n",
       "    <tr style=\"text-align: right;\">\n",
       "      <th></th>\n",
       "      <th>user</th>\n",
       "      <th>text</th>\n",
       "      <th>target</th>\n",
       "    </tr>\n",
       "  </thead>\n",
       "  <tbody>\n",
       "    <tr>\n",
       "      <th>199975</th>\n",
       "      <td>AlessaGerman</td>\n",
       "      <td>@mileycyrus please come to germany again</td>\n",
       "      <td>0</td>\n",
       "    </tr>\n",
       "    <tr>\n",
       "      <th>199976</th>\n",
       "      <td>johnnapierce</td>\n",
       "      <td>helloo everyone! i'm at work until 5pm today a...</td>\n",
       "      <td>0</td>\n",
       "    </tr>\n",
       "    <tr>\n",
       "      <th>199977</th>\n",
       "      <td>susiehancock</td>\n",
       "      <td>there was a turtle in the pool this morning. m...</td>\n",
       "      <td>0</td>\n",
       "    </tr>\n",
       "    <tr>\n",
       "      <th>199978</th>\n",
       "      <td>chrislarvin</td>\n",
       "      <td>handed in dissertation yesterday morning...fol...</td>\n",
       "      <td>0</td>\n",
       "    </tr>\n",
       "    <tr>\n",
       "      <th>199979</th>\n",
       "      <td>Sevnth</td>\n",
       "      <td>my polaroid failed.  -sg</td>\n",
       "      <td>0</td>\n",
       "    </tr>\n",
       "    <tr>\n",
       "      <th>199980</th>\n",
       "      <td>stacym16</td>\n",
       "      <td>has got so much stuff to do!!!...wanna be at t...</td>\n",
       "      <td>0</td>\n",
       "    </tr>\n",
       "    <tr>\n",
       "      <th>199981</th>\n",
       "      <td>Terrinixon</td>\n",
       "      <td>@marns_ ugh  mine's eased off nicely, hope you...</td>\n",
       "      <td>0</td>\n",
       "    </tr>\n",
       "    <tr>\n",
       "      <th>199982</th>\n",
       "      <td>ashleeadams</td>\n",
       "      <td>i feel sad and lonely and i miss kyle</td>\n",
       "      <td>0</td>\n",
       "    </tr>\n",
       "    <tr>\n",
       "      <th>199983</th>\n",
       "      <td>LINOOO</td>\n",
       "      <td>@sarah_1991  :@ it won't be for long. we'll be...</td>\n",
       "      <td>0</td>\n",
       "    </tr>\n",
       "    <tr>\n",
       "      <th>199984</th>\n",
       "      <td>limeice</td>\n",
       "      <td>@sloth13 blame him for all bad jobs. he gave m...</td>\n",
       "      <td>0</td>\n",
       "    </tr>\n",
       "    <tr>\n",
       "      <th>199985</th>\n",
       "      <td>lintangkusuma</td>\n",
       "      <td>having trouble with my boyf</td>\n",
       "      <td>0</td>\n",
       "    </tr>\n",
       "    <tr>\n",
       "      <th>199986</th>\n",
       "      <td>_coops_</td>\n",
       "      <td>@awaltzforanight aww *hugs* i know how that fe...</td>\n",
       "      <td>0</td>\n",
       "    </tr>\n",
       "    <tr>\n",
       "      <th>199987</th>\n",
       "      <td>tatooinechick</td>\n",
       "      <td>i think everyone but me is out in the sun.  no...</td>\n",
       "      <td>0</td>\n",
       "    </tr>\n",
       "    <tr>\n",
       "      <th>199988</th>\n",
       "      <td>Julie_Price</td>\n",
       "      <td>is yard selling alone today  but someone gave ...</td>\n",
       "      <td>0</td>\n",
       "    </tr>\n",
       "    <tr>\n",
       "      <th>199989</th>\n",
       "      <td>gabehabe</td>\n",
       "      <td>@tinymicroserf i like the taste of prawns but ...</td>\n",
       "      <td>0</td>\n",
       "    </tr>\n",
       "    <tr>\n",
       "      <th>199990</th>\n",
       "      <td>Galiiit</td>\n",
       "      <td>@uhohcaitie aw man i am jealous. can't believe...</td>\n",
       "      <td>0</td>\n",
       "    </tr>\n",
       "    <tr>\n",
       "      <th>199991</th>\n",
       "      <td>bluefuel318</td>\n",
       "      <td>@warley i like it too, but i can't use the sea...</td>\n",
       "      <td>0</td>\n",
       "    </tr>\n",
       "    <tr>\n",
       "      <th>199992</th>\n",
       "      <td>cwheeley</td>\n",
       "      <td>@loganculwell sorry i missed the movie last ni...</td>\n",
       "      <td>0</td>\n",
       "    </tr>\n",
       "    <tr>\n",
       "      <th>199993</th>\n",
       "      <td>sarahheidi</td>\n",
       "      <td>has had a very nasty migraine all day and has ...</td>\n",
       "      <td>0</td>\n",
       "    </tr>\n",
       "    <tr>\n",
       "      <th>199994</th>\n",
       "      <td>alexissanch</td>\n",
       "      <td>with my main man. thankfully hes not crazy yet...</td>\n",
       "      <td>0</td>\n",
       "    </tr>\n",
       "    <tr>\n",
       "      <th>199995</th>\n",
       "      <td>DivaDay</td>\n",
       "      <td>doesn't feel good.</td>\n",
       "      <td>0</td>\n",
       "    </tr>\n",
       "    <tr>\n",
       "      <th>199996</th>\n",
       "      <td>gogetphilled</td>\n",
       "      <td>work... again</td>\n",
       "      <td>0</td>\n",
       "    </tr>\n",
       "    <tr>\n",
       "      <th>199997</th>\n",
       "      <td>CocaBeenSlinky</td>\n",
       "      <td>@damienfranco its so common for it to crash no...</td>\n",
       "      <td>0</td>\n",
       "    </tr>\n",
       "    <tr>\n",
       "      <th>199998</th>\n",
       "      <td>dwfavoritegirl</td>\n",
       "      <td>my baby boy is wearing big boy underwear</td>\n",
       "      <td>0</td>\n",
       "    </tr>\n",
       "    <tr>\n",
       "      <th>199999</th>\n",
       "      <td>LuisIsLegend</td>\n",
       "      <td>fml! i forgot my phone charger @home!</td>\n",
       "      <td>0</td>\n",
       "    </tr>\n",
       "  </tbody>\n",
       "</table>\n",
       "</div>"
      ],
      "text/plain": [
       "                  user                                               text  \\\n",
       "199975    AlessaGerman          @mileycyrus please come to germany again    \n",
       "199976    johnnapierce  helloo everyone! i'm at work until 5pm today a...   \n",
       "199977    susiehancock  there was a turtle in the pool this morning. m...   \n",
       "199978     chrislarvin  handed in dissertation yesterday morning...fol...   \n",
       "199979          Sevnth                           my polaroid failed.  -sg   \n",
       "199980        stacym16  has got so much stuff to do!!!...wanna be at t...   \n",
       "199981      Terrinixon  @marns_ ugh  mine's eased off nicely, hope you...   \n",
       "199982     ashleeadams             i feel sad and lonely and i miss kyle    \n",
       "199983          LINOOO  @sarah_1991  :@ it won't be for long. we'll be...   \n",
       "199984         limeice  @sloth13 blame him for all bad jobs. he gave m...   \n",
       "199985   lintangkusuma                       having trouble with my boyf    \n",
       "199986         _coops_  @awaltzforanight aww *hugs* i know how that fe...   \n",
       "199987   tatooinechick  i think everyone but me is out in the sun.  no...   \n",
       "199988     Julie_Price  is yard selling alone today  but someone gave ...   \n",
       "199989        gabehabe  @tinymicroserf i like the taste of prawns but ...   \n",
       "199990         Galiiit  @uhohcaitie aw man i am jealous. can't believe...   \n",
       "199991     bluefuel318  @warley i like it too, but i can't use the sea...   \n",
       "199992        cwheeley  @loganculwell sorry i missed the movie last ni...   \n",
       "199993      sarahheidi  has had a very nasty migraine all day and has ...   \n",
       "199994     alexissanch  with my main man. thankfully hes not crazy yet...   \n",
       "199995         DivaDay                                doesn't feel good.    \n",
       "199996    gogetphilled                                     work... again    \n",
       "199997  CocaBeenSlinky  @damienfranco its so common for it to crash no...   \n",
       "199998  dwfavoritegirl          my baby boy is wearing big boy underwear    \n",
       "199999    LuisIsLegend             fml! i forgot my phone charger @home!    \n",
       "\n",
       "        target  \n",
       "199975       0  \n",
       "199976       0  \n",
       "199977       0  \n",
       "199978       0  \n",
       "199979       0  \n",
       "199980       0  \n",
       "199981       0  \n",
       "199982       0  \n",
       "199983       0  \n",
       "199984       0  \n",
       "199985       0  \n",
       "199986       0  \n",
       "199987       0  \n",
       "199988       0  \n",
       "199989       0  \n",
       "199990       0  \n",
       "199991       0  \n",
       "199992       0  \n",
       "199993       0  \n",
       "199994       0  \n",
       "199995       0  \n",
       "199996       0  \n",
       "199997       0  \n",
       "199998       0  \n",
       "199999       0  "
      ]
     },
     "execution_count": 77,
     "metadata": {},
     "output_type": "execute_result"
    }
   ],
   "source": [
    "data.tail(25)"
   ]
  },
  {
   "cell_type": "markdown",
   "id": "296a4310-ec8b-4e8f-9e92-0b95b9635b5c",
   "metadata": {},
   "source": [
    "### Removing the punctuations"
   ]
  },
  {
   "cell_type": "code",
   "execution_count": 78,
   "id": "6a807638-2fdf-4b5e-8cc3-3abc38539ac0",
   "metadata": {},
   "outputs": [
    {
     "name": "stdout",
     "output_type": "stream",
     "text": [
      "!\"#$%&'()*+,-./:;<=>?@[\\]^_`{|}~\n"
     ]
    }
   ],
   "source": [
    "import string\n",
    "print(string.punctuation)"
   ]
  },
  {
   "cell_type": "code",
   "execution_count": 79,
   "id": "2b0a0307-cecb-4dda-936f-f770af63e441",
   "metadata": {},
   "outputs": [
    {
     "data": {
      "text/plain": [
       "'!\"#$%&\\'()*+,-./:;<=>?@[\\\\]^_`{|}~'"
      ]
     },
     "execution_count": 79,
     "metadata": {},
     "output_type": "execute_result"
    }
   ],
   "source": [
    "import string\n",
    "eng_punc = string.punctuation\n",
    "eng_punc"
   ]
  },
  {
   "cell_type": "code",
   "execution_count": 80,
   "id": "28abf847-9a2d-4bfc-af55-917cb2836955",
   "metadata": {},
   "outputs": [],
   "source": [
    "def remove_punc(text):\n",
    "    translator = str.maketrans('', '', eng_punc)     \n",
    "    return text.translate(translator)"
   ]
  },
  {
   "cell_type": "markdown",
   "id": "58c87a97-5884-42fc-8d56-4a4571ac24e6",
   "metadata": {},
   "source": [
    "- Syntax : maketrans(str1, str2, str3)\r\n",
    "- \r\n",
    "Paramete :                                                                                  - :\r\n",
    "str1 : Specifies the list of characters that need to be replac\n",
    "- e- d.\r\n",
    "str2 : Specifies the list of characters with which the characters need to be repla\n",
    "- c- ed.\r\n",
    "str3 : Specifies the list of characters that needs to be del   \n",
    "\n",
    "- In our case, str1 and str2 we have null string.\n",
    "- since we want to delete the punctuations hence we are specifying eng_punc in place of str3.eted."
   ]
  },
  {
   "cell_type": "code",
   "execution_count": 81,
   "id": "1b3a256e-6820-46ee-813c-310b3beca6fd",
   "metadata": {},
   "outputs": [
    {
     "data": {
      "text/plain": [
       "'@this is very, interesting #learning!'"
      ]
     },
     "execution_count": 81,
     "metadata": {},
     "output_type": "execute_result"
    }
   ],
   "source": [
    "sent1 = \"@this is very, interesting #learning!\"\n",
    "sent1"
   ]
  },
  {
   "cell_type": "code",
   "execution_count": 82,
   "id": "b8a6632a-d66f-42ed-b086-60f9fc367516",
   "metadata": {},
   "outputs": [
    {
     "data": {
      "text/plain": [
       "'this is very interesting learning'"
      ]
     },
     "execution_count": 82,
     "metadata": {},
     "output_type": "execute_result"
    }
   ],
   "source": [
    "sent1_new = remove_punc(sent1)\n",
    "sent1_new"
   ]
  },
  {
   "cell_type": "code",
   "execution_count": 83,
   "id": "06ced52a-48c3-4a41-9a3a-364345de9dda",
   "metadata": {},
   "outputs": [
    {
     "data": {
      "text/html": [
       "<div>\n",
       "<style scoped>\n",
       "    .dataframe tbody tr th:only-of-type {\n",
       "        vertical-align: middle;\n",
       "    }\n",
       "\n",
       "    .dataframe tbody tr th {\n",
       "        vertical-align: top;\n",
       "    }\n",
       "\n",
       "    .dataframe thead th {\n",
       "        text-align: right;\n",
       "    }\n",
       "</style>\n",
       "<table border=\"1\" class=\"dataframe\">\n",
       "  <thead>\n",
       "    <tr style=\"text-align: right;\">\n",
       "      <th></th>\n",
       "      <th>user</th>\n",
       "      <th>text</th>\n",
       "      <th>target</th>\n",
       "    </tr>\n",
       "  </thead>\n",
       "  <tbody>\n",
       "    <tr>\n",
       "      <th>800000</th>\n",
       "      <td>ersle</td>\n",
       "      <td>i love health4uandpets u guys r the best</td>\n",
       "      <td>1</td>\n",
       "    </tr>\n",
       "    <tr>\n",
       "      <th>800001</th>\n",
       "      <td>becca210</td>\n",
       "      <td>im meeting up with one of my besties tonight c...</td>\n",
       "      <td>1</td>\n",
       "    </tr>\n",
       "    <tr>\n",
       "      <th>800002</th>\n",
       "      <td>Wingman29</td>\n",
       "      <td>darealsunisakim thanks for the twitter add sun...</td>\n",
       "      <td>1</td>\n",
       "    </tr>\n",
       "    <tr>\n",
       "      <th>800003</th>\n",
       "      <td>katarinka</td>\n",
       "      <td>being sick can be really cheap when it hurts t...</td>\n",
       "      <td>1</td>\n",
       "    </tr>\n",
       "    <tr>\n",
       "      <th>800004</th>\n",
       "      <td>_EmilyYoung</td>\n",
       "      <td>lovesbrooklyn2 he has that effect on everyone</td>\n",
       "      <td>1</td>\n",
       "    </tr>\n",
       "  </tbody>\n",
       "</table>\n",
       "</div>"
      ],
      "text/plain": [
       "               user                                               text  target\n",
       "800000        ersle          i love health4uandpets u guys r the best        1\n",
       "800001     becca210  im meeting up with one of my besties tonight c...       1\n",
       "800002    Wingman29  darealsunisakim thanks for the twitter add sun...       1\n",
       "800003    katarinka  being sick can be really cheap when it hurts t...       1\n",
       "800004  _EmilyYoung     lovesbrooklyn2 he has that effect on everyone        1"
      ]
     },
     "execution_count": 83,
     "metadata": {},
     "output_type": "execute_result"
    }
   ],
   "source": [
    "data[\"text\"] = data[\"text\"].apply(lambda x : remove_punc(x))\n",
    "data.head()"
   ]
  },
  {
   "cell_type": "code",
   "execution_count": 84,
   "id": "3be8cccb-efdf-4e7c-ac82-842eca3e728a",
   "metadata": {},
   "outputs": [
    {
     "data": {
      "text/html": [
       "<div>\n",
       "<style scoped>\n",
       "    .dataframe tbody tr th:only-of-type {\n",
       "        vertical-align: middle;\n",
       "    }\n",
       "\n",
       "    .dataframe tbody tr th {\n",
       "        vertical-align: top;\n",
       "    }\n",
       "\n",
       "    .dataframe thead th {\n",
       "        text-align: right;\n",
       "    }\n",
       "</style>\n",
       "<table border=\"1\" class=\"dataframe\">\n",
       "  <thead>\n",
       "    <tr style=\"text-align: right;\">\n",
       "      <th></th>\n",
       "      <th>user</th>\n",
       "      <th>text</th>\n",
       "      <th>target</th>\n",
       "    </tr>\n",
       "  </thead>\n",
       "  <tbody>\n",
       "    <tr>\n",
       "      <th>199995</th>\n",
       "      <td>DivaDay</td>\n",
       "      <td>doesnt feel good</td>\n",
       "      <td>0</td>\n",
       "    </tr>\n",
       "    <tr>\n",
       "      <th>199996</th>\n",
       "      <td>gogetphilled</td>\n",
       "      <td>work again</td>\n",
       "      <td>0</td>\n",
       "    </tr>\n",
       "    <tr>\n",
       "      <th>199997</th>\n",
       "      <td>CocaBeenSlinky</td>\n",
       "      <td>damienfranco its so common for it to crash now...</td>\n",
       "      <td>0</td>\n",
       "    </tr>\n",
       "    <tr>\n",
       "      <th>199998</th>\n",
       "      <td>dwfavoritegirl</td>\n",
       "      <td>my baby boy is wearing big boy underwear</td>\n",
       "      <td>0</td>\n",
       "    </tr>\n",
       "    <tr>\n",
       "      <th>199999</th>\n",
       "      <td>LuisIsLegend</td>\n",
       "      <td>fml i forgot my phone charger home</td>\n",
       "      <td>0</td>\n",
       "    </tr>\n",
       "  </tbody>\n",
       "</table>\n",
       "</div>"
      ],
      "text/plain": [
       "                  user                                               text  \\\n",
       "199995         DivaDay                                  doesnt feel good    \n",
       "199996    gogetphilled                                        work again    \n",
       "199997  CocaBeenSlinky  damienfranco its so common for it to crash now...   \n",
       "199998  dwfavoritegirl          my baby boy is wearing big boy underwear    \n",
       "199999    LuisIsLegend                fml i forgot my phone charger home    \n",
       "\n",
       "        target  \n",
       "199995       0  \n",
       "199996       0  \n",
       "199997       0  \n",
       "199998       0  \n",
       "199999       0  "
      ]
     },
     "execution_count": 84,
     "metadata": {},
     "output_type": "execute_result"
    }
   ],
   "source": [
    "data.tail()"
   ]
  },
  {
   "cell_type": "code",
   "execution_count": 85,
   "id": "f4a41acb-c680-4694-9889-dbd86db0c055",
   "metadata": {},
   "outputs": [
    {
     "data": {
      "text/html": [
       "<div>\n",
       "<style scoped>\n",
       "    .dataframe tbody tr th:only-of-type {\n",
       "        vertical-align: middle;\n",
       "    }\n",
       "\n",
       "    .dataframe tbody tr th {\n",
       "        vertical-align: top;\n",
       "    }\n",
       "\n",
       "    .dataframe thead th {\n",
       "        text-align: right;\n",
       "    }\n",
       "</style>\n",
       "<table border=\"1\" class=\"dataframe\">\n",
       "  <thead>\n",
       "    <tr style=\"text-align: right;\">\n",
       "      <th></th>\n",
       "      <th>name</th>\n",
       "      <th>age</th>\n",
       "    </tr>\n",
       "  </thead>\n",
       "  <tbody>\n",
       "    <tr>\n",
       "      <th>0</th>\n",
       "      <td>A</td>\n",
       "      <td>20</td>\n",
       "    </tr>\n",
       "    <tr>\n",
       "      <th>1</th>\n",
       "      <td>B</td>\n",
       "      <td>30</td>\n",
       "    </tr>\n",
       "    <tr>\n",
       "      <th>2</th>\n",
       "      <td>C</td>\n",
       "      <td>40</td>\n",
       "    </tr>\n",
       "    <tr>\n",
       "      <th>3</th>\n",
       "      <td>D</td>\n",
       "      <td>50</td>\n",
       "    </tr>\n",
       "    <tr>\n",
       "      <th>4</th>\n",
       "      <td>E</td>\n",
       "      <td>60</td>\n",
       "    </tr>\n",
       "    <tr>\n",
       "      <th>5</th>\n",
       "      <td>F</td>\n",
       "      <td>25</td>\n",
       "    </tr>\n",
       "    <tr>\n",
       "      <th>6</th>\n",
       "      <td>G</td>\n",
       "      <td>35</td>\n",
       "    </tr>\n",
       "    <tr>\n",
       "      <th>7</th>\n",
       "      <td>H</td>\n",
       "      <td>45</td>\n",
       "    </tr>\n",
       "  </tbody>\n",
       "</table>\n",
       "</div>"
      ],
      "text/plain": [
       "  name  age\n",
       "0    A   20\n",
       "1    B   30\n",
       "2    C   40\n",
       "3    D   50\n",
       "4    E   60\n",
       "5    F   25\n",
       "6    G   35\n",
       "7    H   45"
      ]
     },
     "execution_count": 85,
     "metadata": {},
     "output_type": "execute_result"
    }
   ],
   "source": [
    "df = pd.DataFrame({\"name\" : ['A', 'B', 'C', 'D', 'E', 'F', 'G', 'H'],\n",
    "                   \"age\" : [20, 30, 40, 50, 60, 25, 35, 45]})\n",
    "df"
   ]
  },
  {
   "cell_type": "code",
   "execution_count": 86,
   "id": "21bded9a-e841-42f2-853e-ae2202e25117",
   "metadata": {},
   "outputs": [
    {
     "data": {
      "text/html": [
       "<div>\n",
       "<style scoped>\n",
       "    .dataframe tbody tr th:only-of-type {\n",
       "        vertical-align: middle;\n",
       "    }\n",
       "\n",
       "    .dataframe tbody tr th {\n",
       "        vertical-align: top;\n",
       "    }\n",
       "\n",
       "    .dataframe thead th {\n",
       "        text-align: right;\n",
       "    }\n",
       "</style>\n",
       "<table border=\"1\" class=\"dataframe\">\n",
       "  <thead>\n",
       "    <tr style=\"text-align: right;\">\n",
       "      <th></th>\n",
       "      <th>name</th>\n",
       "      <th>age</th>\n",
       "    </tr>\n",
       "  </thead>\n",
       "  <tbody>\n",
       "    <tr>\n",
       "      <th>0</th>\n",
       "      <td>a</td>\n",
       "      <td>20</td>\n",
       "    </tr>\n",
       "    <tr>\n",
       "      <th>1</th>\n",
       "      <td>b</td>\n",
       "      <td>30</td>\n",
       "    </tr>\n",
       "    <tr>\n",
       "      <th>2</th>\n",
       "      <td>c</td>\n",
       "      <td>40</td>\n",
       "    </tr>\n",
       "    <tr>\n",
       "      <th>3</th>\n",
       "      <td>d</td>\n",
       "      <td>50</td>\n",
       "    </tr>\n",
       "    <tr>\n",
       "      <th>4</th>\n",
       "      <td>e</td>\n",
       "      <td>60</td>\n",
       "    </tr>\n",
       "    <tr>\n",
       "      <th>5</th>\n",
       "      <td>f</td>\n",
       "      <td>25</td>\n",
       "    </tr>\n",
       "    <tr>\n",
       "      <th>6</th>\n",
       "      <td>g</td>\n",
       "      <td>35</td>\n",
       "    </tr>\n",
       "    <tr>\n",
       "      <th>7</th>\n",
       "      <td>h</td>\n",
       "      <td>45</td>\n",
       "    </tr>\n",
       "  </tbody>\n",
       "</table>\n",
       "</div>"
      ],
      "text/plain": [
       "  name  age\n",
       "0    a   20\n",
       "1    b   30\n",
       "2    c   40\n",
       "3    d   50\n",
       "4    e   60\n",
       "5    f   25\n",
       "6    g   35\n",
       "7    h   45"
      ]
     },
     "execution_count": 86,
     "metadata": {},
     "output_type": "execute_result"
    }
   ],
   "source": [
    "df[\"name\"] = df[\"name\"].apply(lambda x : x.lower())\n",
    "df"
   ]
  },
  {
   "cell_type": "markdown",
   "id": "436067fc-136a-48ee-9296-29eff1c61fc1",
   "metadata": {},
   "source": [
    "### Removing all the stop words from the data\n",
    "\n",
    "- Stops words are just the connecting words used in the sentences.\n",
    "- For example : I am here to learn NLP. NLP is a very wide area of research.\n",
    "- I, am, here, to, is, a, very, of - words which have got no meanings."
   ]
  },
  {
   "cell_type": "code",
   "execution_count": 87,
   "id": "216dc51e-6fb9-44bd-93f7-071a27cbf634",
   "metadata": {},
   "outputs": [
    {
     "name": "stdout",
     "output_type": "stream",
     "text": [
      "['i', 'me', 'my', 'myself', 'we', 'our', 'ours', 'ourselves', 'you', \"you're\", \"you've\", \"you'll\", \"you'd\", 'your', 'yours', 'yourself', 'yourselves', 'he', 'him', 'his', 'himself', 'she', \"she's\", 'her', 'hers', 'herself', 'it', \"it's\", 'its', 'itself', 'they', 'them', 'their', 'theirs', 'themselves', 'what', 'which', 'who', 'whom', 'this', 'that', \"that'll\", 'these', 'those', 'am', 'is', 'are', 'was', 'were', 'be', 'been', 'being', 'have', 'has', 'had', 'having', 'do', 'does', 'did', 'doing', 'a', 'an', 'the', 'and', 'but', 'if', 'or', 'because', 'as', 'until', 'while', 'of', 'at', 'by', 'for', 'with', 'about', 'against', 'between', 'into', 'through', 'during', 'before', 'after', 'above', 'below', 'to', 'from', 'up', 'down', 'in', 'out', 'on', 'off', 'over', 'under', 'again', 'further', 'then', 'once', 'here', 'there', 'when', 'where', 'why', 'how', 'all', 'any', 'both', 'each', 'few', 'more', 'most', 'other', 'some', 'such', 'no', 'nor', 'not', 'only', 'own', 'same', 'so', 'than', 'too', 'very', 's', 't', 'can', 'will', 'just', 'don', \"don't\", 'should', \"should've\", 'now', 'd', 'll', 'm', 'o', 're', 've', 'y', 'ain', 'aren', \"aren't\", 'couldn', \"couldn't\", 'didn', \"didn't\", 'doesn', \"doesn't\", 'hadn', \"hadn't\", 'hasn', \"hasn't\", 'haven', \"haven't\", 'isn', \"isn't\", 'ma', 'mightn', \"mightn't\", 'mustn', \"mustn't\", 'needn', \"needn't\", 'shan', \"shan't\", 'shouldn', \"shouldn't\", 'wasn', \"wasn't\", 'weren', \"weren't\", 'won', \"won't\", 'wouldn', \"wouldn't\"]\n"
     ]
    }
   ],
   "source": [
    "import nltk\n",
    "from nltk.corpus import stopwords\n",
    "sw = stopwords.words(\"english\")\n",
    "print(sw)"
   ]
  },
  {
   "cell_type": "code",
   "execution_count": 88,
   "id": "9d1e0e40-db3d-43f4-aa7a-eabce93ce70a",
   "metadata": {},
   "outputs": [
    {
     "data": {
      "text/plain": [
       "'this is very interesting learning'"
      ]
     },
     "execution_count": 88,
     "metadata": {},
     "output_type": "execute_result"
    }
   ],
   "source": [
    "sent1_new"
   ]
  },
  {
   "cell_type": "code",
   "execution_count": 89,
   "id": "677bceb6-0055-404a-a752-9259a88aafa8",
   "metadata": {},
   "outputs": [
    {
     "data": {
      "text/plain": [
       "'interesting learning'"
      ]
     },
     "execution_count": 89,
     "metadata": {},
     "output_type": "execute_result"
    }
   ],
   "source": [
    "sent2 = \" \".join([word for word in sent1_new.split(\" \") if word not in sw])\n",
    "sent2"
   ]
  },
  {
   "cell_type": "code",
   "execution_count": 90,
   "id": "306427ce-7168-4406-afed-ae635e3d0487",
   "metadata": {},
   "outputs": [],
   "source": [
    "def remove_stopwords(text):\n",
    "    return \" \".join([word for word in text.split(\" \") if word not in sw])\n"
   ]
  },
  {
   "cell_type": "code",
   "execution_count": 91,
   "id": "ef2e1954-2c90-4b2c-8d22-f036ef46034c",
   "metadata": {},
   "outputs": [],
   "source": [
    "#sent3 = remove_stopwords(sent1_new)\n",
    "#sent3"
   ]
  },
  {
   "cell_type": "code",
   "execution_count": 92,
   "id": "5bdea678-e72d-4e7c-8fe7-39ee74fef318",
   "metadata": {},
   "outputs": [
    {
     "data": {
      "text/html": [
       "<div>\n",
       "<style scoped>\n",
       "    .dataframe tbody tr th:only-of-type {\n",
       "        vertical-align: middle;\n",
       "    }\n",
       "\n",
       "    .dataframe tbody tr th {\n",
       "        vertical-align: top;\n",
       "    }\n",
       "\n",
       "    .dataframe thead th {\n",
       "        text-align: right;\n",
       "    }\n",
       "</style>\n",
       "<table border=\"1\" class=\"dataframe\">\n",
       "  <thead>\n",
       "    <tr style=\"text-align: right;\">\n",
       "      <th></th>\n",
       "      <th>user</th>\n",
       "      <th>text</th>\n",
       "      <th>target</th>\n",
       "    </tr>\n",
       "  </thead>\n",
       "  <tbody>\n",
       "    <tr>\n",
       "      <th>800000</th>\n",
       "      <td>ersle</td>\n",
       "      <td>love health4uandpets u guys r best</td>\n",
       "      <td>1</td>\n",
       "    </tr>\n",
       "    <tr>\n",
       "      <th>800001</th>\n",
       "      <td>becca210</td>\n",
       "      <td>im meeting one besties tonight cant wait   gir...</td>\n",
       "      <td>1</td>\n",
       "    </tr>\n",
       "    <tr>\n",
       "      <th>800002</th>\n",
       "      <td>Wingman29</td>\n",
       "      <td>darealsunisakim thanks twitter add sunisa got ...</td>\n",
       "      <td>1</td>\n",
       "    </tr>\n",
       "    <tr>\n",
       "      <th>800003</th>\n",
       "      <td>katarinka</td>\n",
       "      <td>sick really cheap hurts much eat real food  pl...</td>\n",
       "      <td>1</td>\n",
       "    </tr>\n",
       "    <tr>\n",
       "      <th>800004</th>\n",
       "      <td>_EmilyYoung</td>\n",
       "      <td>lovesbrooklyn2 effect everyone</td>\n",
       "      <td>1</td>\n",
       "    </tr>\n",
       "  </tbody>\n",
       "</table>\n",
       "</div>"
      ],
      "text/plain": [
       "               user                                               text  target\n",
       "800000        ersle                love health4uandpets u guys r best        1\n",
       "800001     becca210  im meeting one besties tonight cant wait   gir...       1\n",
       "800002    Wingman29  darealsunisakim thanks twitter add sunisa got ...       1\n",
       "800003    katarinka  sick really cheap hurts much eat real food  pl...       1\n",
       "800004  _EmilyYoung                    lovesbrooklyn2 effect everyone        1"
      ]
     },
     "execution_count": 92,
     "metadata": {},
     "output_type": "execute_result"
    }
   ],
   "source": [
    "data[\"text\"] = data[\"text\"].apply(lambda x :remove_stopwords(x))\n",
    "data.head()"
   ]
  },
  {
   "cell_type": "code",
   "execution_count": 93,
   "id": "49b75c24-824f-411c-acd9-81a302d5b846",
   "metadata": {},
   "outputs": [
    {
     "data": {
      "text/html": [
       "<div>\n",
       "<style scoped>\n",
       "    .dataframe tbody tr th:only-of-type {\n",
       "        vertical-align: middle;\n",
       "    }\n",
       "\n",
       "    .dataframe tbody tr th {\n",
       "        vertical-align: top;\n",
       "    }\n",
       "\n",
       "    .dataframe thead th {\n",
       "        text-align: right;\n",
       "    }\n",
       "</style>\n",
       "<table border=\"1\" class=\"dataframe\">\n",
       "  <thead>\n",
       "    <tr style=\"text-align: right;\">\n",
       "      <th></th>\n",
       "      <th>user</th>\n",
       "      <th>text</th>\n",
       "      <th>target</th>\n",
       "    </tr>\n",
       "  </thead>\n",
       "  <tbody>\n",
       "    <tr>\n",
       "      <th>199995</th>\n",
       "      <td>DivaDay</td>\n",
       "      <td>doesnt feel good</td>\n",
       "      <td>0</td>\n",
       "    </tr>\n",
       "    <tr>\n",
       "      <th>199996</th>\n",
       "      <td>gogetphilled</td>\n",
       "      <td>work</td>\n",
       "      <td>0</td>\n",
       "    </tr>\n",
       "    <tr>\n",
       "      <th>199997</th>\n",
       "      <td>CocaBeenSlinky</td>\n",
       "      <td>damienfranco common crash   find delete proces...</td>\n",
       "      <td>0</td>\n",
       "    </tr>\n",
       "    <tr>\n",
       "      <th>199998</th>\n",
       "      <td>dwfavoritegirl</td>\n",
       "      <td>baby boy wearing big boy underwear</td>\n",
       "      <td>0</td>\n",
       "    </tr>\n",
       "    <tr>\n",
       "      <th>199999</th>\n",
       "      <td>LuisIsLegend</td>\n",
       "      <td>fml forgot phone charger home</td>\n",
       "      <td>0</td>\n",
       "    </tr>\n",
       "  </tbody>\n",
       "</table>\n",
       "</div>"
      ],
      "text/plain": [
       "                  user                                               text  \\\n",
       "199995         DivaDay                                  doesnt feel good    \n",
       "199996    gogetphilled                                              work    \n",
       "199997  CocaBeenSlinky  damienfranco common crash   find delete proces...   \n",
       "199998  dwfavoritegirl                baby boy wearing big boy underwear    \n",
       "199999    LuisIsLegend                     fml forgot phone charger home    \n",
       "\n",
       "        target  \n",
       "199995       0  \n",
       "199996       0  \n",
       "199997       0  \n",
       "199998       0  \n",
       "199999       0  "
      ]
     },
     "execution_count": 93,
     "metadata": {},
     "output_type": "execute_result"
    }
   ],
   "source": [
    "data.tail()"
   ]
  },
  {
   "cell_type": "markdown",
   "id": "0ef57cde-8e9f-4058-9b4f-9b117cd04e33",
   "metadata": {},
   "source": [
    "### Remvoing the digits from the text column"
   ]
  },
  {
   "cell_type": "code",
   "execution_count": 94,
   "id": "866ceb48-fd41-4db9-9b34-c199270e1887",
   "metadata": {},
   "outputs": [
    {
     "data": {
      "text/html": [
       "<div>\n",
       "<style scoped>\n",
       "    .dataframe tbody tr th:only-of-type {\n",
       "        vertical-align: middle;\n",
       "    }\n",
       "\n",
       "    .dataframe tbody tr th {\n",
       "        vertical-align: top;\n",
       "    }\n",
       "\n",
       "    .dataframe thead th {\n",
       "        text-align: right;\n",
       "    }\n",
       "</style>\n",
       "<table border=\"1\" class=\"dataframe\">\n",
       "  <thead>\n",
       "    <tr style=\"text-align: right;\">\n",
       "      <th></th>\n",
       "      <th>user</th>\n",
       "      <th>text</th>\n",
       "      <th>target</th>\n",
       "    </tr>\n",
       "  </thead>\n",
       "  <tbody>\n",
       "    <tr>\n",
       "      <th>199980</th>\n",
       "      <td>stacym16</td>\n",
       "      <td>got much stuff dowanna beach though</td>\n",
       "      <td>0</td>\n",
       "    </tr>\n",
       "    <tr>\n",
       "      <th>199981</th>\n",
       "      <td>Terrinixon</td>\n",
       "      <td>marns ugh  mines eased nicely hope one wear tu...</td>\n",
       "      <td>0</td>\n",
       "    </tr>\n",
       "    <tr>\n",
       "      <th>199982</th>\n",
       "      <td>ashleeadams</td>\n",
       "      <td>feel sad lonely miss kyle</td>\n",
       "      <td>0</td>\n",
       "    </tr>\n",
       "    <tr>\n",
       "      <th>199983</th>\n",
       "      <td>LINOOO</td>\n",
       "      <td>sarah1991   wont long well back lead yn</td>\n",
       "      <td>0</td>\n",
       "    </tr>\n",
       "    <tr>\n",
       "      <th>199984</th>\n",
       "      <td>limeice</td>\n",
       "      <td>sloth13 blame bad jobs gave long lecture im wa...</td>\n",
       "      <td>0</td>\n",
       "    </tr>\n",
       "    <tr>\n",
       "      <th>199985</th>\n",
       "      <td>lintangkusuma</td>\n",
       "      <td>trouble boyf</td>\n",
       "      <td>0</td>\n",
       "    </tr>\n",
       "    <tr>\n",
       "      <th>199986</th>\n",
       "      <td>_coops_</td>\n",
       "      <td>awaltzforanight aww hugs know feels</td>\n",
       "      <td>0</td>\n",
       "    </tr>\n",
       "    <tr>\n",
       "      <th>199987</th>\n",
       "      <td>tatooinechick</td>\n",
       "      <td>think everyone sun  tweets hours phonecalls wo...</td>\n",
       "      <td>0</td>\n",
       "    </tr>\n",
       "    <tr>\n",
       "      <th>199988</th>\n",
       "      <td>Julie_Price</td>\n",
       "      <td>yard selling alone today  someone gave us 200 ...</td>\n",
       "      <td>0</td>\n",
       "    </tr>\n",
       "    <tr>\n",
       "      <th>199989</th>\n",
       "      <td>gabehabe</td>\n",
       "      <td>tinymicroserf like taste prawns cant eat feel ...</td>\n",
       "      <td>0</td>\n",
       "    </tr>\n",
       "    <tr>\n",
       "      <th>199990</th>\n",
       "      <td>Galiiit</td>\n",
       "      <td>uhohcaitie aw man jealous cant believe missed ...</td>\n",
       "      <td>0</td>\n",
       "    </tr>\n",
       "    <tr>\n",
       "      <th>199991</th>\n",
       "      <td>bluefuel318</td>\n",
       "      <td>warley like cant use search function w remote ...</td>\n",
       "      <td>0</td>\n",
       "    </tr>\n",
       "    <tr>\n",
       "      <th>199992</th>\n",
       "      <td>cwheeley</td>\n",
       "      <td>loganculwell sorry missed movie last night</td>\n",
       "      <td>0</td>\n",
       "    </tr>\n",
       "    <tr>\n",
       "      <th>199993</th>\n",
       "      <td>sarahheidi</td>\n",
       "      <td>nasty migraine day missed large quantity sunsh...</td>\n",
       "      <td>0</td>\n",
       "    </tr>\n",
       "    <tr>\n",
       "      <th>199994</th>\n",
       "      <td>alexissanch</td>\n",
       "      <td>main man thankfully hes crazy yet ps getting s...</td>\n",
       "      <td>0</td>\n",
       "    </tr>\n",
       "    <tr>\n",
       "      <th>199995</th>\n",
       "      <td>DivaDay</td>\n",
       "      <td>doesnt feel good</td>\n",
       "      <td>0</td>\n",
       "    </tr>\n",
       "    <tr>\n",
       "      <th>199996</th>\n",
       "      <td>gogetphilled</td>\n",
       "      <td>work</td>\n",
       "      <td>0</td>\n",
       "    </tr>\n",
       "    <tr>\n",
       "      <th>199997</th>\n",
       "      <td>CocaBeenSlinky</td>\n",
       "      <td>damienfranco common crash   find delete proces...</td>\n",
       "      <td>0</td>\n",
       "    </tr>\n",
       "    <tr>\n",
       "      <th>199998</th>\n",
       "      <td>dwfavoritegirl</td>\n",
       "      <td>baby boy wearing big boy underwear</td>\n",
       "      <td>0</td>\n",
       "    </tr>\n",
       "    <tr>\n",
       "      <th>199999</th>\n",
       "      <td>LuisIsLegend</td>\n",
       "      <td>fml forgot phone charger home</td>\n",
       "      <td>0</td>\n",
       "    </tr>\n",
       "  </tbody>\n",
       "</table>\n",
       "</div>"
      ],
      "text/plain": [
       "                  user                                               text  \\\n",
       "199980        stacym16               got much stuff dowanna beach though    \n",
       "199981      Terrinixon  marns ugh  mines eased nicely hope one wear tu...   \n",
       "199982     ashleeadams                         feel sad lonely miss kyle    \n",
       "199983          LINOOO            sarah1991   wont long well back lead yn   \n",
       "199984         limeice  sloth13 blame bad jobs gave long lecture im wa...   \n",
       "199985   lintangkusuma                                      trouble boyf    \n",
       "199986         _coops_               awaltzforanight aww hugs know feels    \n",
       "199987   tatooinechick  think everyone sun  tweets hours phonecalls wo...   \n",
       "199988     Julie_Price  yard selling alone today  someone gave us 200 ...   \n",
       "199989        gabehabe  tinymicroserf like taste prawns cant eat feel ...   \n",
       "199990         Galiiit  uhohcaitie aw man jealous cant believe missed ...   \n",
       "199991     bluefuel318  warley like cant use search function w remote ...   \n",
       "199992        cwheeley        loganculwell sorry missed movie last night    \n",
       "199993      sarahheidi  nasty migraine day missed large quantity sunsh...   \n",
       "199994     alexissanch  main man thankfully hes crazy yet ps getting s...   \n",
       "199995         DivaDay                                  doesnt feel good    \n",
       "199996    gogetphilled                                              work    \n",
       "199997  CocaBeenSlinky  damienfranco common crash   find delete proces...   \n",
       "199998  dwfavoritegirl                baby boy wearing big boy underwear    \n",
       "199999    LuisIsLegend                     fml forgot phone charger home    \n",
       "\n",
       "        target  \n",
       "199980       0  \n",
       "199981       0  \n",
       "199982       0  \n",
       "199983       0  \n",
       "199984       0  \n",
       "199985       0  \n",
       "199986       0  \n",
       "199987       0  \n",
       "199988       0  \n",
       "199989       0  \n",
       "199990       0  \n",
       "199991       0  \n",
       "199992       0  \n",
       "199993       0  \n",
       "199994       0  \n",
       "199995       0  \n",
       "199996       0  \n",
       "199997       0  \n",
       "199998       0  \n",
       "199999       0  "
      ]
     },
     "execution_count": 94,
     "metadata": {},
     "output_type": "execute_result"
    }
   ],
   "source": [
    "data.tail(20)"
   ]
  },
  {
   "cell_type": "code",
   "execution_count": 95,
   "id": "a25c1766-40dd-49e5-a3d2-befbc19765c1",
   "metadata": {},
   "outputs": [
    {
     "data": {
      "text/html": [
       "<div>\n",
       "<style scoped>\n",
       "    .dataframe tbody tr th:only-of-type {\n",
       "        vertical-align: middle;\n",
       "    }\n",
       "\n",
       "    .dataframe tbody tr th {\n",
       "        vertical-align: top;\n",
       "    }\n",
       "\n",
       "    .dataframe thead th {\n",
       "        text-align: right;\n",
       "    }\n",
       "</style>\n",
       "<table border=\"1\" class=\"dataframe\">\n",
       "  <thead>\n",
       "    <tr style=\"text-align: right;\">\n",
       "      <th></th>\n",
       "      <th>user</th>\n",
       "      <th>text</th>\n",
       "      <th>target</th>\n",
       "    </tr>\n",
       "  </thead>\n",
       "  <tbody>\n",
       "    <tr>\n",
       "      <th>800000</th>\n",
       "      <td>ersle</td>\n",
       "      <td>love health4uandpets u guys r best</td>\n",
       "      <td>1</td>\n",
       "    </tr>\n",
       "    <tr>\n",
       "      <th>800001</th>\n",
       "      <td>becca210</td>\n",
       "      <td>im meeting one besties tonight cant wait   gir...</td>\n",
       "      <td>1</td>\n",
       "    </tr>\n",
       "    <tr>\n",
       "      <th>800002</th>\n",
       "      <td>Wingman29</td>\n",
       "      <td>darealsunisakim thanks twitter add sunisa got ...</td>\n",
       "      <td>1</td>\n",
       "    </tr>\n",
       "    <tr>\n",
       "      <th>800003</th>\n",
       "      <td>katarinka</td>\n",
       "      <td>sick really cheap hurts much eat real food  pl...</td>\n",
       "      <td>1</td>\n",
       "    </tr>\n",
       "    <tr>\n",
       "      <th>800004</th>\n",
       "      <td>_EmilyYoung</td>\n",
       "      <td>lovesbrooklyn2 effect everyone</td>\n",
       "      <td>1</td>\n",
       "    </tr>\n",
       "    <tr>\n",
       "      <th>800005</th>\n",
       "      <td>ajarofalmonds</td>\n",
       "      <td>productoffear tell burst laughing really loud ...</td>\n",
       "      <td>1</td>\n",
       "    </tr>\n",
       "    <tr>\n",
       "      <th>800006</th>\n",
       "      <td>vmdavinci</td>\n",
       "      <td>rkeithhill thans response ihad already find an...</td>\n",
       "      <td>1</td>\n",
       "    </tr>\n",
       "    <tr>\n",
       "      <th>800007</th>\n",
       "      <td>jessicavaliyi</td>\n",
       "      <td>keepinupwkris jealous hope great time vegas li...</td>\n",
       "      <td>1</td>\n",
       "    </tr>\n",
       "    <tr>\n",
       "      <th>800008</th>\n",
       "      <td>emmasaur28</td>\n",
       "      <td>tommcfly ah congrats mr fletcher finally joini...</td>\n",
       "      <td>1</td>\n",
       "    </tr>\n",
       "    <tr>\n",
       "      <th>800009</th>\n",
       "      <td>SherylBreuker</td>\n",
       "      <td>e4voip responded  stupid cat helping type forg...</td>\n",
       "      <td>1</td>\n",
       "    </tr>\n",
       "    <tr>\n",
       "      <th>800010</th>\n",
       "      <td>claaare</td>\n",
       "      <td>crazy day school 10 hours straiiight watch hil...</td>\n",
       "      <td>1</td>\n",
       "    </tr>\n",
       "    <tr>\n",
       "      <th>800011</th>\n",
       "      <td>Hollywood_Trey</td>\n",
       "      <td>naughtyhaughty forget two half men love show</td>\n",
       "      <td>1</td>\n",
       "    </tr>\n",
       "    <tr>\n",
       "      <th>800012</th>\n",
       "      <td>JJLuver756</td>\n",
       "      <td>nileyjileyluver haha dont worry youll get hang</td>\n",
       "      <td>1</td>\n",
       "    </tr>\n",
       "    <tr>\n",
       "      <th>800013</th>\n",
       "      <td>tophatdog</td>\n",
       "      <td>soundwav2010 least wont one feeling lost may c...</td>\n",
       "      <td>1</td>\n",
       "    </tr>\n",
       "    <tr>\n",
       "      <th>800014</th>\n",
       "      <td>toothfairycyber</td>\n",
       "      <td>lutheranlucciol make sure dm post link video l...</td>\n",
       "      <td>1</td>\n",
       "    </tr>\n",
       "    <tr>\n",
       "      <th>800015</th>\n",
       "      <td>misstoriblack</td>\n",
       "      <td>added tweetie new iphone</td>\n",
       "      <td>1</td>\n",
       "    </tr>\n",
       "    <tr>\n",
       "      <th>800016</th>\n",
       "      <td>estariray</td>\n",
       "      <td>michellardi really dont know think globe  yeah...</td>\n",
       "      <td>1</td>\n",
       "    </tr>\n",
       "    <tr>\n",
       "      <th>800017</th>\n",
       "      <td>ddjuli</td>\n",
       "      <td>nicolerichie picture sweet</td>\n",
       "      <td>1</td>\n",
       "    </tr>\n",
       "    <tr>\n",
       "      <th>800018</th>\n",
       "      <td>adamjackson</td>\n",
       "      <td>catching emails rss random bacn im cutting ear...</td>\n",
       "      <td>1</td>\n",
       "    </tr>\n",
       "    <tr>\n",
       "      <th>800019</th>\n",
       "      <td>lightleaves</td>\n",
       "      <td>dancing around room pjs jamming ipod getting d...</td>\n",
       "      <td>1</td>\n",
       "    </tr>\n",
       "  </tbody>\n",
       "</table>\n",
       "</div>"
      ],
      "text/plain": [
       "                   user                                               text  \\\n",
       "800000            ersle                love health4uandpets u guys r best    \n",
       "800001         becca210  im meeting one besties tonight cant wait   gir...   \n",
       "800002        Wingman29  darealsunisakim thanks twitter add sunisa got ...   \n",
       "800003        katarinka  sick really cheap hurts much eat real food  pl...   \n",
       "800004      _EmilyYoung                    lovesbrooklyn2 effect everyone    \n",
       "800005    ajarofalmonds  productoffear tell burst laughing really loud ...   \n",
       "800006        vmdavinci  rkeithhill thans response ihad already find an...   \n",
       "800007    jessicavaliyi  keepinupwkris jealous hope great time vegas li...   \n",
       "800008       emmasaur28  tommcfly ah congrats mr fletcher finally joini...   \n",
       "800009    SherylBreuker  e4voip responded  stupid cat helping type forg...   \n",
       "800010          claaare  crazy day school 10 hours straiiight watch hil...   \n",
       "800011   Hollywood_Trey      naughtyhaughty forget two half men love show    \n",
       "800012       JJLuver756    nileyjileyluver haha dont worry youll get hang    \n",
       "800013        tophatdog  soundwav2010 least wont one feeling lost may c...   \n",
       "800014  toothfairycyber  lutheranlucciol make sure dm post link video l...   \n",
       "800015    misstoriblack                          added tweetie new iphone    \n",
       "800016        estariray  michellardi really dont know think globe  yeah...   \n",
       "800017           ddjuli                        nicolerichie picture sweet    \n",
       "800018      adamjackson  catching emails rss random bacn im cutting ear...   \n",
       "800019      lightleaves  dancing around room pjs jamming ipod getting d...   \n",
       "\n",
       "        target  \n",
       "800000       1  \n",
       "800001       1  \n",
       "800002       1  \n",
       "800003       1  \n",
       "800004       1  \n",
       "800005       1  \n",
       "800006       1  \n",
       "800007       1  \n",
       "800008       1  \n",
       "800009       1  \n",
       "800010       1  \n",
       "800011       1  \n",
       "800012       1  \n",
       "800013       1  \n",
       "800014       1  \n",
       "800015       1  \n",
       "800016       1  \n",
       "800017       1  \n",
       "800018       1  \n",
       "800019       1  "
      ]
     },
     "execution_count": 95,
     "metadata": {},
     "output_type": "execute_result"
    }
   ],
   "source": [
    "data.head(20)"
   ]
  },
  {
   "cell_type": "code",
   "execution_count": 96,
   "id": "724f048b-566c-453d-a436-1cbec0ef3050",
   "metadata": {},
   "outputs": [],
   "source": [
    "import re\n",
    "def remove_num(text):\n",
    "    return re.sub(\"[0-9]+\", \"\", text)\n",
    "\n",
    "data['text'] = data['text'].apply(lambda x : remove_num(x))"
   ]
  },
  {
   "cell_type": "code",
   "execution_count": 97,
   "id": "8b38dc13-06c0-45f7-9225-9a3fbabc2c7a",
   "metadata": {},
   "outputs": [
    {
     "data": {
      "text/plain": [
       "'abcdxyz'"
      ]
     },
     "execution_count": 97,
     "metadata": {},
     "output_type": "execute_result"
    }
   ],
   "source": [
    "import re\n",
    "txt = \"abcd1234xyz789\"\n",
    "re.sub(\"[0-9]+\",\"\",txt)"
   ]
  },
  {
   "cell_type": "code",
   "execution_count": 98,
   "id": "34d04ae5-4097-45f0-a9a3-1acb847b7105",
   "metadata": {},
   "outputs": [
    {
     "data": {
      "text/html": [
       "<div>\n",
       "<style scoped>\n",
       "    .dataframe tbody tr th:only-of-type {\n",
       "        vertical-align: middle;\n",
       "    }\n",
       "\n",
       "    .dataframe tbody tr th {\n",
       "        vertical-align: top;\n",
       "    }\n",
       "\n",
       "    .dataframe thead th {\n",
       "        text-align: right;\n",
       "    }\n",
       "</style>\n",
       "<table border=\"1\" class=\"dataframe\">\n",
       "  <thead>\n",
       "    <tr style=\"text-align: right;\">\n",
       "      <th></th>\n",
       "      <th>user</th>\n",
       "      <th>text</th>\n",
       "      <th>target</th>\n",
       "    </tr>\n",
       "  </thead>\n",
       "  <tbody>\n",
       "    <tr>\n",
       "      <th>199985</th>\n",
       "      <td>lintangkusuma</td>\n",
       "      <td>trouble boyf</td>\n",
       "      <td>0</td>\n",
       "    </tr>\n",
       "    <tr>\n",
       "      <th>199986</th>\n",
       "      <td>_coops_</td>\n",
       "      <td>awaltzforanight aww hugs know feels</td>\n",
       "      <td>0</td>\n",
       "    </tr>\n",
       "    <tr>\n",
       "      <th>199987</th>\n",
       "      <td>tatooinechick</td>\n",
       "      <td>think everyone sun  tweets hours phonecalls wo...</td>\n",
       "      <td>0</td>\n",
       "    </tr>\n",
       "    <tr>\n",
       "      <th>199988</th>\n",
       "      <td>Julie_Price</td>\n",
       "      <td>yard selling alone today  someone gave us  dol...</td>\n",
       "      <td>0</td>\n",
       "    </tr>\n",
       "    <tr>\n",
       "      <th>199989</th>\n",
       "      <td>gabehabe</td>\n",
       "      <td>tinymicroserf like taste prawns cant eat feel ...</td>\n",
       "      <td>0</td>\n",
       "    </tr>\n",
       "    <tr>\n",
       "      <th>199990</th>\n",
       "      <td>Galiiit</td>\n",
       "      <td>uhohcaitie aw man jealous cant believe missed ...</td>\n",
       "      <td>0</td>\n",
       "    </tr>\n",
       "    <tr>\n",
       "      <th>199991</th>\n",
       "      <td>bluefuel318</td>\n",
       "      <td>warley like cant use search function w remote ...</td>\n",
       "      <td>0</td>\n",
       "    </tr>\n",
       "    <tr>\n",
       "      <th>199992</th>\n",
       "      <td>cwheeley</td>\n",
       "      <td>loganculwell sorry missed movie last night</td>\n",
       "      <td>0</td>\n",
       "    </tr>\n",
       "    <tr>\n",
       "      <th>199993</th>\n",
       "      <td>sarahheidi</td>\n",
       "      <td>nasty migraine day missed large quantity sunsh...</td>\n",
       "      <td>0</td>\n",
       "    </tr>\n",
       "    <tr>\n",
       "      <th>199994</th>\n",
       "      <td>alexissanch</td>\n",
       "      <td>main man thankfully hes crazy yet ps getting s...</td>\n",
       "      <td>0</td>\n",
       "    </tr>\n",
       "    <tr>\n",
       "      <th>199995</th>\n",
       "      <td>DivaDay</td>\n",
       "      <td>doesnt feel good</td>\n",
       "      <td>0</td>\n",
       "    </tr>\n",
       "    <tr>\n",
       "      <th>199996</th>\n",
       "      <td>gogetphilled</td>\n",
       "      <td>work</td>\n",
       "      <td>0</td>\n",
       "    </tr>\n",
       "    <tr>\n",
       "      <th>199997</th>\n",
       "      <td>CocaBeenSlinky</td>\n",
       "      <td>damienfranco common crash   find delete proces...</td>\n",
       "      <td>0</td>\n",
       "    </tr>\n",
       "    <tr>\n",
       "      <th>199998</th>\n",
       "      <td>dwfavoritegirl</td>\n",
       "      <td>baby boy wearing big boy underwear</td>\n",
       "      <td>0</td>\n",
       "    </tr>\n",
       "    <tr>\n",
       "      <th>199999</th>\n",
       "      <td>LuisIsLegend</td>\n",
       "      <td>fml forgot phone charger home</td>\n",
       "      <td>0</td>\n",
       "    </tr>\n",
       "  </tbody>\n",
       "</table>\n",
       "</div>"
      ],
      "text/plain": [
       "                  user                                               text  \\\n",
       "199985   lintangkusuma                                      trouble boyf    \n",
       "199986         _coops_               awaltzforanight aww hugs know feels    \n",
       "199987   tatooinechick  think everyone sun  tweets hours phonecalls wo...   \n",
       "199988     Julie_Price  yard selling alone today  someone gave us  dol...   \n",
       "199989        gabehabe  tinymicroserf like taste prawns cant eat feel ...   \n",
       "199990         Galiiit  uhohcaitie aw man jealous cant believe missed ...   \n",
       "199991     bluefuel318  warley like cant use search function w remote ...   \n",
       "199992        cwheeley        loganculwell sorry missed movie last night    \n",
       "199993      sarahheidi  nasty migraine day missed large quantity sunsh...   \n",
       "199994     alexissanch  main man thankfully hes crazy yet ps getting s...   \n",
       "199995         DivaDay                                  doesnt feel good    \n",
       "199996    gogetphilled                                              work    \n",
       "199997  CocaBeenSlinky  damienfranco common crash   find delete proces...   \n",
       "199998  dwfavoritegirl                baby boy wearing big boy underwear    \n",
       "199999    LuisIsLegend                     fml forgot phone charger home    \n",
       "\n",
       "        target  \n",
       "199985       0  \n",
       "199986       0  \n",
       "199987       0  \n",
       "199988       0  \n",
       "199989       0  \n",
       "199990       0  \n",
       "199991       0  \n",
       "199992       0  \n",
       "199993       0  \n",
       "199994       0  \n",
       "199995       0  \n",
       "199996       0  \n",
       "199997       0  \n",
       "199998       0  \n",
       "199999       0  "
      ]
     },
     "execution_count": 98,
     "metadata": {},
     "output_type": "execute_result"
    }
   ],
   "source": [
    "data.tail(15)"
   ]
  },
  {
   "cell_type": "code",
   "execution_count": null,
   "id": "d76c93e9-0d53-4718-86b6-70eec1ef0823",
   "metadata": {},
   "outputs": [],
   "source": []
  },
  {
   "cell_type": "markdown",
   "id": "9935f277-266b-442e-b135-e6d89b3d35e4",
   "metadata": {},
   "source": [
    "### Clean and remove the repeating adjacent words to each other"
   ]
  },
  {
   "cell_type": "code",
   "execution_count": 100,
   "id": "6cc2781e-3844-4d99-85e9-c32816a3f823",
   "metadata": {},
   "outputs": [],
   "source": [
    "t1 = \"How are are you\"\n",
    "t2 = \"Edpresso is the the the best platform to learn drawing\"\n",
    "t3 = \"programming fun is fun always\""
   ]
  },
  {
   "cell_type": "code",
   "execution_count": 103,
   "id": "a912ce37-2366-4beb-9af7-5c6800ba8541",
   "metadata": {},
   "outputs": [],
   "source": [
    "import re\n",
    "regex = r'\\b(\\w+)(?:\\W+\\1\\b)+'   # using the re to identify the repeated adjacent words in a sentence"
   ]
  },
  {
   "cell_type": "code",
   "execution_count": 104,
   "id": "70c46743-d4d8-4c96-ab6a-ddc97be9888d",
   "metadata": {},
   "outputs": [
    {
     "data": {
      "text/plain": [
       "'How are you'"
      ]
     },
     "execution_count": 104,
     "metadata": {},
     "output_type": "execute_result"
    }
   ],
   "source": [
    "re.sub(regex, r'\\1', t1, flags = re.IGNORECASE)"
   ]
  },
  {
   "cell_type": "code",
   "execution_count": 105,
   "id": "23677643-5dc5-4b7d-ac62-3a1a613d3565",
   "metadata": {},
   "outputs": [
    {
     "data": {
      "text/plain": [
       "'Edpresso is the best platform to learn drawing'"
      ]
     },
     "execution_count": 105,
     "metadata": {},
     "output_type": "execute_result"
    }
   ],
   "source": [
    "re.sub(regex, r'\\1', t2, flags = re.IGNORECASE)"
   ]
  },
  {
   "cell_type": "code",
   "execution_count": 106,
   "id": "5fb71853-0052-4890-bb55-8c309861456b",
   "metadata": {},
   "outputs": [
    {
     "data": {
      "text/plain": [
       "'programming fun is fun always'"
      ]
     },
     "execution_count": 106,
     "metadata": {},
     "output_type": "execute_result"
    }
   ],
   "source": [
    "re.sub(regex, r'\\1', t3, flags = re.IGNORECASE)"
   ]
  },
  {
   "cell_type": "code",
   "execution_count": 107,
   "id": "548d6d4c-2290-4dfa-a922-969f01039da2",
   "metadata": {},
   "outputs": [
    {
     "data": {
      "text/html": [
       "<div>\n",
       "<style scoped>\n",
       "    .dataframe tbody tr th:only-of-type {\n",
       "        vertical-align: middle;\n",
       "    }\n",
       "\n",
       "    .dataframe tbody tr th {\n",
       "        vertical-align: top;\n",
       "    }\n",
       "\n",
       "    .dataframe thead th {\n",
       "        text-align: right;\n",
       "    }\n",
       "</style>\n",
       "<table border=\"1\" class=\"dataframe\">\n",
       "  <thead>\n",
       "    <tr style=\"text-align: right;\">\n",
       "      <th></th>\n",
       "      <th>user</th>\n",
       "      <th>text</th>\n",
       "      <th>target</th>\n",
       "    </tr>\n",
       "  </thead>\n",
       "  <tbody>\n",
       "    <tr>\n",
       "      <th>199995</th>\n",
       "      <td>DivaDay</td>\n",
       "      <td>doesnt feel good</td>\n",
       "      <td>0</td>\n",
       "    </tr>\n",
       "    <tr>\n",
       "      <th>199996</th>\n",
       "      <td>gogetphilled</td>\n",
       "      <td>work</td>\n",
       "      <td>0</td>\n",
       "    </tr>\n",
       "    <tr>\n",
       "      <th>199997</th>\n",
       "      <td>CocaBeenSlinky</td>\n",
       "      <td>damienfranco common crash   find delete proces...</td>\n",
       "      <td>0</td>\n",
       "    </tr>\n",
       "    <tr>\n",
       "      <th>199998</th>\n",
       "      <td>dwfavoritegirl</td>\n",
       "      <td>baby boy wearing big boy underwear</td>\n",
       "      <td>0</td>\n",
       "    </tr>\n",
       "    <tr>\n",
       "      <th>199999</th>\n",
       "      <td>LuisIsLegend</td>\n",
       "      <td>fml forgot phone charger home</td>\n",
       "      <td>0</td>\n",
       "    </tr>\n",
       "  </tbody>\n",
       "</table>\n",
       "</div>"
      ],
      "text/plain": [
       "                  user                                               text  \\\n",
       "199995         DivaDay                                  doesnt feel good    \n",
       "199996    gogetphilled                                              work    \n",
       "199997  CocaBeenSlinky  damienfranco common crash   find delete proces...   \n",
       "199998  dwfavoritegirl                baby boy wearing big boy underwear    \n",
       "199999    LuisIsLegend                     fml forgot phone charger home    \n",
       "\n",
       "        target  \n",
       "199995       0  \n",
       "199996       0  \n",
       "199997       0  \n",
       "199998       0  \n",
       "199999       0  "
      ]
     },
     "execution_count": 107,
     "metadata": {},
     "output_type": "execute_result"
    }
   ],
   "source": [
    "def cleaning_dup_words(text):\n",
    "    return re.sub(regex, r'\\1', text, flags = re.IGNORECASE)\n",
    "\n",
    "data['text'] = data['text'].apply(lambda x : cleaning_dup_words(x))\n",
    "data.tail()"
   ]
  },
  {
   "cell_type": "markdown",
   "id": "e3d9a1e7-ccb0-4ee6-98b9-e03f54b4032c",
   "metadata": {},
   "source": [
    "#### Using the concept of regex:\n",
    "- Remove all the emojis\n",
    "- Remove all the extra spaces\n",
    "- Remove all the usernames from the text\n",
    "- Perform Stemming & lemmatization on the text"
   ]
  },
  {
   "cell_type": "code",
   "execution_count": null,
   "id": "86fa3420-224e-4b34-b945-d24bf66d9fdf",
   "metadata": {},
   "outputs": [],
   "source": []
  }
 ],
 "metadata": {
  "kernelspec": {
   "display_name": "Python 3 (ipykernel)",
   "language": "python",
   "name": "python3"
  },
  "language_info": {
   "codemirror_mode": {
    "name": "ipython",
    "version": 3
   },
   "file_extension": ".py",
   "mimetype": "text/x-python",
   "name": "python",
   "nbconvert_exporter": "python",
   "pygments_lexer": "ipython3",
   "version": "3.9.18"
  }
 },
 "nbformat": 4,
 "nbformat_minor": 5
}
