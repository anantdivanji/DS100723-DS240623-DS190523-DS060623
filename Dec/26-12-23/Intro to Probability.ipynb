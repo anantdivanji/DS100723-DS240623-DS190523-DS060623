{
 "cells": [
  {
   "cell_type": "code",
   "execution_count": 1,
   "id": "638b1013-2e1b-4441-8af6-b820ad61bfff",
   "metadata": {},
   "outputs": [],
   "source": [
    "import pandas as pd\n",
    "import numpy as np"
   ]
  },
  {
   "cell_type": "code",
   "execution_count": 2,
   "id": "bfa3f9e0-85ab-4c72-9701-6b1d8dcdeb09",
   "metadata": {},
   "outputs": [
    {
     "data": {
      "text/html": [
       "<div>\n",
       "<style scoped>\n",
       "    .dataframe tbody tr th:only-of-type {\n",
       "        vertical-align: middle;\n",
       "    }\n",
       "\n",
       "    .dataframe tbody tr th {\n",
       "        vertical-align: top;\n",
       "    }\n",
       "\n",
       "    .dataframe thead th {\n",
       "        text-align: right;\n",
       "    }\n",
       "</style>\n",
       "<table border=\"1\" class=\"dataframe\">\n",
       "  <thead>\n",
       "    <tr style=\"text-align: right;\">\n",
       "      <th></th>\n",
       "      <th>runs</th>\n",
       "      <th>NotOut</th>\n",
       "      <th>mins</th>\n",
       "      <th>bf</th>\n",
       "      <th>fours</th>\n",
       "      <th>sixes</th>\n",
       "      <th>sr</th>\n",
       "      <th>Inns</th>\n",
       "      <th>Opp</th>\n",
       "      <th>Ground</th>\n",
       "      <th>Date</th>\n",
       "      <th>Winner</th>\n",
       "      <th>Won</th>\n",
       "      <th>century</th>\n",
       "    </tr>\n",
       "  </thead>\n",
       "  <tbody>\n",
       "    <tr>\n",
       "      <th>0</th>\n",
       "      <td>13</td>\n",
       "      <td>0</td>\n",
       "      <td>30</td>\n",
       "      <td>15</td>\n",
       "      <td>3</td>\n",
       "      <td>0</td>\n",
       "      <td>86.66</td>\n",
       "      <td>1</td>\n",
       "      <td>New Zealand</td>\n",
       "      <td>Napier</td>\n",
       "      <td>1995-02-16</td>\n",
       "      <td>New Zealand</td>\n",
       "      <td>False</td>\n",
       "      <td>False</td>\n",
       "    </tr>\n",
       "    <tr>\n",
       "      <th>1</th>\n",
       "      <td>37</td>\n",
       "      <td>0</td>\n",
       "      <td>75</td>\n",
       "      <td>51</td>\n",
       "      <td>3</td>\n",
       "      <td>1</td>\n",
       "      <td>72.54</td>\n",
       "      <td>2</td>\n",
       "      <td>South Africa</td>\n",
       "      <td>Hamilton</td>\n",
       "      <td>1995-02-18</td>\n",
       "      <td>South Africa</td>\n",
       "      <td>False</td>\n",
       "      <td>False</td>\n",
       "    </tr>\n",
       "    <tr>\n",
       "      <th>2</th>\n",
       "      <td>47</td>\n",
       "      <td>0</td>\n",
       "      <td>65</td>\n",
       "      <td>40</td>\n",
       "      <td>7</td>\n",
       "      <td>0</td>\n",
       "      <td>117.50</td>\n",
       "      <td>2</td>\n",
       "      <td>Australia</td>\n",
       "      <td>Dunedin</td>\n",
       "      <td>1995-02-22</td>\n",
       "      <td>India</td>\n",
       "      <td>True</td>\n",
       "      <td>False</td>\n",
       "    </tr>\n",
       "    <tr>\n",
       "      <th>3</th>\n",
       "      <td>48</td>\n",
       "      <td>0</td>\n",
       "      <td>37</td>\n",
       "      <td>30</td>\n",
       "      <td>9</td>\n",
       "      <td>1</td>\n",
       "      <td>160.00</td>\n",
       "      <td>2</td>\n",
       "      <td>Bangladesh</td>\n",
       "      <td>Sharjah</td>\n",
       "      <td>1995-04-05</td>\n",
       "      <td>India</td>\n",
       "      <td>True</td>\n",
       "      <td>False</td>\n",
       "    </tr>\n",
       "    <tr>\n",
       "      <th>4</th>\n",
       "      <td>4</td>\n",
       "      <td>0</td>\n",
       "      <td>13</td>\n",
       "      <td>9</td>\n",
       "      <td>1</td>\n",
       "      <td>0</td>\n",
       "      <td>44.44</td>\n",
       "      <td>2</td>\n",
       "      <td>Pakistan</td>\n",
       "      <td>Sharjah</td>\n",
       "      <td>1995-04-07</td>\n",
       "      <td>Pakistan</td>\n",
       "      <td>False</td>\n",
       "      <td>False</td>\n",
       "    </tr>\n",
       "  </tbody>\n",
       "</table>\n",
       "</div>"
      ],
      "text/plain": [
       "   runs  NotOut mins  bf  fours  sixes      sr  Inns           Opp    Ground  \\\n",
       "0    13       0   30  15      3      0   86.66     1   New Zealand    Napier   \n",
       "1    37       0   75  51      3      1   72.54     2  South Africa  Hamilton   \n",
       "2    47       0   65  40      7      0  117.50     2     Australia   Dunedin   \n",
       "3    48       0   37  30      9      1  160.00     2    Bangladesh   Sharjah   \n",
       "4     4       0   13   9      1      0   44.44     2      Pakistan   Sharjah   \n",
       "\n",
       "         Date        Winner    Won  century  \n",
       "0  1995-02-16   New Zealand  False    False  \n",
       "1  1995-02-18  South Africa  False    False  \n",
       "2  1995-02-22         India   True    False  \n",
       "3  1995-04-05         India   True    False  \n",
       "4  1995-04-07      Pakistan  False    False  "
      ]
     },
     "execution_count": 2,
     "metadata": {},
     "output_type": "execute_result"
    }
   ],
   "source": [
    "data = pd.read_csv(\"Sachin_ODI.csv\")\n",
    "data.head()"
   ]
  },
  {
   "cell_type": "code",
   "execution_count": 3,
   "id": "f0338e60-a75c-4337-9d4c-db1262ac8180",
   "metadata": {},
   "outputs": [
    {
     "data": {
      "text/plain": [
       "(360, 14)"
      ]
     },
     "execution_count": 3,
     "metadata": {},
     "output_type": "execute_result"
    }
   ],
   "source": [
    "data.shape"
   ]
  },
  {
   "cell_type": "markdown",
   "id": "53aa9902-da98-47b6-9a8c-0b0d6fd666fc",
   "metadata": {},
   "source": [
    "# Observations:\n",
    "- The dataset has 360 rows and 14 columns\n",
    "- Each row represents one match data played by India and in total we have 360 matches data"
   ]
  },
  {
   "cell_type": "markdown",
   "id": "a1715ddc-4dd3-4971-8590-71be796db6f8",
   "metadata": {},
   "source": [
    "# Calculate the Sample Space of the data?"
   ]
  },
  {
   "cell_type": "code",
   "execution_count": 4,
   "id": "e3a1f845-c49a-4443-9271-45e7aac42aeb",
   "metadata": {},
   "outputs": [],
   "source": [
    "# Exp : Whether Sachin has scored a century.\n",
    "# All the matches Sachin has played.: 463\n",
    "# The data is having 360 match records of Sachin playing for India in international matches"
   ]
  },
  {
   "cell_type": "code",
   "execution_count": 5,
   "id": "c0635ce3-8af0-4152-ba21-9e487d7682bd",
   "metadata": {},
   "outputs": [
    {
     "data": {
      "text/plain": [
       "360"
      ]
     },
     "execution_count": 5,
     "metadata": {},
     "output_type": "execute_result"
    }
   ],
   "source": [
    "data.shape[0]"
   ]
  },
  {
   "cell_type": "code",
   "execution_count": 6,
   "id": "724746d2-04eb-433a-a77f-5015545034e7",
   "metadata": {},
   "outputs": [
    {
     "data": {
      "text/plain": [
       "360"
      ]
     },
     "execution_count": 6,
     "metadata": {},
     "output_type": "execute_result"
    }
   ],
   "source": [
    "len(data)"
   ]
  },
  {
   "cell_type": "markdown",
   "id": "294b128c-1a2e-4e2e-9f47-f15a3665a772",
   "metadata": {},
   "source": [
    "# Event A: India winning the match"
   ]
  },
  {
   "cell_type": "code",
   "execution_count": 7,
   "id": "4a1a6ef6-1814-4f0b-8950-9cccd5699124",
   "metadata": {},
   "outputs": [
    {
     "data": {
      "text/plain": [
       "Won\n",
       "True     184\n",
       "False    176\n",
       "Name: count, dtype: int64"
      ]
     },
     "execution_count": 7,
     "metadata": {},
     "output_type": "execute_result"
    }
   ],
   "source": [
    "data[\"Won\"].value_counts()"
   ]
  },
  {
   "cell_type": "code",
   "execution_count": 9,
   "id": "a54a45be-4883-4ada-95bf-82c24bbf188e",
   "metadata": {},
   "outputs": [
    {
     "data": {
      "text/plain": [
       "Won\n",
       "True     51.111111\n",
       "False    48.888889\n",
       "Name: proportion, dtype: float64"
      ]
     },
     "execution_count": 9,
     "metadata": {},
     "output_type": "execute_result"
    }
   ],
   "source": [
    "data[\"Won\"].value_counts(normalize = True) * 100"
   ]
  },
  {
   "cell_type": "markdown",
   "id": "1de1df00-1673-4b1a-8693-c965c9ac5a5f",
   "metadata": {},
   "source": [
    "### The sample space of event A is 184 from the above output"
   ]
  },
  {
   "cell_type": "markdown",
   "id": "322a9879-89f4-4b17-aa3c-cbe7c9c71d48",
   "metadata": {},
   "source": [
    "# Probability of Event A"
   ]
  },
  {
   "cell_type": "code",
   "execution_count": 10,
   "id": "0f2c2185-3eda-4cc4-8691-15de2e70fdc5",
   "metadata": {},
   "outputs": [
    {
     "data": {
      "text/plain": [
       "0.5111111111111111"
      ]
     },
     "execution_count": 10,
     "metadata": {},
     "output_type": "execute_result"
    }
   ],
   "source": [
    "184 / 360"
   ]
  },
  {
   "cell_type": "code",
   "execution_count": 11,
   "id": "9750ebdb-830b-442d-9344-6ccfbe097d13",
   "metadata": {},
   "outputs": [
    {
     "data": {
      "text/plain": [
       "Won\n",
       "True     0.511111\n",
       "False    0.488889\n",
       "Name: proportion, dtype: float64"
      ]
     },
     "execution_count": 11,
     "metadata": {},
     "output_type": "execute_result"
    }
   ],
   "source": [
    "data[\"Won\"].value_counts(normalize = True) "
   ]
  },
  {
   "cell_type": "markdown",
   "id": "d4180f2f-9e6d-4bdd-ade7-acbff3c9981a",
   "metadata": {},
   "source": [
    "# Probability of A(complement)"
   ]
  },
  {
   "cell_type": "code",
   "execution_count": 12,
   "id": "ce3521a9-7126-4826-83ed-26786d33c37b",
   "metadata": {},
   "outputs": [
    {
     "data": {
      "text/plain": [
       "0.48888888888888893"
      ]
     },
     "execution_count": 12,
     "metadata": {},
     "output_type": "execute_result"
    }
   ],
   "source": [
    "1 - (184/360)"
   ]
  },
  {
   "cell_type": "code",
   "execution_count": 13,
   "id": "80fc2b9c-78a6-4b59-83c6-0e2d7c8cc8d8",
   "metadata": {},
   "outputs": [
    {
     "data": {
      "text/plain": [
       "0.4888888888888889"
      ]
     },
     "execution_count": 13,
     "metadata": {},
     "output_type": "execute_result"
    }
   ],
   "source": [
    "176 / 360"
   ]
  },
  {
   "cell_type": "markdown",
   "id": "b18b61dc-ded4-48d3-8d27-ef917361ca63",
   "metadata": {},
   "source": [
    "# Event B : Sachin scoring a century"
   ]
  },
  {
   "cell_type": "code",
   "execution_count": 14,
   "id": "d4d4c24e-6d0f-4ea6-922e-5431b793b89f",
   "metadata": {},
   "outputs": [
    {
     "data": {
      "text/plain": [
       "century\n",
       "False    314\n",
       "True      46\n",
       "Name: count, dtype: int64"
      ]
     },
     "execution_count": 14,
     "metadata": {},
     "output_type": "execute_result"
    }
   ],
   "source": [
    "data[\"century\"].value_counts()"
   ]
  },
  {
   "cell_type": "markdown",
   "id": "ae8f8040-2e99-4206-bc45-b55c1523caa3",
   "metadata": {},
   "source": [
    "### The sample of Event B is 46"
   ]
  },
  {
   "cell_type": "markdown",
   "id": "ef0f2722-bcee-4242-87de-1a875a156418",
   "metadata": {},
   "source": [
    "# Probability of Sachin scoring a century"
   ]
  },
  {
   "cell_type": "code",
   "execution_count": 15,
   "id": "5a711add-1c74-48b5-8ee2-1a40493e976d",
   "metadata": {},
   "outputs": [
    {
     "data": {
      "text/plain": [
       "0.12777777777777777"
      ]
     },
     "execution_count": 15,
     "metadata": {},
     "output_type": "execute_result"
    }
   ],
   "source": [
    "46/360"
   ]
  },
  {
   "cell_type": "markdown",
   "id": "4464be94-5028-4179-9bad-5a4a75e68b48",
   "metadata": {},
   "source": [
    "### If Sachin plays a ODI, there is only 12.8% chance that he will score a century"
   ]
  },
  {
   "cell_type": "markdown",
   "id": "b54fc68f-8fb1-47a0-847b-db7bb71bc587",
   "metadata": {},
   "source": [
    "100 - 13 matches he will score a century."
   ]
  },
  {
   "cell_type": "markdown",
   "id": "49c0f5c9-2afd-4d39-a2c1-bc892a8405e0",
   "metadata": {},
   "source": [
    "# Probability of B (Complement)"
   ]
  },
  {
   "cell_type": "code",
   "execution_count": 18,
   "id": "8813e338-9b95-4e7a-a4a6-34ef112313c0",
   "metadata": {},
   "outputs": [
    {
     "data": {
      "text/plain": [
       "0.8722222222222222"
      ]
     },
     "execution_count": 18,
     "metadata": {},
     "output_type": "execute_result"
    }
   ],
   "source": [
    "1 - (46/360)"
   ]
  },
  {
   "cell_type": "markdown",
   "id": "ebfec23b-fe51-45e1-b556-8549e4ac173b",
   "metadata": {},
   "source": [
    "### If Sachin Play an ODI, there is 87% chance that he will not score a century."
   ]
  },
  {
   "cell_type": "markdown",
   "id": "7512e2ff-5b64-49c1-99ab-4b0276c1794b",
   "metadata": {},
   "source": [
    "100 - 87"
   ]
  },
  {
   "cell_type": "code",
   "execution_count": 25,
   "id": "9062e3a6-0937-4435-a3bf-210add4f961b",
   "metadata": {},
   "outputs": [
    {
     "data": {
      "text/html": [
       "<div>\n",
       "<style scoped>\n",
       "    .dataframe tbody tr th:only-of-type {\n",
       "        vertical-align: middle;\n",
       "    }\n",
       "\n",
       "    .dataframe tbody tr th {\n",
       "        vertical-align: top;\n",
       "    }\n",
       "\n",
       "    .dataframe thead th {\n",
       "        text-align: right;\n",
       "    }\n",
       "</style>\n",
       "<table border=\"1\" class=\"dataframe\">\n",
       "  <thead>\n",
       "    <tr style=\"text-align: right;\">\n",
       "      <th></th>\n",
       "      <th>runs</th>\n",
       "      <th>NotOut</th>\n",
       "      <th>mins</th>\n",
       "      <th>bf</th>\n",
       "      <th>fours</th>\n",
       "      <th>sixes</th>\n",
       "      <th>sr</th>\n",
       "      <th>Inns</th>\n",
       "      <th>Opp</th>\n",
       "      <th>Ground</th>\n",
       "      <th>Date</th>\n",
       "      <th>Winner</th>\n",
       "      <th>Won</th>\n",
       "      <th>century</th>\n",
       "    </tr>\n",
       "  </thead>\n",
       "  <tbody>\n",
       "    <tr>\n",
       "      <th>10</th>\n",
       "      <td>65</td>\n",
       "      <td>0</td>\n",
       "      <td>96</td>\n",
       "      <td>59</td>\n",
       "      <td>9</td>\n",
       "      <td>1</td>\n",
       "      <td>110.16</td>\n",
       "      <td>2</td>\n",
       "      <td>New Zealand</td>\n",
       "      <td>Nagpur</td>\n",
       "      <td>1995-11-26</td>\n",
       "      <td>New Zealand</td>\n",
       "      <td>False</td>\n",
       "      <td>False</td>\n",
       "    </tr>\n",
       "    <tr>\n",
       "      <th>13</th>\n",
       "      <td>70</td>\n",
       "      <td>0</td>\n",
       "      <td>137</td>\n",
       "      <td>91</td>\n",
       "      <td>8</td>\n",
       "      <td>0</td>\n",
       "      <td>76.92</td>\n",
       "      <td>2</td>\n",
       "      <td>West Indies</td>\n",
       "      <td>Gwalior</td>\n",
       "      <td>1996-02-21</td>\n",
       "      <td>India</td>\n",
       "      <td>True</td>\n",
       "      <td>False</td>\n",
       "    </tr>\n",
       "    <tr>\n",
       "      <th>14</th>\n",
       "      <td>90</td>\n",
       "      <td>0</td>\n",
       "      <td>124</td>\n",
       "      <td>84</td>\n",
       "      <td>14</td>\n",
       "      <td>1</td>\n",
       "      <td>107.14</td>\n",
       "      <td>2</td>\n",
       "      <td>Australia</td>\n",
       "      <td>Mumbai</td>\n",
       "      <td>1996-02-27</td>\n",
       "      <td>Australia</td>\n",
       "      <td>False</td>\n",
       "      <td>False</td>\n",
       "    </tr>\n",
       "    <tr>\n",
       "      <th>18</th>\n",
       "      <td>65</td>\n",
       "      <td>0</td>\n",
       "      <td>96</td>\n",
       "      <td>88</td>\n",
       "      <td>9</td>\n",
       "      <td>0</td>\n",
       "      <td>73.86</td>\n",
       "      <td>2</td>\n",
       "      <td>Sri Lanka</td>\n",
       "      <td>Kolkata</td>\n",
       "      <td>1996-03-13</td>\n",
       "      <td>Sri Lanka</td>\n",
       "      <td>False</td>\n",
       "      <td>False</td>\n",
       "    </tr>\n",
       "    <tr>\n",
       "      <th>25</th>\n",
       "      <td>57</td>\n",
       "      <td>0</td>\n",
       "      <td>104</td>\n",
       "      <td>71</td>\n",
       "      <td>6</td>\n",
       "      <td>0</td>\n",
       "      <td>80.28</td>\n",
       "      <td>2</td>\n",
       "      <td>South Africa</td>\n",
       "      <td>Sharjah</td>\n",
       "      <td>1996-04-19</td>\n",
       "      <td>South Africa</td>\n",
       "      <td>False</td>\n",
       "      <td>False</td>\n",
       "    </tr>\n",
       "    <tr>\n",
       "      <th>...</th>\n",
       "      <td>...</td>\n",
       "      <td>...</td>\n",
       "      <td>...</td>\n",
       "      <td>...</td>\n",
       "      <td>...</td>\n",
       "      <td>...</td>\n",
       "      <td>...</td>\n",
       "      <td>...</td>\n",
       "      <td>...</td>\n",
       "      <td>...</td>\n",
       "      <td>...</td>\n",
       "      <td>...</td>\n",
       "      <td>...</td>\n",
       "      <td>...</td>\n",
       "    </tr>\n",
       "    <tr>\n",
       "      <th>333</th>\n",
       "      <td>69</td>\n",
       "      <td>0</td>\n",
       "      <td>91</td>\n",
       "      <td>63</td>\n",
       "      <td>10</td>\n",
       "      <td>1</td>\n",
       "      <td>109.52</td>\n",
       "      <td>1</td>\n",
       "      <td>Sri Lanka</td>\n",
       "      <td>Rajkot</td>\n",
       "      <td>2009-12-15</td>\n",
       "      <td>India</td>\n",
       "      <td>True</td>\n",
       "      <td>False</td>\n",
       "    </tr>\n",
       "    <tr>\n",
       "      <th>335</th>\n",
       "      <td>96</td>\n",
       "      <td>1</td>\n",
       "      <td>187</td>\n",
       "      <td>104</td>\n",
       "      <td>13</td>\n",
       "      <td>0</td>\n",
       "      <td>92.30</td>\n",
       "      <td>2</td>\n",
       "      <td>Sri Lanka</td>\n",
       "      <td>Cuttack</td>\n",
       "      <td>2009-12-21</td>\n",
       "      <td>India</td>\n",
       "      <td>True</td>\n",
       "      <td>False</td>\n",
       "    </tr>\n",
       "    <tr>\n",
       "      <th>347</th>\n",
       "      <td>53</td>\n",
       "      <td>0</td>\n",
       "      <td>93</td>\n",
       "      <td>68</td>\n",
       "      <td>7</td>\n",
       "      <td>0</td>\n",
       "      <td>77.94</td>\n",
       "      <td>2</td>\n",
       "      <td>Australia</td>\n",
       "      <td>Ahmedabad</td>\n",
       "      <td>2011-03-24</td>\n",
       "      <td>India</td>\n",
       "      <td>True</td>\n",
       "      <td>False</td>\n",
       "    </tr>\n",
       "    <tr>\n",
       "      <th>348</th>\n",
       "      <td>85</td>\n",
       "      <td>0</td>\n",
       "      <td>160</td>\n",
       "      <td>115</td>\n",
       "      <td>11</td>\n",
       "      <td>0</td>\n",
       "      <td>73.91</td>\n",
       "      <td>1</td>\n",
       "      <td>Pakistan</td>\n",
       "      <td>Mohali</td>\n",
       "      <td>2011-03-30</td>\n",
       "      <td>India</td>\n",
       "      <td>True</td>\n",
       "      <td>False</td>\n",
       "    </tr>\n",
       "    <tr>\n",
       "      <th>359</th>\n",
       "      <td>52</td>\n",
       "      <td>0</td>\n",
       "      <td>93</td>\n",
       "      <td>48</td>\n",
       "      <td>5</td>\n",
       "      <td>1</td>\n",
       "      <td>108.33</td>\n",
       "      <td>2</td>\n",
       "      <td>Pakistan</td>\n",
       "      <td>Dhaka</td>\n",
       "      <td>2012-03-18</td>\n",
       "      <td>India</td>\n",
       "      <td>True</td>\n",
       "      <td>False</td>\n",
       "    </tr>\n",
       "  </tbody>\n",
       "</table>\n",
       "<p>75 rows × 14 columns</p>\n",
       "</div>"
      ],
      "text/plain": [
       "     runs  NotOut mins   bf  fours  sixes      sr  Inns           Opp  \\\n",
       "10     65       0   96   59      9      1  110.16     2   New Zealand   \n",
       "13     70       0  137   91      8      0   76.92     2   West Indies   \n",
       "14     90       0  124   84     14      1  107.14     2     Australia   \n",
       "18     65       0   96   88      9      0   73.86     2     Sri Lanka   \n",
       "25     57       0  104   71      6      0   80.28     2  South Africa   \n",
       "..    ...     ...  ...  ...    ...    ...     ...   ...           ...   \n",
       "333    69       0   91   63     10      1  109.52     1     Sri Lanka   \n",
       "335    96       1  187  104     13      0   92.30     2     Sri Lanka   \n",
       "347    53       0   93   68      7      0   77.94     2     Australia   \n",
       "348    85       0  160  115     11      0   73.91     1      Pakistan   \n",
       "359    52       0   93   48      5      1  108.33     2      Pakistan   \n",
       "\n",
       "        Ground        Date        Winner    Won  century  \n",
       "10      Nagpur  1995-11-26   New Zealand  False    False  \n",
       "13     Gwalior  1996-02-21         India   True    False  \n",
       "14      Mumbai  1996-02-27     Australia  False    False  \n",
       "18     Kolkata  1996-03-13     Sri Lanka  False    False  \n",
       "25     Sharjah  1996-04-19  South Africa  False    False  \n",
       "..         ...         ...           ...    ...      ...  \n",
       "333     Rajkot  2009-12-15         India   True    False  \n",
       "335    Cuttack  2009-12-21         India   True    False  \n",
       "347  Ahmedabad  2011-03-24         India   True    False  \n",
       "348     Mohali  2011-03-30         India   True    False  \n",
       "359      Dhaka  2012-03-18         India   True    False  \n",
       "\n",
       "[75 rows x 14 columns]"
      ]
     },
     "execution_count": 25,
     "metadata": {},
     "output_type": "execute_result"
    }
   ],
   "source": [
    "data[(data['runs']>=50) & (data['runs']< 100)]"
   ]
  },
  {
   "cell_type": "code",
   "execution_count": 26,
   "id": "a5fb8826-d924-4c2a-9438-2acf925b619e",
   "metadata": {},
   "outputs": [
    {
     "data": {
      "text/plain": [
       "0.20833333333333334"
      ]
     },
     "execution_count": 26,
     "metadata": {},
     "output_type": "execute_result"
    }
   ],
   "source": [
    "75/360"
   ]
  },
  {
   "cell_type": "markdown",
   "id": "301d0820-6e65-4865-805e-87c5232bd29d",
   "metadata": {},
   "source": [
    "100 - 20 he will score a fifty"
   ]
  },
  {
   "cell_type": "markdown",
   "id": "ecab24b2-5ac7-4087-8999-1ccb087e663c",
   "metadata": {},
   "source": [
    "# Probability of India Winning the match given that  Sachin has scored a century"
   ]
  },
  {
   "cell_type": "code",
   "execution_count": null,
   "id": "e1b023a5-7bf9-4a18-8821-c3fb630d1978",
   "metadata": {},
   "outputs": [],
   "source": []
  }
 ],
 "metadata": {
  "kernelspec": {
   "display_name": "Python 3 (ipykernel)",
   "language": "python",
   "name": "python3"
  },
  "language_info": {
   "codemirror_mode": {
    "name": "ipython",
    "version": 3
   },
   "file_extension": ".py",
   "mimetype": "text/x-python",
   "name": "python",
   "nbconvert_exporter": "python",
   "pygments_lexer": "ipython3",
   "version": "3.9.18"
  }
 },
 "nbformat": 4,
 "nbformat_minor": 5
}
