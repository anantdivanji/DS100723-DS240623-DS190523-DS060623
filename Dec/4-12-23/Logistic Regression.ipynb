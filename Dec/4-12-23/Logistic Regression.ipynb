{
 "cells": [
  {
   "cell_type": "markdown",
   "id": "f17de7cf",
   "metadata": {},
   "source": [
    "# Logistic Regression:\n",
    "\n",
    "- It is a supervised Machine Learning Algorithm.\n",
    "- It is a classification Algorithm. Looking at the name it seems that it a regression algorithm with a numerical target which is wrong. It actually is a Classification algorithm with a categorical target."
   ]
  },
  {
   "cell_type": "code",
   "execution_count": 2,
   "id": "dec6ad0b",
   "metadata": {},
   "outputs": [],
   "source": [
    "import pandas as pd\n",
    "import numpy as np\n",
    "import matplotlib.pyplot as plt\n",
    "import seaborn as sns\n",
    "import warnings\n",
    "warnings.filterwarnings(\"ignore\")"
   ]
  },
  {
   "cell_type": "code",
   "execution_count": 4,
   "id": "46e90255",
   "metadata": {},
   "outputs": [
    {
     "data": {
      "text/html": [
       "<div>\n",
       "<style scoped>\n",
       "    .dataframe tbody tr th:only-of-type {\n",
       "        vertical-align: middle;\n",
       "    }\n",
       "\n",
       "    .dataframe tbody tr th {\n",
       "        vertical-align: top;\n",
       "    }\n",
       "\n",
       "    .dataframe thead th {\n",
       "        text-align: right;\n",
       "    }\n",
       "</style>\n",
       "<table border=\"1\" class=\"dataframe\">\n",
       "  <thead>\n",
       "    <tr style=\"text-align: right;\">\n",
       "      <th></th>\n",
       "      <th>No of hrs studied</th>\n",
       "      <th>Result</th>\n",
       "    </tr>\n",
       "  </thead>\n",
       "  <tbody>\n",
       "    <tr>\n",
       "      <th>0</th>\n",
       "      <td>2.0</td>\n",
       "      <td>0</td>\n",
       "    </tr>\n",
       "    <tr>\n",
       "      <th>1</th>\n",
       "      <td>4.0</td>\n",
       "      <td>1</td>\n",
       "    </tr>\n",
       "    <tr>\n",
       "      <th>2</th>\n",
       "      <td>6.0</td>\n",
       "      <td>0</td>\n",
       "    </tr>\n",
       "    <tr>\n",
       "      <th>3</th>\n",
       "      <td>8.0</td>\n",
       "      <td>1</td>\n",
       "    </tr>\n",
       "    <tr>\n",
       "      <th>4</th>\n",
       "      <td>2.5</td>\n",
       "      <td>0</td>\n",
       "    </tr>\n",
       "    <tr>\n",
       "      <th>5</th>\n",
       "      <td>3.5</td>\n",
       "      <td>0</td>\n",
       "    </tr>\n",
       "    <tr>\n",
       "      <th>6</th>\n",
       "      <td>4.5</td>\n",
       "      <td>1</td>\n",
       "    </tr>\n",
       "    <tr>\n",
       "      <th>7</th>\n",
       "      <td>5.5</td>\n",
       "      <td>1</td>\n",
       "    </tr>\n",
       "    <tr>\n",
       "      <th>8</th>\n",
       "      <td>6.5</td>\n",
       "      <td>1</td>\n",
       "    </tr>\n",
       "  </tbody>\n",
       "</table>\n",
       "</div>"
      ],
      "text/plain": [
       "   No of hrs studied  Result\n",
       "0                2.0       0\n",
       "1                4.0       1\n",
       "2                6.0       0\n",
       "3                8.0       1\n",
       "4                2.5       0\n",
       "5                3.5       0\n",
       "6                4.5       1\n",
       "7                5.5       1\n",
       "8                6.5       1"
      ]
     },
     "execution_count": 4,
     "metadata": {},
     "output_type": "execute_result"
    }
   ],
   "source": [
    "data = pd.DataFrame({\n",
    "    'No of hrs studied' : [2, 4, 6, 8, 2.5, 3.5, 4.5, 5.5, 6.5],\n",
    "    'Result' : [0, 1, 0, 1, 0, 0, 1, 1, 1]  # 0 means Failed & 1 means passed\n",
    "})\n",
    "data"
   ]
  },
  {
   "cell_type": "markdown",
   "id": "7904c8aa",
   "metadata": {},
   "source": [
    "### Since, the result of a student is dependent on the total hrs the student puts in for the study, it seems like there is a relation between No. of hrs studied and the result variable. To check this relation we plot a scatterplot"
   ]
  },
  {
   "cell_type": "code",
   "execution_count": 5,
   "id": "c81d3e45",
   "metadata": {},
   "outputs": [
    {
     "data": {
      "text/plain": [
       "<Axes: xlabel='No of hrs studied', ylabel='Result'>"
      ]
     },
     "execution_count": 5,
     "metadata": {},
     "output_type": "execute_result"
    },
    {
     "data": {
      "image/png": "[encoded data removed]",
      "text/plain": [
       "<Figure size 640x480 with 1 Axes>"
      ]
     },
     "metadata": {},
     "output_type": "display_data"
    }
   ],
   "source": [
    "sns.scatterplot(x = data['No of hrs studied'], y = data['Result'])"
   ]
  },
  {
   "cell_type": "markdown",
   "id": "8913634c",
   "metadata": {},
   "source": [
    "# Notes:\n",
    "\n",
    "- No of hrs studied is independent and result is the target\n",
    "- When check for relation between no of hrs studied and result through scatterplot we got to know that data is scatter in a different way.\n",
    "- In order to understand why Logistics Regression needs to be used why Linear Regression on the above data let's first apply Linear Regression and try to understand how and why Linear will Fail and also the need to shift to Logistic Regression.\n",
    "- Why are we considering only Linear Regression to be applied on the data?\n",
    "- Since based on the assumption that there exists a relation between Indepdent and the target.\n",
    "- When Linear Regression is applied, we need to make sure that the line is such that the errors on both sides of the line are balanced. "
   ]
  },
  {
   "cell_type": "markdown",
   "id": "f4dd60d5",
   "metadata": {},
   "source": [
    "# Notes:\n",
    "- Linear Regression fails for many reasons out of which we saw that outliers can have a significant impact on the Linear Regression model.\n",
    "- We also saw that for a new outlier, the linear regression performs prediction outside of the category(1). Which is difficult for us to classify it as either passed or Failed.\n",
    "- For Classifying using Linear Regression, we create a decision boundary at exactly half (i.e. in this case 0.5) and we say that any prediction >= 0.5 is Passed and < 0.5 is Failed."
   ]
  },
  {
   "cell_type": "markdown",
   "id": "f911369f",
   "metadata": {},
   "source": [
    "# Notes:\n",
    "- The overcome the above issue, we go for curve instead of linear straight line. \n",
    "- This curve we call it as sigmoid curve. \n",
    "- Notice that the sigmoid curve will take care of all the challenges we have mentioned above.\n",
    "- For any curve in mathematics it will have its own equation and in the same way sigmoid curve is having a sigmoid equation"
   ]
  },
  {
   "attachments": {
    "image-2.png": {
     "image/png": "[encoded data removed]"
    }
   },
   "cell_type": "markdown",
   "id": "7eaa23f0",
   "metadata": {},
   "source": [
    "![image-2.png](attachment:image-2.png)"
   ]
  },
  {
   "cell_type": "code",
   "execution_count": null,
   "id": "bf513a6f",
   "metadata": {},
   "outputs": [],
   "source": []
  }
 ],
 "metadata": {
  "kernelspec": {
   "display_name": "Python 3 (ipykernel)",
   "language": "python",
   "name": "python3"
  },
  "language_info": {
   "codemirror_mode": {
    "name": "ipython",
    "version": 3
   },
   "file_extension": ".py",
   "mimetype": "text/x-python",
   "name": "python",
   "nbconvert_exporter": "python",
   "pygments_lexer": "ipython3",
   "version": "3.9.16"
  }
 },
 "nbformat": 4,
 "nbformat_minor": 5
}
