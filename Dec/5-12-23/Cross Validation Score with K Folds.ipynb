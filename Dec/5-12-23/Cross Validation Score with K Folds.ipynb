{
 "cells": [
  {
   "cell_type": "code",
   "execution_count": 1,
   "id": "e48b03f4",
   "metadata": {},
   "outputs": [],
   "source": [
    "import pandas as pd\n",
    "import numpy as np\n",
    "import matplotlib.pyplot as plt\n",
    "import seaborn as sns\n",
    "import warnings\n",
    "warnings.filterwarnings('ignore')"
   ]
  },
  {
   "cell_type": "code",
   "execution_count": 2,
   "id": "4a568541",
   "metadata": {},
   "outputs": [
    {
     "data": {
      "text/html": [
       "<div>\n",
       "<style scoped>\n",
       "    .dataframe tbody tr th:only-of-type {\n",
       "        vertical-align: middle;\n",
       "    }\n",
       "\n",
       "    .dataframe tbody tr th {\n",
       "        vertical-align: top;\n",
       "    }\n",
       "\n",
       "    .dataframe thead th {\n",
       "        text-align: right;\n",
       "    }\n",
       "</style>\n",
       "<table border=\"1\" class=\"dataframe\">\n",
       "  <thead>\n",
       "    <tr style=\"text-align: right;\">\n",
       "      <th></th>\n",
       "      <th>Age</th>\n",
       "      <th>Purchased</th>\n",
       "    </tr>\n",
       "  </thead>\n",
       "  <tbody>\n",
       "    <tr>\n",
       "      <th>0</th>\n",
       "      <td>19</td>\n",
       "      <td>0</td>\n",
       "    </tr>\n",
       "    <tr>\n",
       "      <th>1</th>\n",
       "      <td>35</td>\n",
       "      <td>0</td>\n",
       "    </tr>\n",
       "    <tr>\n",
       "      <th>2</th>\n",
       "      <td>26</td>\n",
       "      <td>0</td>\n",
       "    </tr>\n",
       "    <tr>\n",
       "      <th>3</th>\n",
       "      <td>27</td>\n",
       "      <td>0</td>\n",
       "    </tr>\n",
       "    <tr>\n",
       "      <th>4</th>\n",
       "      <td>19</td>\n",
       "      <td>0</td>\n",
       "    </tr>\n",
       "  </tbody>\n",
       "</table>\n",
       "</div>"
      ],
      "text/plain": [
       "   Age  Purchased\n",
       "0   19          0\n",
       "1   35          0\n",
       "2   26          0\n",
       "3   27          0\n",
       "4   19          0"
      ]
     },
     "execution_count": 2,
     "metadata": {},
     "output_type": "execute_result"
    }
   ],
   "source": [
    "data = pd.read_csv(\"Health_Insurance.csv\")\n",
    "data.head()"
   ]
  },
  {
   "cell_type": "markdown",
   "id": "1cd313e7",
   "metadata": {},
   "source": [
    "# Seperate X and y"
   ]
  },
  {
   "cell_type": "code",
   "execution_count": 3,
   "id": "8bb38d28",
   "metadata": {},
   "outputs": [],
   "source": [
    "X = data.drop(columns = ['Purchased'])\n",
    "y = data['Purchased']"
   ]
  },
  {
   "cell_type": "markdown",
   "id": "8c2e4548",
   "metadata": {},
   "source": [
    "# Apply Logistic Regression on the data"
   ]
  },
  {
   "cell_type": "code",
   "execution_count": 4,
   "id": "bd1c2909",
   "metadata": {},
   "outputs": [
    {
     "data": {
      "text/html": [
       "<style>#sk-container-id-1 {color: black;background-color: white;}#sk-container-id-1 pre{padding: 0;}#sk-container-id-1 div.sk-toggleable {background-color: white;}#sk-container-id-1 label.sk-toggleable__label {cursor: pointer;display: block;width: 100%;margin-bottom: 0;padding: 0.3em;box-sizing: border-box;text-align: center;}#sk-container-id-1 label.sk-toggleable__label-arrow:before {content: \"▸\";float: left;margin-right: 0.25em;color: #696969;}#sk-container-id-1 label.sk-toggleable__label-arrow:hover:before {color: black;}#sk-container-id-1 div.sk-estimator:hover label.sk-toggleable__label-arrow:before {color: black;}#sk-container-id-1 div.sk-toggleable__content {max-height: 0;max-width: 0;overflow: hidden;text-align: left;background-color: #f0f8ff;}#sk-container-id-1 div.sk-toggleable__content pre {margin: 0.2em;color: black;border-radius: 0.25em;background-color: #f0f8ff;}#sk-container-id-1 input.sk-toggleable__control:checked~div.sk-toggleable__content {max-height: 200px;max-width: 100%;overflow: auto;}#sk-container-id-1 input.sk-toggleable__control:checked~label.sk-toggleable__label-arrow:before {content: \"▾\";}#sk-container-id-1 div.sk-estimator input.sk-toggleable__control:checked~label.sk-toggleable__label {background-color: #d4ebff;}#sk-container-id-1 div.sk-label input.sk-toggleable__control:checked~label.sk-toggleable__label {background-color: #d4ebff;}#sk-container-id-1 input.sk-hidden--visually {border: 0;clip: rect(1px 1px 1px 1px);clip: rect(1px, 1px, 1px, 1px);height: 1px;margin: -1px;overflow: hidden;padding: 0;position: absolute;width: 1px;}#sk-container-id-1 div.sk-estimator {font-family: monospace;background-color: #f0f8ff;border: 1px dotted black;border-radius: 0.25em;box-sizing: border-box;margin-bottom: 0.5em;}#sk-container-id-1 div.sk-estimator:hover {background-color: #d4ebff;}#sk-container-id-1 div.sk-parallel-item::after {content: \"\";width: 100%;border-bottom: 1px solid gray;flex-grow: 1;}#sk-container-id-1 div.sk-label:hover label.sk-toggleable__label {background-color: #d4ebff;}#sk-container-id-1 div.sk-serial::before {content: \"\";position: absolute;border-left: 1px solid gray;box-sizing: border-box;top: 0;bottom: 0;left: 50%;z-index: 0;}#sk-container-id-1 div.sk-serial {display: flex;flex-direction: column;align-items: center;background-color: white;padding-right: 0.2em;padding-left: 0.2em;position: relative;}#sk-container-id-1 div.sk-item {position: relative;z-index: 1;}#sk-container-id-1 div.sk-parallel {display: flex;align-items: stretch;justify-content: center;background-color: white;position: relative;}#sk-container-id-1 div.sk-item::before, #sk-container-id-1 div.sk-parallel-item::before {content: \"\";position: absolute;border-left: 1px solid gray;box-sizing: border-box;top: 0;bottom: 0;left: 50%;z-index: -1;}#sk-container-id-1 div.sk-parallel-item {display: flex;flex-direction: column;z-index: 1;position: relative;background-color: white;}#sk-container-id-1 div.sk-parallel-item:first-child::after {align-self: flex-end;width: 50%;}#sk-container-id-1 div.sk-parallel-item:last-child::after {align-self: flex-start;width: 50%;}#sk-container-id-1 div.sk-parallel-item:only-child::after {width: 0;}#sk-container-id-1 div.sk-dashed-wrapped {border: 1px dashed gray;margin: 0 0.4em 0.5em 0.4em;box-sizing: border-box;padding-bottom: 0.4em;background-color: white;}#sk-container-id-1 div.sk-label label {font-family: monospace;font-weight: bold;display: inline-block;line-height: 1.2em;}#sk-container-id-1 div.sk-label-container {text-align: center;}#sk-container-id-1 div.sk-container {/* jupyter's `normalize.less` sets `[hidden] { display: none; }` but bootstrap.min.css set `[hidden] { display: none !important; }` so we also need the `!important` here to be able to override the default hidden behavior on the sphinx rendered scikit-learn.org. See: https://github.com/scikit-learn/scikit-learn/issues/21755 */display: inline-block !important;position: relative;}#sk-container-id-1 div.sk-text-repr-fallback {display: none;}</style><div id=\"sk-container-id-1\" class=\"sk-top-container\"><div class=\"sk-text-repr-fallback\"><pre>LogisticRegression()</pre><b>In a Jupyter environment, please rerun this cell to show the HTML representation or trust the notebook. <br />On GitHub, the HTML representation is unable to render, please try loading this page with nbviewer.org.</b></div><div class=\"sk-container\" hidden><div class=\"sk-item\"><div class=\"sk-estimator sk-toggleable\"><input class=\"sk-toggleable__control sk-hidden--visually\" id=\"sk-estimator-id-1\" type=\"checkbox\" checked><label for=\"sk-estimator-id-1\" class=\"sk-toggleable__label sk-toggleable__label-arrow\">LogisticRegression</label><div class=\"sk-toggleable__content\"><pre>LogisticRegression()</pre></div></div></div></div></div>"
      ],
      "text/plain": [
       "LogisticRegression()"
      ]
     },
     "execution_count": 4,
     "metadata": {},
     "output_type": "execute_result"
    }
   ],
   "source": [
    "from sklearn.linear_model import LogisticRegression\n",
    "lr = LogisticRegression()\n",
    "lr"
   ]
  },
  {
   "cell_type": "markdown",
   "id": "80050487",
   "metadata": {},
   "source": [
    "# Applying Logistic Regression on the 5 Fold Cross validation data"
   ]
  },
  {
   "cell_type": "code",
   "execution_count": 5,
   "id": "b03a600b",
   "metadata": {},
   "outputs": [],
   "source": [
    "# cross_val_score(ML algorithm, X & y i.e your data, K Fold Cross validation for multiple train and test \n",
    "# Split from the data)"
   ]
  },
  {
   "cell_type": "code",
   "execution_count": 6,
   "id": "fdf7244f",
   "metadata": {},
   "outputs": [
    {
     "data": {
      "text/plain": [
       "array([0.8   , 0.875 , 0.85  , 0.7625, 0.825 ])"
      ]
     },
     "execution_count": 6,
     "metadata": {},
     "output_type": "execute_result"
    }
   ],
   "source": [
    "from sklearn.model_selection import cross_val_score\n",
    "cross_val_score(lr, X, y, cv = 5)"
   ]
  },
  {
   "cell_type": "markdown",
   "id": "a6361242",
   "metadata": {},
   "source": [
    "- 1st train and test set = 80%\n",
    "- 2nd train and test set = 87.5%\n",
    "- 3rd train and test set = 85%\n",
    "- 4th train and test set = 76.25%\n",
    "- 5th train and test set = 82.5%\n",
    "\n",
    "- Out of all the accuracies the 2nd train and test set is giving the best accuracy of 87.5%"
   ]
  },
  {
   "cell_type": "code",
   "execution_count": 7,
   "id": "b6a7bb5c",
   "metadata": {},
   "outputs": [
    {
     "data": {
      "text/plain": [
       "array([0.95 , 0.65 , 0.825, 0.925, 0.925, 0.825, 0.75 , 0.75 , 0.8  ,\n",
       "       0.975])"
      ]
     },
     "execution_count": 7,
     "metadata": {},
     "output_type": "execute_result"
    }
   ],
   "source": [
    "from sklearn.model_selection import cross_val_score\n",
    "cross_val_score(lr, X, y, cv = 10)"
   ]
  },
  {
   "cell_type": "markdown",
   "id": "43a3e70b",
   "metadata": {},
   "source": [
    "# Which Fold  Cross Validation is the best?\n",
    "- Generally, 10 Fold cross validation is prefered across the industry. "
   ]
  },
  {
   "cell_type": "markdown",
   "id": "a002a9cc",
   "metadata": {},
   "source": [
    "# If you want to have a look at the 2nd train and test data which is giving the highest accuray when we performed 5 Fold Cross validation"
   ]
  },
  {
   "cell_type": "code",
   "execution_count": 9,
   "id": "1535796d",
   "metadata": {},
   "outputs": [
    {
     "data": {
      "text/plain": [
       "KFold(n_splits=5, random_state=None, shuffle=False)"
      ]
     },
     "execution_count": 9,
     "metadata": {},
     "output_type": "execute_result"
    }
   ],
   "source": [
    "from sklearn.model_selection import KFold\n",
    "kf = KFold(n_splits = 5)\n",
    "kf"
   ]
  },
  {
   "cell_type": "code",
   "execution_count": 10,
   "id": "cf8cb6a3",
   "metadata": {},
   "outputs": [
    {
     "data": {
      "text/plain": [
       "<generator object _BaseKFold.split at 0x000001EEA7631DD0>"
      ]
     },
     "execution_count": 10,
     "metadata": {},
     "output_type": "execute_result"
    }
   ],
   "source": [
    "kf.split(X, y)"
   ]
  },
  {
   "cell_type": "code",
   "execution_count": 11,
   "id": "72ff4d21",
   "metadata": {},
   "outputs": [
    {
     "data": {
      "text/plain": [
       "[(array([ 80,  81,  82,  83,  84,  85,  86,  87,  88,  89,  90,  91,  92,\n",
       "          93,  94,  95,  96,  97,  98,  99, 100, 101, 102, 103, 104, 105,\n",
       "         106, 107, 108, 109, 110, 111, 112, 113, 114, 115, 116, 117, 118,\n",
       "         119, 120, 121, 122, 123, 124, 125, 126, 127, 128, 129, 130, 131,\n",
       "         132, 133, 134, 135, 136, 137, 138, 139, 140, 141, 142, 143, 144,\n",
       "         145, 146, 147, 148, 149, 150, 151, 152, 153, 154, 155, 156, 157,\n",
       "         158, 159, 160, 161, 162, 163, 164, 165, 166, 167, 168, 169, 170,\n",
       "         171, 172, 173, 174, 175, 176, 177, 178, 179, 180, 181, 182, 183,\n",
       "         184, 185, 186, 187, 188, 189, 190, 191, 192, 193, 194, 195, 196,\n",
       "         197, 198, 199, 200, 201, 202, 203, 204, 205, 206, 207, 208, 209,\n",
       "         210, 211, 212, 213, 214, 215, 216, 217, 218, 219, 220, 221, 222,\n",
       "         223, 224, 225, 226, 227, 228, 229, 230, 231, 232, 233, 234, 235,\n",
       "         236, 237, 238, 239, 240, 241, 242, 243, 244, 245, 246, 247, 248,\n",
       "         249, 250, 251, 252, 253, 254, 255, 256, 257, 258, 259, 260, 261,\n",
       "         262, 263, 264, 265, 266, 267, 268, 269, 270, 271, 272, 273, 274,\n",
       "         275, 276, 277, 278, 279, 280, 281, 282, 283, 284, 285, 286, 287,\n",
       "         288, 289, 290, 291, 292, 293, 294, 295, 296, 297, 298, 299, 300,\n",
       "         301, 302, 303, 304, 305, 306, 307, 308, 309, 310, 311, 312, 313,\n",
       "         314, 315, 316, 317, 318, 319, 320, 321, 322, 323, 324, 325, 326,\n",
       "         327, 328, 329, 330, 331, 332, 333, 334, 335, 336, 337, 338, 339,\n",
       "         340, 341, 342, 343, 344, 345, 346, 347, 348, 349, 350, 351, 352,\n",
       "         353, 354, 355, 356, 357, 358, 359, 360, 361, 362, 363, 364, 365,\n",
       "         366, 367, 368, 369, 370, 371, 372, 373, 374, 375, 376, 377, 378,\n",
       "         379, 380, 381, 382, 383, 384, 385, 386, 387, 388, 389, 390, 391,\n",
       "         392, 393, 394, 395, 396, 397, 398, 399]),\n",
       "  array([ 0,  1,  2,  3,  4,  5,  6,  7,  8,  9, 10, 11, 12, 13, 14, 15, 16,\n",
       "         17, 18, 19, 20, 21, 22, 23, 24, 25, 26, 27, 28, 29, 30, 31, 32, 33,\n",
       "         34, 35, 36, 37, 38, 39, 40, 41, 42, 43, 44, 45, 46, 47, 48, 49, 50,\n",
       "         51, 52, 53, 54, 55, 56, 57, 58, 59, 60, 61, 62, 63, 64, 65, 66, 67,\n",
       "         68, 69, 70, 71, 72, 73, 74, 75, 76, 77, 78, 79])),\n",
       " (array([  0,   1,   2,   3,   4,   5,   6,   7,   8,   9,  10,  11,  12,\n",
       "          13,  14,  15,  16,  17,  18,  19,  20,  21,  22,  23,  24,  25,\n",
       "          26,  27,  28,  29,  30,  31,  32,  33,  34,  35,  36,  37,  38,\n",
       "          39,  40,  41,  42,  43,  44,  45,  46,  47,  48,  49,  50,  51,\n",
       "          52,  53,  54,  55,  56,  57,  58,  59,  60,  61,  62,  63,  64,\n",
       "          65,  66,  67,  68,  69,  70,  71,  72,  73,  74,  75,  76,  77,\n",
       "          78,  79, 160, 161, 162, 163, 164, 165, 166, 167, 168, 169, 170,\n",
       "         171, 172, 173, 174, 175, 176, 177, 178, 179, 180, 181, 182, 183,\n",
       "         184, 185, 186, 187, 188, 189, 190, 191, 192, 193, 194, 195, 196,\n",
       "         197, 198, 199, 200, 201, 202, 203, 204, 205, 206, 207, 208, 209,\n",
       "         210, 211, 212, 213, 214, 215, 216, 217, 218, 219, 220, 221, 222,\n",
       "         223, 224, 225, 226, 227, 228, 229, 230, 231, 232, 233, 234, 235,\n",
       "         236, 237, 238, 239, 240, 241, 242, 243, 244, 245, 246, 247, 248,\n",
       "         249, 250, 251, 252, 253, 254, 255, 256, 257, 258, 259, 260, 261,\n",
       "         262, 263, 264, 265, 266, 267, 268, 269, 270, 271, 272, 273, 274,\n",
       "         275, 276, 277, 278, 279, 280, 281, 282, 283, 284, 285, 286, 287,\n",
       "         288, 289, 290, 291, 292, 293, 294, 295, 296, 297, 298, 299, 300,\n",
       "         301, 302, 303, 304, 305, 306, 307, 308, 309, 310, 311, 312, 313,\n",
       "         314, 315, 316, 317, 318, 319, 320, 321, 322, 323, 324, 325, 326,\n",
       "         327, 328, 329, 330, 331, 332, 333, 334, 335, 336, 337, 338, 339,\n",
       "         340, 341, 342, 343, 344, 345, 346, 347, 348, 349, 350, 351, 352,\n",
       "         353, 354, 355, 356, 357, 358, 359, 360, 361, 362, 363, 364, 365,\n",
       "         366, 367, 368, 369, 370, 371, 372, 373, 374, 375, 376, 377, 378,\n",
       "         379, 380, 381, 382, 383, 384, 385, 386, 387, 388, 389, 390, 391,\n",
       "         392, 393, 394, 395, 396, 397, 398, 399]),\n",
       "  array([ 80,  81,  82,  83,  84,  85,  86,  87,  88,  89,  90,  91,  92,\n",
       "          93,  94,  95,  96,  97,  98,  99, 100, 101, 102, 103, 104, 105,\n",
       "         106, 107, 108, 109, 110, 111, 112, 113, 114, 115, 116, 117, 118,\n",
       "         119, 120, 121, 122, 123, 124, 125, 126, 127, 128, 129, 130, 131,\n",
       "         132, 133, 134, 135, 136, 137, 138, 139, 140, 141, 142, 143, 144,\n",
       "         145, 146, 147, 148, 149, 150, 151, 152, 153, 154, 155, 156, 157,\n",
       "         158, 159])),\n",
       " (array([  0,   1,   2,   3,   4,   5,   6,   7,   8,   9,  10,  11,  12,\n",
       "          13,  14,  15,  16,  17,  18,  19,  20,  21,  22,  23,  24,  25,\n",
       "          26,  27,  28,  29,  30,  31,  32,  33,  34,  35,  36,  37,  38,\n",
       "          39,  40,  41,  42,  43,  44,  45,  46,  47,  48,  49,  50,  51,\n",
       "          52,  53,  54,  55,  56,  57,  58,  59,  60,  61,  62,  63,  64,\n",
       "          65,  66,  67,  68,  69,  70,  71,  72,  73,  74,  75,  76,  77,\n",
       "          78,  79,  80,  81,  82,  83,  84,  85,  86,  87,  88,  89,  90,\n",
       "          91,  92,  93,  94,  95,  96,  97,  98,  99, 100, 101, 102, 103,\n",
       "         104, 105, 106, 107, 108, 109, 110, 111, 112, 113, 114, 115, 116,\n",
       "         117, 118, 119, 120, 121, 122, 123, 124, 125, 126, 127, 128, 129,\n",
       "         130, 131, 132, 133, 134, 135, 136, 137, 138, 139, 140, 141, 142,\n",
       "         143, 144, 145, 146, 147, 148, 149, 150, 151, 152, 153, 154, 155,\n",
       "         156, 157, 158, 159, 240, 241, 242, 243, 244, 245, 246, 247, 248,\n",
       "         249, 250, 251, 252, 253, 254, 255, 256, 257, 258, 259, 260, 261,\n",
       "         262, 263, 264, 265, 266, 267, 268, 269, 270, 271, 272, 273, 274,\n",
       "         275, 276, 277, 278, 279, 280, 281, 282, 283, 284, 285, 286, 287,\n",
       "         288, 289, 290, 291, 292, 293, 294, 295, 296, 297, 298, 299, 300,\n",
       "         301, 302, 303, 304, 305, 306, 307, 308, 309, 310, 311, 312, 313,\n",
       "         314, 315, 316, 317, 318, 319, 320, 321, 322, 323, 324, 325, 326,\n",
       "         327, 328, 329, 330, 331, 332, 333, 334, 335, 336, 337, 338, 339,\n",
       "         340, 341, 342, 343, 344, 345, 346, 347, 348, 349, 350, 351, 352,\n",
       "         353, 354, 355, 356, 357, 358, 359, 360, 361, 362, 363, 364, 365,\n",
       "         366, 367, 368, 369, 370, 371, 372, 373, 374, 375, 376, 377, 378,\n",
       "         379, 380, 381, 382, 383, 384, 385, 386, 387, 388, 389, 390, 391,\n",
       "         392, 393, 394, 395, 396, 397, 398, 399]),\n",
       "  array([160, 161, 162, 163, 164, 165, 166, 167, 168, 169, 170, 171, 172,\n",
       "         173, 174, 175, 176, 177, 178, 179, 180, 181, 182, 183, 184, 185,\n",
       "         186, 187, 188, 189, 190, 191, 192, 193, 194, 195, 196, 197, 198,\n",
       "         199, 200, 201, 202, 203, 204, 205, 206, 207, 208, 209, 210, 211,\n",
       "         212, 213, 214, 215, 216, 217, 218, 219, 220, 221, 222, 223, 224,\n",
       "         225, 226, 227, 228, 229, 230, 231, 232, 233, 234, 235, 236, 237,\n",
       "         238, 239])),\n",
       " (array([  0,   1,   2,   3,   4,   5,   6,   7,   8,   9,  10,  11,  12,\n",
       "          13,  14,  15,  16,  17,  18,  19,  20,  21,  22,  23,  24,  25,\n",
       "          26,  27,  28,  29,  30,  31,  32,  33,  34,  35,  36,  37,  38,\n",
       "          39,  40,  41,  42,  43,  44,  45,  46,  47,  48,  49,  50,  51,\n",
       "          52,  53,  54,  55,  56,  57,  58,  59,  60,  61,  62,  63,  64,\n",
       "          65,  66,  67,  68,  69,  70,  71,  72,  73,  74,  75,  76,  77,\n",
       "          78,  79,  80,  81,  82,  83,  84,  85,  86,  87,  88,  89,  90,\n",
       "          91,  92,  93,  94,  95,  96,  97,  98,  99, 100, 101, 102, 103,\n",
       "         104, 105, 106, 107, 108, 109, 110, 111, 112, 113, 114, 115, 116,\n",
       "         117, 118, 119, 120, 121, 122, 123, 124, 125, 126, 127, 128, 129,\n",
       "         130, 131, 132, 133, 134, 135, 136, 137, 138, 139, 140, 141, 142,\n",
       "         143, 144, 145, 146, 147, 148, 149, 150, 151, 152, 153, 154, 155,\n",
       "         156, 157, 158, 159, 160, 161, 162, 163, 164, 165, 166, 167, 168,\n",
       "         169, 170, 171, 172, 173, 174, 175, 176, 177, 178, 179, 180, 181,\n",
       "         182, 183, 184, 185, 186, 187, 188, 189, 190, 191, 192, 193, 194,\n",
       "         195, 196, 197, 198, 199, 200, 201, 202, 203, 204, 205, 206, 207,\n",
       "         208, 209, 210, 211, 212, 213, 214, 215, 216, 217, 218, 219, 220,\n",
       "         221, 222, 223, 224, 225, 226, 227, 228, 229, 230, 231, 232, 233,\n",
       "         234, 235, 236, 237, 238, 239, 320, 321, 322, 323, 324, 325, 326,\n",
       "         327, 328, 329, 330, 331, 332, 333, 334, 335, 336, 337, 338, 339,\n",
       "         340, 341, 342, 343, 344, 345, 346, 347, 348, 349, 350, 351, 352,\n",
       "         353, 354, 355, 356, 357, 358, 359, 360, 361, 362, 363, 364, 365,\n",
       "         366, 367, 368, 369, 370, 371, 372, 373, 374, 375, 376, 377, 378,\n",
       "         379, 380, 381, 382, 383, 384, 385, 386, 387, 388, 389, 390, 391,\n",
       "         392, 393, 394, 395, 396, 397, 398, 399]),\n",
       "  array([240, 241, 242, 243, 244, 245, 246, 247, 248, 249, 250, 251, 252,\n",
       "         253, 254, 255, 256, 257, 258, 259, 260, 261, 262, 263, 264, 265,\n",
       "         266, 267, 268, 269, 270, 271, 272, 273, 274, 275, 276, 277, 278,\n",
       "         279, 280, 281, 282, 283, 284, 285, 286, 287, 288, 289, 290, 291,\n",
       "         292, 293, 294, 295, 296, 297, 298, 299, 300, 301, 302, 303, 304,\n",
       "         305, 306, 307, 308, 309, 310, 311, 312, 313, 314, 315, 316, 317,\n",
       "         318, 319])),\n",
       " (array([  0,   1,   2,   3,   4,   5,   6,   7,   8,   9,  10,  11,  12,\n",
       "          13,  14,  15,  16,  17,  18,  19,  20,  21,  22,  23,  24,  25,\n",
       "          26,  27,  28,  29,  30,  31,  32,  33,  34,  35,  36,  37,  38,\n",
       "          39,  40,  41,  42,  43,  44,  45,  46,  47,  48,  49,  50,  51,\n",
       "          52,  53,  54,  55,  56,  57,  58,  59,  60,  61,  62,  63,  64,\n",
       "          65,  66,  67,  68,  69,  70,  71,  72,  73,  74,  75,  76,  77,\n",
       "          78,  79,  80,  81,  82,  83,  84,  85,  86,  87,  88,  89,  90,\n",
       "          91,  92,  93,  94,  95,  96,  97,  98,  99, 100, 101, 102, 103,\n",
       "         104, 105, 106, 107, 108, 109, 110, 111, 112, 113, 114, 115, 116,\n",
       "         117, 118, 119, 120, 121, 122, 123, 124, 125, 126, 127, 128, 129,\n",
       "         130, 131, 132, 133, 134, 135, 136, 137, 138, 139, 140, 141, 142,\n",
       "         143, 144, 145, 146, 147, 148, 149, 150, 151, 152, 153, 154, 155,\n",
       "         156, 157, 158, 159, 160, 161, 162, 163, 164, 165, 166, 167, 168,\n",
       "         169, 170, 171, 172, 173, 174, 175, 176, 177, 178, 179, 180, 181,\n",
       "         182, 183, 184, 185, 186, 187, 188, 189, 190, 191, 192, 193, 194,\n",
       "         195, 196, 197, 198, 199, 200, 201, 202, 203, 204, 205, 206, 207,\n",
       "         208, 209, 210, 211, 212, 213, 214, 215, 216, 217, 218, 219, 220,\n",
       "         221, 222, 223, 224, 225, 226, 227, 228, 229, 230, 231, 232, 233,\n",
       "         234, 235, 236, 237, 238, 239, 240, 241, 242, 243, 244, 245, 246,\n",
       "         247, 248, 249, 250, 251, 252, 253, 254, 255, 256, 257, 258, 259,\n",
       "         260, 261, 262, 263, 264, 265, 266, 267, 268, 269, 270, 271, 272,\n",
       "         273, 274, 275, 276, 277, 278, 279, 280, 281, 282, 283, 284, 285,\n",
       "         286, 287, 288, 289, 290, 291, 292, 293, 294, 295, 296, 297, 298,\n",
       "         299, 300, 301, 302, 303, 304, 305, 306, 307, 308, 309, 310, 311,\n",
       "         312, 313, 314, 315, 316, 317, 318, 319]),\n",
       "  array([320, 321, 322, 323, 324, 325, 326, 327, 328, 329, 330, 331, 332,\n",
       "         333, 334, 335, 336, 337, 338, 339, 340, 341, 342, 343, 344, 345,\n",
       "         346, 347, 348, 349, 350, 351, 352, 353, 354, 355, 356, 357, 358,\n",
       "         359, 360, 361, 362, 363, 364, 365, 366, 367, 368, 369, 370, 371,\n",
       "         372, 373, 374, 375, 376, 377, 378, 379, 380, 381, 382, 383, 384,\n",
       "         385, 386, 387, 388, 389, 390, 391, 392, 393, 394, 395, 396, 397,\n",
       "         398, 399]))]"
      ]
     },
     "execution_count": 11,
     "metadata": {},
     "output_type": "execute_result"
    }
   ],
   "source": [
    "list(kf.split(X, y))"
   ]
  },
  {
   "cell_type": "code",
   "execution_count": null,
   "id": "f41e285c",
   "metadata": {},
   "outputs": [],
   "source": []
  }
 ],
 "metadata": {
  "kernelspec": {
   "display_name": "Python 3 (ipykernel)",
   "language": "python",
   "name": "python3"
  },
  "language_info": {
   "codemirror_mode": {
    "name": "ipython",
    "version": 3
   },
   "file_extension": ".py",
   "mimetype": "text/x-python",
   "name": "python",
   "nbconvert_exporter": "python",
   "pygments_lexer": "ipython3",
   "version": "3.9.16"
  }
 },
 "nbformat": 4,
 "nbformat_minor": 5
}
