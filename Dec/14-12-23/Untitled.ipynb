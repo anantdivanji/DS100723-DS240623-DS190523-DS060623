{
 "cells": [
  {
   "cell_type": "code",
   "execution_count": 1,
   "id": "80d8427d-210b-43f2-9549-5e6832898e90",
   "metadata": {},
   "outputs": [],
   "source": [
    "import pandas as pd\n",
    "import numpy as np\n",
    "import matplotlib.pyplot as plt\n",
    "import seaborn as sns\n",
    "import warnings\n",
    "warnings.filterwarnings(\"ignore\")"
   ]
  },
  {
   "cell_type": "code",
   "execution_count": 2,
   "id": "45c5109d-1fca-496c-9afd-f7aa96355852",
   "metadata": {},
   "outputs": [
    {
     "data": {
      "text/html": [
       "<div>\n",
       "<style scoped>\n",
       "    .dataframe tbody tr th:only-of-type {\n",
       "        vertical-align: middle;\n",
       "    }\n",
       "\n",
       "    .dataframe tbody tr th {\n",
       "        vertical-align: top;\n",
       "    }\n",
       "\n",
       "    .dataframe thead th {\n",
       "        text-align: right;\n",
       "    }\n",
       "</style>\n",
       "<table border=\"1\" class=\"dataframe\">\n",
       "  <thead>\n",
       "    <tr style=\"text-align: right;\">\n",
       "      <th></th>\n",
       "      <th>YearStart</th>\n",
       "      <th>YearEnd</th>\n",
       "      <th>LocationAbbr</th>\n",
       "      <th>LocationDesc</th>\n",
       "      <th>Datasource</th>\n",
       "      <th>Class</th>\n",
       "      <th>Topic</th>\n",
       "      <th>Question</th>\n",
       "      <th>Data_Value_Unit</th>\n",
       "      <th>Data_Value_Type</th>\n",
       "      <th>...</th>\n",
       "      <th>GeoLocation</th>\n",
       "      <th>ClassID</th>\n",
       "      <th>TopicID</th>\n",
       "      <th>QuestionID</th>\n",
       "      <th>DataValueTypeID</th>\n",
       "      <th>LocationID</th>\n",
       "      <th>StratificationCategory1</th>\n",
       "      <th>Stratification1</th>\n",
       "      <th>StratificationCategoryId1</th>\n",
       "      <th>StratificationID1</th>\n",
       "    </tr>\n",
       "  </thead>\n",
       "  <tbody>\n",
       "    <tr>\n",
       "      <th>0</th>\n",
       "      <td>2011</td>\n",
       "      <td>2011</td>\n",
       "      <td>AL</td>\n",
       "      <td>Alabama</td>\n",
       "      <td>Behavioral Risk Factor Surveillance System</td>\n",
       "      <td>Obesity / Weight Status</td>\n",
       "      <td>Obesity / Weight Status</td>\n",
       "      <td>Percent of adults aged 18 years and older who ...</td>\n",
       "      <td>NaN</td>\n",
       "      <td>Value</td>\n",
       "      <td>...</td>\n",
       "      <td>(32.84057112200048, -86.63186076199969)</td>\n",
       "      <td>OWS</td>\n",
       "      <td>OWS1</td>\n",
       "      <td>Q036</td>\n",
       "      <td>VALUE</td>\n",
       "      <td>1</td>\n",
       "      <td>Total</td>\n",
       "      <td>Total</td>\n",
       "      <td>OVR</td>\n",
       "      <td>OVERALL</td>\n",
       "    </tr>\n",
       "    <tr>\n",
       "      <th>1</th>\n",
       "      <td>2011</td>\n",
       "      <td>2011</td>\n",
       "      <td>AL</td>\n",
       "      <td>Alabama</td>\n",
       "      <td>Behavioral Risk Factor Surveillance System</td>\n",
       "      <td>Obesity / Weight Status</td>\n",
       "      <td>Obesity / Weight Status</td>\n",
       "      <td>Percent of adults aged 18 years and older who ...</td>\n",
       "      <td>NaN</td>\n",
       "      <td>Value</td>\n",
       "      <td>...</td>\n",
       "      <td>(32.84057112200048, -86.63186076199969)</td>\n",
       "      <td>OWS</td>\n",
       "      <td>OWS1</td>\n",
       "      <td>Q036</td>\n",
       "      <td>VALUE</td>\n",
       "      <td>1</td>\n",
       "      <td>Gender</td>\n",
       "      <td>Male</td>\n",
       "      <td>GEN</td>\n",
       "      <td>MALE</td>\n",
       "    </tr>\n",
       "    <tr>\n",
       "      <th>2</th>\n",
       "      <td>2011</td>\n",
       "      <td>2011</td>\n",
       "      <td>AL</td>\n",
       "      <td>Alabama</td>\n",
       "      <td>Behavioral Risk Factor Surveillance System</td>\n",
       "      <td>Obesity / Weight Status</td>\n",
       "      <td>Obesity / Weight Status</td>\n",
       "      <td>Percent of adults aged 18 years and older who ...</td>\n",
       "      <td>NaN</td>\n",
       "      <td>Value</td>\n",
       "      <td>...</td>\n",
       "      <td>(32.84057112200048, -86.63186076199969)</td>\n",
       "      <td>OWS</td>\n",
       "      <td>OWS1</td>\n",
       "      <td>Q036</td>\n",
       "      <td>VALUE</td>\n",
       "      <td>1</td>\n",
       "      <td>Gender</td>\n",
       "      <td>Female</td>\n",
       "      <td>GEN</td>\n",
       "      <td>FEMALE</td>\n",
       "    </tr>\n",
       "    <tr>\n",
       "      <th>3</th>\n",
       "      <td>2011</td>\n",
       "      <td>2011</td>\n",
       "      <td>AL</td>\n",
       "      <td>Alabama</td>\n",
       "      <td>Behavioral Risk Factor Surveillance System</td>\n",
       "      <td>Obesity / Weight Status</td>\n",
       "      <td>Obesity / Weight Status</td>\n",
       "      <td>Percent of adults aged 18 years and older who ...</td>\n",
       "      <td>NaN</td>\n",
       "      <td>Value</td>\n",
       "      <td>...</td>\n",
       "      <td>(32.84057112200048, -86.63186076199969)</td>\n",
       "      <td>OWS</td>\n",
       "      <td>OWS1</td>\n",
       "      <td>Q036</td>\n",
       "      <td>VALUE</td>\n",
       "      <td>1</td>\n",
       "      <td>Education</td>\n",
       "      <td>Less than high school</td>\n",
       "      <td>EDU</td>\n",
       "      <td>EDUHS</td>\n",
       "    </tr>\n",
       "    <tr>\n",
       "      <th>4</th>\n",
       "      <td>2011</td>\n",
       "      <td>2011</td>\n",
       "      <td>AL</td>\n",
       "      <td>Alabama</td>\n",
       "      <td>Behavioral Risk Factor Surveillance System</td>\n",
       "      <td>Obesity / Weight Status</td>\n",
       "      <td>Obesity / Weight Status</td>\n",
       "      <td>Percent of adults aged 18 years and older who ...</td>\n",
       "      <td>NaN</td>\n",
       "      <td>Value</td>\n",
       "      <td>...</td>\n",
       "      <td>(32.84057112200048, -86.63186076199969)</td>\n",
       "      <td>OWS</td>\n",
       "      <td>OWS1</td>\n",
       "      <td>Q036</td>\n",
       "      <td>VALUE</td>\n",
       "      <td>1</td>\n",
       "      <td>Education</td>\n",
       "      <td>High school graduate</td>\n",
       "      <td>EDU</td>\n",
       "      <td>EDUHSGRAD</td>\n",
       "    </tr>\n",
       "  </tbody>\n",
       "</table>\n",
       "<p>5 rows × 33 columns</p>\n",
       "</div>"
      ],
      "text/plain": [
       "   YearStart  YearEnd LocationAbbr LocationDesc  \\\n",
       "0       2011     2011           AL      Alabama   \n",
       "1       2011     2011           AL      Alabama   \n",
       "2       2011     2011           AL      Alabama   \n",
       "3       2011     2011           AL      Alabama   \n",
       "4       2011     2011           AL      Alabama   \n",
       "\n",
       "                                   Datasource                    Class  \\\n",
       "0  Behavioral Risk Factor Surveillance System  Obesity / Weight Status   \n",
       "1  Behavioral Risk Factor Surveillance System  Obesity / Weight Status   \n",
       "2  Behavioral Risk Factor Surveillance System  Obesity / Weight Status   \n",
       "3  Behavioral Risk Factor Surveillance System  Obesity / Weight Status   \n",
       "4  Behavioral Risk Factor Surveillance System  Obesity / Weight Status   \n",
       "\n",
       "                     Topic                                           Question  \\\n",
       "0  Obesity / Weight Status  Percent of adults aged 18 years and older who ...   \n",
       "1  Obesity / Weight Status  Percent of adults aged 18 years and older who ...   \n",
       "2  Obesity / Weight Status  Percent of adults aged 18 years and older who ...   \n",
       "3  Obesity / Weight Status  Percent of adults aged 18 years and older who ...   \n",
       "4  Obesity / Weight Status  Percent of adults aged 18 years and older who ...   \n",
       "\n",
       "   Data_Value_Unit Data_Value_Type  ...  \\\n",
       "0              NaN           Value  ...   \n",
       "1              NaN           Value  ...   \n",
       "2              NaN           Value  ...   \n",
       "3              NaN           Value  ...   \n",
       "4              NaN           Value  ...   \n",
       "\n",
       "                               GeoLocation  ClassID TopicID QuestionID  \\\n",
       "0  (32.84057112200048, -86.63186076199969)      OWS    OWS1       Q036   \n",
       "1  (32.84057112200048, -86.63186076199969)      OWS    OWS1       Q036   \n",
       "2  (32.84057112200048, -86.63186076199969)      OWS    OWS1       Q036   \n",
       "3  (32.84057112200048, -86.63186076199969)      OWS    OWS1       Q036   \n",
       "4  (32.84057112200048, -86.63186076199969)      OWS    OWS1       Q036   \n",
       "\n",
       "   DataValueTypeID  LocationID  StratificationCategory1  \\\n",
       "0            VALUE           1                    Total   \n",
       "1            VALUE           1                   Gender   \n",
       "2            VALUE           1                   Gender   \n",
       "3            VALUE           1                Education   \n",
       "4            VALUE           1                Education   \n",
       "\n",
       "         Stratification1 StratificationCategoryId1 StratificationID1  \n",
       "0                  Total                       OVR           OVERALL  \n",
       "1                   Male                       GEN              MALE  \n",
       "2                 Female                       GEN            FEMALE  \n",
       "3  Less than high school                       EDU             EDUHS  \n",
       "4   High school graduate                       EDU         EDUHSGRAD  \n",
       "\n",
       "[5 rows x 33 columns]"
      ]
     },
     "execution_count": 2,
     "metadata": {},
     "output_type": "execute_result"
    }
   ],
   "source": [
    "data = pd.read_csv(\"Nutrition__Physical_Activity__and_Obesity_-_Behavioral_Risk_Factor_Surveillance_System.csv\")\n",
    "data.head()"
   ]
  },
  {
   "cell_type": "code",
   "execution_count": 3,
   "id": "f6193928-43cd-4cbd-ab3d-77000eb7fec7",
   "metadata": {},
   "outputs": [
    {
     "data": {
      "text/plain": [
       "Index(['YearStart', 'YearEnd', 'LocationAbbr', 'LocationDesc', 'Datasource',\n",
       "       'Class', 'Topic', 'Question', 'Data_Value_Unit', 'Data_Value_Type',\n",
       "       'Data_Value', 'Data_Value_Alt', 'Data_Value_Footnote_Symbol',\n",
       "       'Data_Value_Footnote', 'Low_Confidence_Limit', 'High_Confidence_Limit ',\n",
       "       'Sample_Size', 'Total', 'Age(years)', 'Education', 'Gender', 'Income',\n",
       "       'Race/Ethnicity', 'GeoLocation', 'ClassID', 'TopicID', 'QuestionID',\n",
       "       'DataValueTypeID', 'LocationID', 'StratificationCategory1',\n",
       "       'Stratification1', 'StratificationCategoryId1', 'StratificationID1'],\n",
       "      dtype='object')"
      ]
     },
     "execution_count": 3,
     "metadata": {},
     "output_type": "execute_result"
    }
   ],
   "source": [
    "data.columns"
   ]
  },
  {
   "cell_type": "code",
   "execution_count": 4,
   "id": "afd57a45-1ede-4861-bbe0-283169bdcf6c",
   "metadata": {},
   "outputs": [
    {
     "data": {
      "text/plain": [
       "(53392, 33)"
      ]
     },
     "execution_count": 4,
     "metadata": {},
     "output_type": "execute_result"
    }
   ],
   "source": [
    "data.shape"
   ]
  },
  {
   "cell_type": "code",
   "execution_count": 5,
   "id": "1387ec0c-e1a4-4b5c-92db-60ad8c57093e",
   "metadata": {},
   "outputs": [
    {
     "name": "stdout",
     "output_type": "stream",
     "text": [
      "6\n",
      "['Total' 'Gender' 'Education' 'Age (years)' 'Income' 'Race/Ethnicity']\n"
     ]
    }
   ],
   "source": [
    "print(data[\"StratificationCategory1\"].nunique())\n",
    "print(data[\"StratificationCategory1\"].unique())"
   ]
  },
  {
   "cell_type": "code",
   "execution_count": 15,
   "id": "e24a7695-3eea-4c2b-9d56-e8a1f746ea61",
   "metadata": {},
   "outputs": [
    {
     "name": "stdout",
     "output_type": "stream",
     "text": [
      "8123\n",
      "[ 7304.  2581.  4723. ... 11672.  2884.  4547.]\n"
     ]
    }
   ],
   "source": [
    "print(data[\"Sample_Size\"].nunique())\n",
    "print(data[\"Sample_Size\"].unique())"
   ]
  },
  {
   "cell_type": "code",
   "execution_count": 16,
   "id": "96a4cad4-f637-4c40-b4fa-440877af2daa",
   "metadata": {},
   "outputs": [
    {
     "name": "stdout",
     "output_type": "stream",
     "text": [
      "9\n",
      "['Percent of adults aged 18 years and older who have obesity'\n",
      " 'Percent of adults aged 18 years and older who have an overweight classification'\n",
      " 'Percent of adults who report consuming fruit less than one time daily'\n",
      " 'Percent of adults who report consuming vegetables less than one time daily'\n",
      " 'Percent of adults who engage in muscle-strengthening activities on 2 or more days a week'\n",
      " 'Percent of adults who achieve at least 150 minutes a week of moderate-intensity aerobic physical activity or 75 minutes a week of vigorous-intensity aerobic activity (or an equivalent combination)'\n",
      " 'Percent of adults who achieve at least 150 minutes a week of moderate-intensity aerobic physical activity or 75 minutes a week of vigorous-intensity aerobic physical activity and engage in muscle-strengthening activities on 2 or more days a week'\n",
      " 'Percent of adults who achieve at least 300 minutes a week of moderate-intensity aerobic physical activity or 150 minutes a week of vigorous-intensity aerobic activity (or an equivalent combination)'\n",
      " 'Percent of adults who engage in no leisure-time physical activity']\n"
     ]
    }
   ],
   "source": [
    "print(data[\"Question\"].nunique())\n",
    "print(data[\"Question\"].unique())"
   ]
  },
  {
   "cell_type": "markdown",
   "id": "4b56f517-72e4-4d41-afe8-0b23f0731ff7",
   "metadata": {},
   "source": [
    "# Observation:\n",
    "\n",
    "- There are 9 unique QuestionID. They are ['Q036' 'Q037' 'Q018' 'Q019' 'Q046' 'Q043' 'Q044' 'Q045' 'Q047'].\n",
    "- When we look at the questionID it seems that they are question numbers from a list of 50 or 100 questions but only these are beings asked to the patients."
   ]
  },
  {
   "cell_type": "code",
   "execution_count": 8,
   "id": "9e86977f-0d7f-4e63-8165-1fea509ebbf7",
   "metadata": {},
   "outputs": [
    {
     "name": "stdout",
     "output_type": "stream",
     "text": [
      "1\n",
      "['Behavioral Risk Factor Surveillance System']\n"
     ]
    }
   ],
   "source": [
    "print(data[\"Datasource\"].nunique())\n",
    "print(data[\"Datasource\"].unique())"
   ]
  },
  {
   "cell_type": "markdown",
   "id": "4e4138b7-4fc3-4e1a-96bd-a6d9468c5e54",
   "metadata": {},
   "source": [
    "# Observation:\n",
    "- ['Behavioral Risk Factor Surveillance System'] is the only unique value available in Datasource making no sense as we know from the dataset name itself that the datasource is ['Behavioral Risk Factor Surveillance System'].\n",
    "- Hence drop it"
   ]
  },
  {
   "cell_type": "code",
   "execution_count": 9,
   "id": "69700e03-40be-47c5-8173-034b3f39bd36",
   "metadata": {},
   "outputs": [
    {
     "name": "stdout",
     "output_type": "stream",
     "text": [
      "55\n",
      "[ 1 59  2  4  5  6  9  8 10 12 11 13 66 15 16 17 18 19 20 21 22 23 24 25\n",
      " 26 27 28 29 30 31 32 33 34 35 36 37 38 39 40 41 42 72 44 45 46 47 48 49\n",
      " 50 51 54 53 55 56 78]\n"
     ]
    }
   ],
   "source": [
    "print(data[\"LocationID\"].nunique())\n",
    "print(data[\"LocationID\"].unique())"
   ]
  },
  {
   "cell_type": "code",
   "execution_count": 10,
   "id": "29b096c5-fe97-44d6-81f2-220270b1e0b7",
   "metadata": {
    "scrolled": true
   },
   "outputs": [
    {
     "name": "stdout",
     "output_type": "stream",
     "text": [
      "55\n",
      "['Alabama' 'National' 'Alaska' 'Arizona' 'Arkansas' 'California'\n",
      " 'Connecticut' 'Colorado' 'Delaware' 'Florida' 'District of Columbia'\n",
      " 'Georgia' 'Guam' 'Hawaii' 'Idaho' 'Illinois' 'Indiana' 'Iowa' 'Kansas'\n",
      " 'Kentucky' 'Louisiana' 'Maine' 'Maryland' 'Massachusetts' 'Michigan'\n",
      " 'Minnesota' 'Mississippi' 'Missouri' 'Montana' 'Nebraska' 'Nevada'\n",
      " 'New Hampshire' 'New Jersey' 'New Mexico' 'New York' 'North Carolina'\n",
      " 'North Dakota' 'Ohio' 'Oklahoma' 'Oregon' 'Pennsylvania' 'Puerto Rico'\n",
      " 'Rhode Island' 'South Carolina' 'South Dakota' 'Tennessee' 'Texas' 'Utah'\n",
      " 'Vermont' 'Virginia' 'West Virginia' 'Washington' 'Wisconsin' 'Wyoming'\n",
      " 'Virgin Islands']\n"
     ]
    }
   ],
   "source": [
    "print(data[\"LocationDesc\"].nunique())\n",
    "print(data[\"LocationDesc\"].unique())"
   ]
  },
  {
   "cell_type": "markdown",
   "id": "1cfca43f-a8bb-4cae-b5fa-5417a245bca1",
   "metadata": {},
   "source": [
    "# List of cols to be deleted"
   ]
  },
  {
   "cell_type": "code",
   "execution_count": 11,
   "id": "53c08c7e-49e3-4257-8c62-b53f775f1ba7",
   "metadata": {},
   "outputs": [],
   "source": [
    "cols = [\"DataValueTypeID\", \"GeoLocation\", \"LocationDesc\", \"LocationDesc\", \"LocationAbbr\", \"Data_Value_Unit\", \"Data_Value_Type\", \n",
    "        \"Data_Value_Footnote_Symbol\", \"Data_Value_Footnote\", \"Total\", \"Datasource\", \"QuestionID\", \"StratificationCategoryId1\",\n",
    "       \"StratificationID1\", 'Age(years)', 'Education', 'Gender', 'Income', 'Race/Ethnicity' , \"ClassID\", \"TopicID\"]"
   ]
  },
  {
   "cell_type": "code",
   "execution_count": 12,
   "id": "89625c18-8925-4991-987b-203e0bdfbe90",
   "metadata": {},
   "outputs": [
    {
     "data": {
      "text/plain": [
       "(53392, 13)"
      ]
     },
     "execution_count": 12,
     "metadata": {},
     "output_type": "execute_result"
    }
   ],
   "source": [
    "data = data.drop(columns = cols)\n",
    "data.shape"
   ]
  },
  {
   "cell_type": "code",
   "execution_count": null,
   "id": "d509ae94-6cb7-4848-92c7-e1106250b972",
   "metadata": {},
   "outputs": [],
   "source": []
  }
 ],
 "metadata": {
  "kernelspec": {
   "display_name": "Python 3 (ipykernel)",
   "language": "python",
   "name": "python3"
  },
  "language_info": {
   "codemirror_mode": {
    "name": "ipython",
    "version": 3
   },
   "file_extension": ".py",
   "mimetype": "text/x-python",
   "name": "python",
   "nbconvert_exporter": "python",
   "pygments_lexer": "ipython3",
   "version": "3.9.18"
  }
 },
 "nbformat": 4,
 "nbformat_minor": 5
}
