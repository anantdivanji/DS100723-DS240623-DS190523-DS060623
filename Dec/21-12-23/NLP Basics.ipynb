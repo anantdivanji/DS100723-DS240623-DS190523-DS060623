{
 "cells": [
  {
   "cell_type": "markdown",
   "id": "55f78b3a-6550-4f19-9463-4c836715d851",
   "metadata": {},
   "source": [
    "# NLP Basics: (Natural Language processing)\n",
    "- Applications of NLP:\n",
    "- 1. Social Media posts\n",
    "  2. Review/Comments Analysis\n",
    "  3. Literature Analysis"
   ]
  },
  {
   "cell_type": "code",
   "execution_count": 3,
   "id": "02f17616-e91d-44c9-83be-ff1b05064503",
   "metadata": {},
   "outputs": [
    {
     "data": {
      "text/plain": [
       "'Happy to share the news that India Successfully landed on Moon.CHANDRAYANA - 3 was a complete success'"
      ]
     },
     "execution_count": 3,
     "metadata": {},
     "output_type": "execute_result"
    }
   ],
   "source": [
    "text = \"Happy to share the news that India Successfully landed on Moon.CHANDRAYANA - 3 was a complete success\"\n",
    "text"
   ]
  },
  {
   "cell_type": "code",
   "execution_count": 4,
   "id": "f7e51e22-aa6e-4c68-a563-6b734d3b6443",
   "metadata": {},
   "outputs": [
    {
     "data": {
      "text/plain": [
       "'happy to share the news that india successfully landed on moon.chandrayana - 3 was a complete success'"
      ]
     },
     "execution_count": 4,
     "metadata": {},
     "output_type": "execute_result"
    }
   ],
   "source": [
    "# 1. Convert the entire text into a lower case. small letters.\n",
    "# India and india are two different things. Notice that \"i\" in India is capital and \"i\" in india is small.\n",
    "\n",
    "text1 = text.lower()\n",
    "text1"
   ]
  },
  {
   "cell_type": "code",
   "execution_count": 8,
   "id": "0fd4fa4e-f0d7-4008-9ff9-75618c6a712c",
   "metadata": {},
   "outputs": [
    {
     "data": {
      "text/plain": [
       "'It is a Truth Universally acknowledged, that a single man in possession of a #good fortune, must be in want of a @Good wife!'"
      ]
     },
     "execution_count": 8,
     "metadata": {},
     "output_type": "execute_result"
    }
   ],
   "source": [
    "t = \"It is a Truth Universally acknowledged, that a single man in possession of a #good fortune, must be in want of a @Good wife!\"\n",
    "t"
   ]
  },
  {
   "cell_type": "code",
   "execution_count": 9,
   "id": "477d1f58-b171-4a5f-bd2f-864535f703d8",
   "metadata": {},
   "outputs": [
    {
     "data": {
      "text/plain": [
       "'it is a truth universally acknowledged, that a single man in possession of a #good fortune, must be in want of a @good wife!'"
      ]
     },
     "execution_count": 9,
     "metadata": {},
     "output_type": "execute_result"
    }
   ],
   "source": [
    "t1 = t.lower()\n",
    "t1"
   ]
  },
  {
   "cell_type": "markdown",
   "id": "8f85daa5-5c18-492c-86a7-bdfdd0787593",
   "metadata": {},
   "source": [
    "# Notes:\n",
    "- The idea of converting a text to a lower case is to make python understand that good and Good both give the same meaning."
   ]
  },
  {
   "cell_type": "markdown",
   "id": "af91cc0b-c68a-4240-8c37-5d058c2ea357",
   "metadata": {},
   "source": [
    "# Removing Punctuations:\n"
   ]
  },
  {
   "cell_type": "code",
   "execution_count": 10,
   "id": "8c7ccb92-db08-43de-a48d-9e52cf5784e0",
   "metadata": {},
   "outputs": [
    {
     "name": "stdout",
     "output_type": "stream",
     "text": [
      "!\"#$%&'()*+,-./:;<=>?@[\\]^_`{|}~\n"
     ]
    }
   ],
   "source": [
    "import string\n",
    "print(string.punctuation)"
   ]
  },
  {
   "cell_type": "markdown",
   "id": "23ab63fd-4bc2-4763-a999-239a736dc71d",
   "metadata": {},
   "source": [
    "# How to remove punctuations from the text\n",
    "1. Create an empty list - To catch all the useful words from the text.(While looping through the text word by word, if a punctuation    \n",
    "is encountered ignore it).\n",
    "2. use a for loop to visit each char from the text.\n",
    "3. Put a condition on char that if a char is present in string.punctuation ignore it.\n",
    "4. use the join method on the empty list created above to get a text without punctuations"
   ]
  },
  {
   "cell_type": "code",
   "execution_count": 12,
   "id": "b495b4b7-5b47-43a3-b828-dae4073377fe",
   "metadata": {},
   "outputs": [
    {
     "data": {
      "text/plain": [
       "'It is a Truth Universally acknowledged, that a single man in possession of a #good fortune, must be in want of a @Good wife!'"
      ]
     },
     "execution_count": 12,
     "metadata": {},
     "output_type": "execute_result"
    }
   ],
   "source": [
    "t"
   ]
  },
  {
   "cell_type": "code",
   "execution_count": 15,
   "id": "df49f03d-a612-41af-809b-4e50c1e32a8c",
   "metadata": {},
   "outputs": [
    {
     "name": "stdout",
     "output_type": "stream",
     "text": [
      "I\n",
      "t\n",
      " \n",
      "i\n",
      "s\n",
      " \n",
      "a\n",
      " \n",
      "T\n",
      "r\n",
      "u\n",
      "t\n",
      "h\n",
      " \n",
      "U\n",
      "n\n",
      "i\n",
      "v\n",
      "e\n",
      "r\n",
      "s\n",
      "a\n",
      "l\n",
      "l\n",
      "y\n",
      " \n",
      "a\n",
      "c\n",
      "k\n",
      "n\n",
      "o\n",
      "w\n",
      "l\n",
      "e\n",
      "d\n",
      "g\n",
      "e\n",
      "d\n",
      ",\n",
      " \n",
      "t\n",
      "h\n",
      "a\n",
      "t\n",
      " \n",
      "a\n",
      " \n",
      "s\n",
      "i\n",
      "n\n",
      "g\n",
      "l\n",
      "e\n",
      " \n",
      "m\n",
      "a\n",
      "n\n",
      " \n",
      "i\n",
      "n\n",
      " \n",
      "p\n",
      "o\n",
      "s\n",
      "s\n",
      "e\n",
      "s\n",
      "s\n",
      "i\n",
      "o\n",
      "n\n",
      " \n",
      "o\n",
      "f\n",
      " \n",
      "a\n",
      " \n",
      "#\n",
      "g\n",
      "o\n",
      "o\n",
      "d\n",
      " \n",
      "f\n",
      "o\n",
      "r\n",
      "t\n",
      "u\n",
      "n\n",
      "e\n",
      ",\n",
      " \n",
      "m\n",
      "u\n",
      "s\n",
      "t\n",
      " \n",
      "b\n",
      "e\n",
      " \n",
      "i\n",
      "n\n",
      " \n",
      "w\n",
      "a\n",
      "n\n",
      "t\n",
      " \n",
      "o\n",
      "f\n",
      " \n",
      "a\n",
      " \n",
      "@\n",
      "G\n",
      "o\n",
      "o\n",
      "d\n",
      " \n",
      "w\n",
      "i\n",
      "f\n",
      "e\n",
      "!\n"
     ]
    }
   ],
   "source": [
    "for char in t:\n",
    "    print(char)"
   ]
  },
  {
   "cell_type": "code",
   "execution_count": 16,
   "id": "6c909add-71d4-48d3-937b-9895dae21041",
   "metadata": {},
   "outputs": [
    {
     "name": "stdout",
     "output_type": "stream",
     "text": [
      "['I', 't', ' ', 'i', 's', ' ', 'a', ' ', 'T', 'r', 'u', 't', 'h', ' ', 'U', 'n', 'i', 'v', 'e', 'r', 's', 'a', 'l', 'l', 'y', ' ', 'a', 'c', 'k', 'n', 'o', 'w', 'l', 'e', 'd', 'g', 'e', 'd', ' ', 't', 'h', 'a', 't', ' ', 'a', ' ', 's', 'i', 'n', 'g', 'l', 'e', ' ', 'm', 'a', 'n', ' ', 'i', 'n', ' ', 'p', 'o', 's', 's', 'e', 's', 's', 'i', 'o', 'n', ' ', 'o', 'f', ' ', 'a', ' ', 'g', 'o', 'o', 'd', ' ', 'f', 'o', 'r', 't', 'u', 'n', 'e', ' ', 'm', 'u', 's', 't', ' ', 'b', 'e', ' ', 'i', 'n', ' ', 'w', 'a', 'n', 't', ' ', 'o', 'f', ' ', 'a', ' ', 'G', 'o', 'o', 'd', ' ', 'w', 'i', 'f', 'e']\n"
     ]
    }
   ],
   "source": [
    "emp_lst = []\n",
    "for char in t:\n",
    "    if char not in string.punctuation:\n",
    "        emp_lst.append(char)\n",
    "\n",
    "print(emp_lst)"
   ]
  },
  {
   "cell_type": "code",
   "execution_count": 17,
   "id": "1fbdb063-f70d-43c1-b42d-9cc60f0c37e4",
   "metadata": {},
   "outputs": [
    {
     "data": {
      "text/plain": [
       "'It is a Truth Universally acknowledged that a single man in possession of a good fortune must be in want of a Good wife'"
      ]
     },
     "execution_count": 17,
     "metadata": {},
     "output_type": "execute_result"
    }
   ],
   "source": [
    "emp_lst = []\n",
    "for char in t:\n",
    "    if char not in string.punctuation:\n",
    "        emp_lst.append(char)\n",
    "\n",
    "t1 = \"\".join(emp_lst)\n",
    "t1"
   ]
  },
  {
   "cell_type": "code",
   "execution_count": 44,
   "id": "919f555f-ab16-49ff-bfa4-d3af343dceee",
   "metadata": {},
   "outputs": [
    {
     "data": {
      "text/plain": [
       "'It is a Truth Universally acknowledged that a single man in possession of a good fortune must be in want of a Good wife'"
      ]
     },
     "execution_count": 44,
     "metadata": {},
     "output_type": "execute_result"
    }
   ],
   "source": [
    "t2_punc_rem = \"\".join([char for char in t if char not in string.punctuation])\n",
    "t2_punc_rem"
   ]
  },
  {
   "cell_type": "code",
   "execution_count": 21,
   "id": "177e0d0d-3da9-4f36-88ca-a122f0ef26cc",
   "metadata": {},
   "outputs": [
    {
     "data": {
      "text/plain": [
       "'It is a Truth Universally acknowledged that a single man in possession of a good fortune must be in want of a Good wife'"
      ]
     },
     "execution_count": 21,
     "metadata": {},
     "output_type": "execute_result"
    }
   ],
   "source": [
    "t1"
   ]
  },
  {
   "cell_type": "code",
   "execution_count": 22,
   "id": "ccfd3d84-bb9c-4091-b1c1-01bd7f0c3b30",
   "metadata": {},
   "outputs": [
    {
     "data": {
      "text/plain": [
       "119"
      ]
     },
     "execution_count": 22,
     "metadata": {},
     "output_type": "execute_result"
    }
   ],
   "source": [
    "len(t1)"
   ]
  },
  {
   "cell_type": "markdown",
   "id": "81902ef2-aeba-4428-98c9-8edd22026882",
   "metadata": {},
   "source": [
    "# Notes:\n",
    "- 119 is the count of all the individual characters along with the spaces.\n",
    "-  I is 1, t is 2, \" \" is 3, i is 4, s is 5, \" \" is 6 and so on"
   ]
  },
  {
   "cell_type": "code",
   "execution_count": 24,
   "id": "64977fb6-9cf6-49c4-a0db-30559e13a71f",
   "metadata": {},
   "outputs": [
    {
     "data": {
      "text/plain": [
       "['It',\n",
       " 'is',\n",
       " 'a',\n",
       " 'Truth',\n",
       " 'Universally',\n",
       " 'acknowledged',\n",
       " 'that',\n",
       " 'a',\n",
       " 'single',\n",
       " 'man',\n",
       " 'in',\n",
       " 'possession',\n",
       " 'of',\n",
       " 'a',\n",
       " 'good',\n",
       " 'fortune',\n",
       " 'must',\n",
       " 'be',\n",
       " 'in',\n",
       " 'want',\n",
       " 'of',\n",
       " 'a',\n",
       " 'Good',\n",
       " 'wife']"
      ]
     },
     "execution_count": 24,
     "metadata": {},
     "output_type": "execute_result"
    }
   ],
   "source": [
    "t2 = t1.split(\" \")\n",
    "t2"
   ]
  },
  {
   "cell_type": "code",
   "execution_count": 25,
   "id": "b580d1c1-cb75-4c50-bed2-c8f7c33c7e9c",
   "metadata": {},
   "outputs": [
    {
     "data": {
      "text/plain": [
       "24"
      ]
     },
     "execution_count": 25,
     "metadata": {},
     "output_type": "execute_result"
    }
   ],
   "source": [
    "len(t2)"
   ]
  },
  {
   "cell_type": "markdown",
   "id": "ae4abda0-3b0a-4cf1-95dc-f2058fa72e3f",
   "metadata": {},
   "source": [
    "# Notes:\n",
    "- 24 is the count of all words present in the text. Here spaces are not considered in the total count"
   ]
  },
  {
   "cell_type": "code",
   "execution_count": 27,
   "id": "3d69a661-00bf-46f1-8fa4-564955ec5fda",
   "metadata": {},
   "outputs": [
    {
     "data": {
      "text/plain": [
       "{'Good',\n",
       " 'It',\n",
       " 'Truth',\n",
       " 'Universally',\n",
       " 'a',\n",
       " 'acknowledged',\n",
       " 'be',\n",
       " 'fortune',\n",
       " 'good',\n",
       " 'in',\n",
       " 'is',\n",
       " 'man',\n",
       " 'must',\n",
       " 'of',\n",
       " 'possession',\n",
       " 'single',\n",
       " 'that',\n",
       " 'want',\n",
       " 'wife'}"
      ]
     },
     "execution_count": 27,
     "metadata": {},
     "output_type": "execute_result"
    }
   ],
   "source": [
    "t3 = set(t2)\n",
    "t3"
   ]
  },
  {
   "cell_type": "code",
   "execution_count": 28,
   "id": "02819614-d3fc-4926-b8b1-98c9bfffe408",
   "metadata": {},
   "outputs": [
    {
     "data": {
      "text/plain": [
       "19"
      ]
     },
     "execution_count": 28,
     "metadata": {},
     "output_type": "execute_result"
    }
   ],
   "source": [
    "len(t3)"
   ]
  },
  {
   "cell_type": "code",
   "execution_count": 30,
   "id": "eaa9465a-211d-4873-b934-709324c0f0d5",
   "metadata": {},
   "outputs": [
    {
     "data": {
      "text/plain": [
       "{'a',\n",
       " 'acknowledged',\n",
       " 'be',\n",
       " 'fortune',\n",
       " 'good',\n",
       " 'in',\n",
       " 'is',\n",
       " 'it',\n",
       " 'man',\n",
       " 'must',\n",
       " 'of',\n",
       " 'possession',\n",
       " 'single',\n",
       " 'that',\n",
       " 'truth',\n",
       " 'universally',\n",
       " 'want',\n",
       " 'wife'}"
      ]
     },
     "execution_count": 30,
     "metadata": {},
     "output_type": "execute_result"
    }
   ],
   "source": [
    "t4 = set(t1.lower().split(\" \"))\n",
    "t4"
   ]
  },
  {
   "cell_type": "code",
   "execution_count": 31,
   "id": "3f9dfb31-13e5-4842-ac53-aa2debcf03b8",
   "metadata": {},
   "outputs": [
    {
     "data": {
      "text/plain": [
       "18"
      ]
     },
     "execution_count": 31,
     "metadata": {},
     "output_type": "execute_result"
    }
   ],
   "source": [
    "len(t4)"
   ]
  },
  {
   "cell_type": "markdown",
   "id": "7e080faa-28e3-4fac-9717-fa90fc22288d",
   "metadata": {},
   "source": [
    "# Notes:\n",
    "- To get the unique words from the text use set() and len()."
   ]
  },
  {
   "cell_type": "markdown",
   "id": "25fe718f-02c5-41e0-8619-677c58baa1c6",
   "metadata": {},
   "source": [
    "# Installing nltk library"
   ]
  },
  {
   "cell_type": "code",
   "execution_count": 18,
   "id": "5f8a93fd-71d9-402d-a580-3974eb62dc36",
   "metadata": {},
   "outputs": [
    {
     "name": "stdout",
     "output_type": "stream",
     "text": [
      "Requirement already satisfied: nltk in c:\\users\\amant\\anaconda3\\lib\\site-packages (3.8.1)\n",
      "Requirement already satisfied: click in c:\\users\\amant\\anaconda3\\lib\\site-packages (from nltk) (8.1.7)\n",
      "Requirement already satisfied: joblib in c:\\users\\amant\\anaconda3\\lib\\site-packages (from nltk) (1.2.0)\n",
      "Requirement already satisfied: regex>=2021.8.3 in c:\\users\\amant\\anaconda3\\lib\\site-packages (from nltk) (2023.10.3)\n",
      "Requirement already satisfied: tqdm in c:\\users\\amant\\anaconda3\\lib\\site-packages (from nltk) (4.65.0)\n",
      "Requirement already satisfied: colorama in c:\\users\\amant\\anaconda3\\lib\\site-packages (from click->nltk) (0.4.6)\n"
     ]
    },
    {
     "name": "stderr",
     "output_type": "stream",
     "text": [
      "Error processing line 3 of C:\\Users\\AMANT\\anaconda3\\lib\\site-packages\\googleapis_common_protos-1.56.4-py3.10-nspkg.pth:\n",
      "\n",
      "  Traceback (most recent call last):\n",
      "    File \"C:\\Users\\AMANT\\anaconda3\\lib\\site.py\", line 169, in addpackage\n",
      "      exec(line)\n",
      "    File \"<string>\", line 1, in <module>\n",
      "    File \"<frozen importlib._bootstrap>\", line 562, in module_from_spec\n",
      "  AttributeError: 'NoneType' object has no attribute 'loader'\n",
      "\n",
      "Remainder of file ignored\n"
     ]
    }
   ],
   "source": [
    "!pip install nltk"
   ]
  },
  {
   "cell_type": "code",
   "execution_count": 19,
   "id": "89981237-9047-42f5-a14d-6b687496f759",
   "metadata": {},
   "outputs": [],
   "source": [
    "import nltk"
   ]
  },
  {
   "cell_type": "code",
   "execution_count": 32,
   "id": "e47b471f-aebb-4bed-b239-eaac56e2d3da",
   "metadata": {},
   "outputs": [
    {
     "data": {
      "text/plain": [
       "'It is a Truth Universally acknowledged that a single man in possession of a good fortune must be in want of a Good wife'"
      ]
     },
     "execution_count": 32,
     "metadata": {},
     "output_type": "execute_result"
    }
   ],
   "source": [
    "t1"
   ]
  },
  {
   "cell_type": "code",
   "execution_count": 33,
   "id": "1a0ddf2b-8f2d-4d69-8c07-d36965620055",
   "metadata": {},
   "outputs": [
    {
     "data": {
      "text/plain": [
       "['It',\n",
       " 'is',\n",
       " 'a',\n",
       " 'Truth',\n",
       " 'Universally',\n",
       " 'acknowledged',\n",
       " 'that',\n",
       " 'a',\n",
       " 'single',\n",
       " 'man',\n",
       " 'in',\n",
       " 'possession',\n",
       " 'of',\n",
       " 'a',\n",
       " 'good',\n",
       " 'fortune',\n",
       " 'must',\n",
       " 'be',\n",
       " 'in',\n",
       " 'want',\n",
       " 'of',\n",
       " 'a',\n",
       " 'Good',\n",
       " 'wife']"
      ]
     },
     "execution_count": 33,
     "metadata": {},
     "output_type": "execute_result"
    }
   ],
   "source": [
    "from nltk.tokenize import word_tokenize\n",
    "text_tokenized = word_tokenize(t1)\n",
    "text_tokenized"
   ]
  },
  {
   "cell_type": "markdown",
   "id": "6f0b20e9-9168-49b7-9900-de497aac3562",
   "metadata": {},
   "source": [
    "# Notes:\n",
    "- Tokenizing in NLP means extracting a words(series of characters) from the text.\n",
    "- The output will be a list of words(tokens) in a list"
   ]
  },
  {
   "cell_type": "code",
   "execution_count": 34,
   "id": "ed47bc68-c25a-4f8e-b030-903acdc1f113",
   "metadata": {},
   "outputs": [
    {
     "data": {
      "text/plain": [
       "'This is a NLP basics session. This is a NLP basics session. NLP is a nice area of research. I am learning to analyze text data'"
      ]
     },
     "execution_count": 34,
     "metadata": {},
     "output_type": "execute_result"
    }
   ],
   "source": [
    "text5 = \"This is a NLP basics session. This is a NLP basics session. NLP is a nice area of research. I am learning to analyze text data\"\n",
    "text5"
   ]
  },
  {
   "cell_type": "code",
   "execution_count": 35,
   "id": "1ce4d7b3-9ccc-42be-8511-fc8abc4a4100",
   "metadata": {},
   "outputs": [
    {
     "data": {
      "text/plain": [
       "['This is a NLP basics session.',\n",
       " 'This is a NLP basics session.',\n",
       " 'NLP is a nice area of research.',\n",
       " 'I am learning to analyze text data']"
      ]
     },
     "execution_count": 35,
     "metadata": {},
     "output_type": "execute_result"
    }
   ],
   "source": [
    "from nltk import sent_tokenize\n",
    "sent_tokenize(text5)"
   ]
  },
  {
   "cell_type": "markdown",
   "id": "11770a6d-2ac0-444f-b8fa-93f56e581eed",
   "metadata": {},
   "source": [
    "# Notes:\n",
    "- The output of a sent_tokenize will be a list of sentences(collection of tokens).\n",
    "  "
   ]
  },
  {
   "cell_type": "markdown",
   "id": "bb56c971-2a70-48dc-b22f-5e95d72f1216",
   "metadata": {},
   "source": [
    "# Stops Words filtering:\n",
    "- Stop Words are connecting words used in a sentence which individually do not have any meaning. eg: (the, and, this, were, etc.)\n",
    "  "
   ]
  },
  {
   "cell_type": "code",
   "execution_count": 38,
   "id": "e4bd4988-9870-4a24-a27b-b5939f00f974",
   "metadata": {},
   "outputs": [
    {
     "name": "stdout",
     "output_type": "stream",
     "text": [
      "['i', 'me', 'my', 'myself', 'we', 'our', 'ours', 'ourselves', 'you', \"you're\", \"you've\", \"you'll\", \"you'd\", 'your', 'yours', 'yourself', 'yourselves', 'he', 'him', 'his', 'himself', 'she', \"she's\", 'her', 'hers', 'herself', 'it', \"it's\", 'its', 'itself', 'they', 'them', 'their', 'theirs', 'themselves', 'what', 'which', 'who', 'whom', 'this', 'that', \"that'll\", 'these', 'those', 'am', 'is', 'are', 'was', 'were', 'be', 'been', 'being', 'have', 'has', 'had', 'having', 'do', 'does', 'did', 'doing', 'a', 'an', 'the', 'and', 'but', 'if', 'or', 'because', 'as', 'until', 'while', 'of', 'at', 'by', 'for', 'with', 'about', 'against', 'between', 'into', 'through', 'during', 'before', 'after', 'above', 'below', 'to', 'from', 'up', 'down', 'in', 'out', 'on', 'off', 'over', 'under', 'again', 'further', 'then', 'once', 'here', 'there', 'when', 'where', 'why', 'how', 'all', 'any', 'both', 'each', 'few', 'more', 'most', 'other', 'some', 'such', 'no', 'nor', 'not', 'only', 'own', 'same', 'so', 'than', 'too', 'very', 's', 't', 'can', 'will', 'just', 'don', \"don't\", 'should', \"should've\", 'now', 'd', 'll', 'm', 'o', 're', 've', 'y', 'ain', 'aren', \"aren't\", 'couldn', \"couldn't\", 'didn', \"didn't\", 'doesn', \"doesn't\", 'hadn', \"hadn't\", 'hasn', \"hasn't\", 'haven', \"haven't\", 'isn', \"isn't\", 'ma', 'mightn', \"mightn't\", 'mustn', \"mustn't\", 'needn', \"needn't\", 'shan', \"shan't\", 'shouldn', \"shouldn't\", 'wasn', \"wasn't\", 'weren', \"weren't\", 'won', \"won't\", 'wouldn', \"wouldn't\"]\n"
     ]
    }
   ],
   "source": [
    "from nltk.corpus import stopwords\n",
    "stop_words = stopwords.words(\"english\")\n",
    "print(stop_words)"
   ]
  },
  {
   "cell_type": "code",
   "execution_count": 39,
   "id": "83eb7a7d-2be7-4bde-a583-2471f598704c",
   "metadata": {},
   "outputs": [
    {
     "data": {
      "text/plain": [
       "179"
      ]
     },
     "execution_count": 39,
     "metadata": {},
     "output_type": "execute_result"
    }
   ],
   "source": [
    "len(stop_words)"
   ]
  },
  {
   "cell_type": "markdown",
   "id": "89006c28-a9ee-4fdb-a1a1-e9f3b1623cbb",
   "metadata": {},
   "source": [
    "## Stopword Removal\n",
    "1. Define an empty list - Collect all the words expect stop words\n",
    "2. Perform word tokenization - To get a list of all words from the text.\n",
    "3. Use for loop to extract each token from the list of text from step 2.\n",
    "4. Use a condition to ignore the stop words appearing in stopwords.words(\"english\")\n",
    "5. Use the join method on the empty list to get a text without stop words"
   ]
  },
  {
   "cell_type": "code",
   "execution_count": 42,
   "id": "92107cab-9e7c-447f-8ea1-6c11265fee4f",
   "metadata": {},
   "outputs": [
    {
     "name": "stdout",
     "output_type": "stream",
     "text": [
      "It Truth Universally acknowledged single man possession good fortune must want Good wife\n"
     ]
    }
   ],
   "source": [
    "lst = []\n",
    "for word in word_tokenize(t1):\n",
    "    if word not in stopwords.words(\"english\"):\n",
    "        lst.append(word)\n",
    "\n",
    "t1_modified = \" \".join(lst)\n",
    "print(t1_modified)"
   ]
  },
  {
   "cell_type": "code",
   "execution_count": 43,
   "id": "70f0ee02-5cfb-4d61-b044-724d85a9816e",
   "metadata": {},
   "outputs": [
    {
     "data": {
      "text/plain": [
       "'It Truth Universally acknowledged single man possession good fortune must want Good wife'"
      ]
     },
     "execution_count": 43,
     "metadata": {},
     "output_type": "execute_result"
    }
   ],
   "source": [
    "t2_modeified = \" \".join([word for word in word_tokenize(t1) if word not in stopwords.words(\"english\")])\n",
    "t2_modeified"
   ]
  },
  {
   "cell_type": "code",
   "execution_count": null,
   "id": "a42e8cf6-f4e3-4a16-afdc-06a966a2354a",
   "metadata": {},
   "outputs": [],
   "source": [
    "lst = []\n",
    "for\n",
    "    if\n",
    "        lst.append(word)"
   ]
  },
  {
   "cell_type": "code",
   "execution_count": null,
   "id": "9d7e4b43-e474-45b3-8831-4e23ac20dee5",
   "metadata": {},
   "outputs": [],
   "source": [
    "[word for if]"
   ]
  },
  {
   "cell_type": "code",
   "execution_count": 45,
   "id": "228d2663-451c-4494-9795-8b704c034f39",
   "metadata": {},
   "outputs": [
    {
     "data": {
      "text/plain": [
       "'It is a Truth Universally acknowledged that a single man in possession of a good fortune must be in want of a Good wife'"
      ]
     },
     "execution_count": 45,
     "metadata": {},
     "output_type": "execute_result"
    }
   ],
   "source": [
    "t1"
   ]
  },
  {
   "cell_type": "code",
   "execution_count": 46,
   "id": "e372a048-6039-4640-b89f-4f19dd312644",
   "metadata": {},
   "outputs": [
    {
     "data": {
      "text/plain": [
       "FreqDist({' ': 23, 'o': 10, 'a': 9, 'n': 9, 's': 8, 'e': 8, 't': 7, 'i': 7, 'l': 4, 'd': 4, ...})"
      ]
     },
     "execution_count": 46,
     "metadata": {},
     "output_type": "execute_result"
    }
   ],
   "source": [
    "nltk.FreqDist(t1)"
   ]
  },
  {
   "cell_type": "markdown",
   "id": "ccb006a7-e20d-4fe7-b606-5d853bb67841",
   "metadata": {},
   "source": [
    "# Notes:\n",
    "- The total count of each char appearing in the text is displayed\n",
    "- The output is already present in sorted order\n",
    "- When the count is same it will display the char in alphabetical order"
   ]
  },
  {
   "cell_type": "code",
   "execution_count": 47,
   "id": "1b7e8d95-aa46-4c70-9938-c1cbbf2e4106",
   "metadata": {},
   "outputs": [
    {
     "data": {
      "text/plain": [
       "FreqDist({'a': 4, 'in': 2, 'of': 2, 'It': 1, 'is': 1, 'Truth': 1, 'Universally': 1, 'acknowledged': 1, 'that': 1, 'single': 1, ...})"
      ]
     },
     "execution_count": 47,
     "metadata": {},
     "output_type": "execute_result"
    }
   ],
   "source": [
    "nltk.FreqDist(t1.split(\" \"))"
   ]
  },
  {
   "cell_type": "markdown",
   "id": "5963ecd1-c2d6-42f3-86a9-dc19c9fd0b04",
   "metadata": {},
   "source": [
    "# Notes:\n",
    "- Total count of each token appearing in the text\n",
    "- Output is in sorted order and if the count is same the it should be in alphabetical order "
   ]
  },
  {
   "cell_type": "code",
   "execution_count": null,
   "id": "2fe85f8f-34d9-4c3d-a146-4205b08aada7",
   "metadata": {},
   "outputs": [],
   "source": []
  }
 ],
 "metadata": {
  "kernelspec": {
   "display_name": "Python 3 (ipykernel)",
   "language": "python",
   "name": "python3"
  },
  "language_info": {
   "codemirror_mode": {
    "name": "ipython",
    "version": 3
   },
   "file_extension": ".py",
   "mimetype": "text/x-python",
   "name": "python",
   "nbconvert_exporter": "python",
   "pygments_lexer": "ipython3",
   "version": "3.9.18"
  }
 },
 "nbformat": 4,
 "nbformat_minor": 5
}
